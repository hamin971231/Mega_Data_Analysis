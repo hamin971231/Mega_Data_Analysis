{
 "cells": [
  {
   "cell_type": "code",
   "execution_count": 1,
   "metadata": {},
   "outputs": [],
   "source": [
    "import pandas as pd\n",
    "import numpy as np\n",
    "import pyproj\n",
    "import folium"
   ]
  },
  {
   "cell_type": "code",
   "execution_count": 3,
   "metadata": {},
   "outputs": [],
   "source": [
    "df = pd.read_excel(\"관악구_게임제공업.xlsx\",\n",
    "                 usecols=['좌표정보(X)','좌표정보(Y)'])"
   ]
  },
  {
   "cell_type": "code",
   "execution_count": 4,
   "metadata": {},
   "outputs": [
    {
     "data": {
      "text/html": [
       "<div>\n",
       "<style scoped>\n",
       "    .dataframe tbody tr th:only-of-type {\n",
       "        vertical-align: middle;\n",
       "    }\n",
       "\n",
       "    .dataframe tbody tr th {\n",
       "        vertical-align: top;\n",
       "    }\n",
       "\n",
       "    .dataframe thead th {\n",
       "        text-align: right;\n",
       "    }\n",
       "</style>\n",
       "<table border=\"1\" class=\"dataframe\">\n",
       "  <thead>\n",
       "    <tr style=\"text-align: right;\">\n",
       "      <th></th>\n",
       "      <th>좌표정보(X)</th>\n",
       "      <th>좌표정보(Y)</th>\n",
       "    </tr>\n",
       "  </thead>\n",
       "  <tbody>\n",
       "    <tr>\n",
       "      <th>0</th>\n",
       "      <td>NaN</td>\n",
       "      <td>NaN</td>\n",
       "    </tr>\n",
       "    <tr>\n",
       "      <th>1</th>\n",
       "      <td>192444.755615</td>\n",
       "      <td>442172.384964</td>\n",
       "    </tr>\n",
       "    <tr>\n",
       "      <th>2</th>\n",
       "      <td>193651.40079</td>\n",
       "      <td>442694.194138</td>\n",
       "    </tr>\n",
       "    <tr>\n",
       "      <th>3</th>\n",
       "      <td>194941.905784</td>\n",
       "      <td>442377.293915</td>\n",
       "    </tr>\n",
       "    <tr>\n",
       "      <th>4</th>\n",
       "      <td>193491.109023</td>\n",
       "      <td>442451.099936</td>\n",
       "    </tr>\n",
       "    <tr>\n",
       "      <th>...</th>\n",
       "      <td>...</td>\n",
       "      <td>...</td>\n",
       "    </tr>\n",
       "    <tr>\n",
       "      <th>1136</th>\n",
       "      <td>NaN</td>\n",
       "      <td>195845.67044</td>\n",
       "    </tr>\n",
       "    <tr>\n",
       "      <th>1137</th>\n",
       "      <td>NaN</td>\n",
       "      <td>192393.663311</td>\n",
       "    </tr>\n",
       "    <tr>\n",
       "      <th>1138</th>\n",
       "      <td>NaN</td>\n",
       "      <td>195845.67044</td>\n",
       "    </tr>\n",
       "    <tr>\n",
       "      <th>1139</th>\n",
       "      <td>NaN</td>\n",
       "      <td>192360.94157</td>\n",
       "    </tr>\n",
       "    <tr>\n",
       "      <th>1140</th>\n",
       "      <td>NaN</td>\n",
       "      <td>193746.833838</td>\n",
       "    </tr>\n",
       "  </tbody>\n",
       "</table>\n",
       "<p>1141 rows × 2 columns</p>\n",
       "</div>"
      ],
      "text/plain": [
       "            좌표정보(X)        좌표정보(Y)\n",
       "0               NaN            NaN\n",
       "1     192444.755615  442172.384964\n",
       "2      193651.40079  442694.194138\n",
       "3     194941.905784  442377.293915\n",
       "4     193491.109023  442451.099936\n",
       "...             ...            ...\n",
       "1136            NaN   195845.67044\n",
       "1137            NaN  192393.663311\n",
       "1138            NaN   195845.67044\n",
       "1139            NaN   192360.94157\n",
       "1140            NaN  193746.833838\n",
       "\n",
       "[1141 rows x 2 columns]"
      ]
     },
     "execution_count": 4,
     "metadata": {},
     "output_type": "execute_result"
    }
   ],
   "source": [
    "df"
   ]
  },
  {
   "cell_type": "code",
   "execution_count": 5,
   "metadata": {},
   "outputs": [
    {
     "data": {
      "text/html": [
       "<div>\n",
       "<style scoped>\n",
       "    .dataframe tbody tr th:only-of-type {\n",
       "        vertical-align: middle;\n",
       "    }\n",
       "\n",
       "    .dataframe tbody tr th {\n",
       "        vertical-align: top;\n",
       "    }\n",
       "\n",
       "    .dataframe thead th {\n",
       "        text-align: right;\n",
       "    }\n",
       "</style>\n",
       "<table border=\"1\" class=\"dataframe\">\n",
       "  <thead>\n",
       "    <tr style=\"text-align: right;\">\n",
       "      <th></th>\n",
       "      <th>좌표정보(X)</th>\n",
       "      <th>좌표정보(Y)</th>\n",
       "    </tr>\n",
       "  </thead>\n",
       "  <tbody>\n",
       "    <tr>\n",
       "      <th>966</th>\n",
       "      <td>193715.720947</td>\n",
       "      <td>442661.600592</td>\n",
       "    </tr>\n",
       "    <tr>\n",
       "      <th>967</th>\n",
       "      <td>198284.078546</td>\n",
       "      <td>441368.909287</td>\n",
       "    </tr>\n",
       "    <tr>\n",
       "      <th>968</th>\n",
       "      <td>193830.041992</td>\n",
       "      <td>442558.345298</td>\n",
       "    </tr>\n",
       "    <tr>\n",
       "      <th>969</th>\n",
       "      <td>193603.719194</td>\n",
       "      <td>442466.211019</td>\n",
       "    </tr>\n",
       "    <tr>\n",
       "      <th>970</th>\n",
       "      <td>193898.694558</td>\n",
       "      <td>442510.166080</td>\n",
       "    </tr>\n",
       "  </tbody>\n",
       "</table>\n",
       "</div>"
      ],
      "text/plain": [
       "           좌표정보(X)        좌표정보(Y)\n",
       "966  193715.720947  442661.600592\n",
       "967  198284.078546  441368.909287\n",
       "968  193830.041992  442558.345298\n",
       "969  193603.719194  442466.211019\n",
       "970  193898.694558  442510.166080"
      ]
     },
     "execution_count": 5,
     "metadata": {},
     "output_type": "execute_result"
    }
   ],
   "source": [
    "df['좌표정보(X)'] = pd.to_numeric(df['좌표정보(X)'], errors=\"coerce\")\n",
    "df['좌표정보(Y)'] = pd.to_numeric(df['좌표정보(Y)'], errors=\"coerce\")\n",
    "\n",
    "df = df.dropna()\n",
    "df.index=range(len(df))\n",
    "df.tail()"
   ]
  },
  {
   "cell_type": "code",
   "execution_count": 6,
   "metadata": {},
   "outputs": [],
   "source": [
    "def project_array(coord, p1_type, p2_type):\n",
    "\n",
    "    p1 = pyproj.Proj(init=p1_type)\n",
    "    p2 = pyproj.Proj(init=p2_type)\n",
    "    fx, fy = pyproj.transform(p1, p2, coord[:, 0], coord[:, 1])\n",
    "    return np.dstack([fx, fy])[0]"
   ]
  },
  {
   "cell_type": "code",
   "execution_count": 7,
   "metadata": {},
   "outputs": [
    {
     "data": {
      "text/plain": [
       "array([[192444.75561451, 442172.38496401],\n",
       "       [193651.40079015, 442694.19413771],\n",
       "       [194941.90578441, 442377.29391494],\n",
       "       ...,\n",
       "       [193830.04199207, 442558.34529806],\n",
       "       [193603.71919359, 442466.21101938],\n",
       "       [193898.69455777, 442510.16608   ]])"
      ]
     },
     "execution_count": 7,
     "metadata": {},
     "output_type": "execute_result"
    }
   ],
   "source": [
    "coord = np.array(df)\n",
    "coord"
   ]
  },
  {
   "cell_type": "code",
   "execution_count": 8,
   "metadata": {},
   "outputs": [
    {
     "name": "stderr",
     "output_type": "stream",
     "text": [
      "c:\\Users\\user\\AppData\\Local\\Programs\\Python\\Python311\\Lib\\site-packages\\pyproj\\crs\\crs.py:141: FutureWarning: '+init=<authority>:<code>' syntax is deprecated. '<authority>:<code>' is the preferred initialization method. When making the change, be mindful of axis order changes: https://pyproj4.github.io/pyproj/stable/gotchas.html#axis-order-changes-in-proj-6\n",
      "  in_crs_string = _prepare_from_proj_string(in_crs_string)\n",
      "c:\\Users\\user\\AppData\\Local\\Programs\\Python\\Python311\\Lib\\site-packages\\pyproj\\crs\\crs.py:141: FutureWarning: '+init=<authority>:<code>' syntax is deprecated. '<authority>:<code>' is the preferred initialization method. When making the change, be mindful of axis order changes: https://pyproj4.github.io/pyproj/stable/gotchas.html#axis-order-changes-in-proj-6\n",
      "  in_crs_string = _prepare_from_proj_string(in_crs_string)\n",
      "C:\\Users\\user\\AppData\\Local\\Temp\\ipykernel_11292\\2093212355.py:10: FutureWarning: This function is deprecated. See: https://pyproj4.github.io/pyproj/stable/gotchas.html#upgrading-to-pyproj-2-from-pyproj-1\n",
      "  fx, fy = pyproj.transform(p1, p2, coord[:, 0], coord[:, 1])\n"
     ]
    },
    {
     "data": {
      "text/plain": [
       "array([[126.91247826,  37.48171008],\n",
       "       [126.92611617,  37.48642074],\n",
       "       [126.94070987,  37.48357352],\n",
       "       ...,\n",
       "       [126.92813718,  37.48519796],\n",
       "       [126.92557904,  37.48436628],\n",
       "       [126.92891381,  37.48476433]])"
      ]
     },
     "execution_count": 8,
     "metadata": {},
     "output_type": "execute_result"
    }
   ],
   "source": [
    "p1_type = \"epsg:2097\"\n",
    "p2_type = \"epsg:4326\"\n",
    "\n",
    "result = project_array(coord, p1_type, p2_type)\n",
    "result"
   ]
  },
  {
   "cell_type": "code",
   "execution_count": null,
   "metadata": {},
   "outputs": [],
   "source": []
  }
 ],
 "metadata": {
  "kernelspec": {
   "display_name": "Python 3",
   "language": "python",
   "name": "python3"
  },
  "language_info": {
   "codemirror_mode": {
    "name": "ipython",
    "version": 3
   },
   "file_extension": ".py",
   "mimetype": "text/x-python",
   "name": "python",
   "nbconvert_exporter": "python",
   "pygments_lexer": "ipython3",
   "version": "3.9.13"
  },
  "orig_nbformat": 4
 },
 "nbformat": 4,
 "nbformat_minor": 2
}
