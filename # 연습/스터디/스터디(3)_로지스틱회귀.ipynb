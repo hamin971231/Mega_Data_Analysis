{
 "cells": [
  {
   "cell_type": "markdown",
   "metadata": {},
   "source": [
    "# 로지스틱 회귀\n",
    "\n",
    "## KNN 알고리즘\n"
   ]
  },
  {
   "cell_type": "markdown",
   "metadata": {},
   "source": [
    "### 데이터 준비"
   ]
  },
  {
   "cell_type": "code",
   "execution_count": 1,
   "metadata": {},
   "outputs": [
    {
     "data": {
      "text/html": [
       "<div>\n",
       "<style scoped>\n",
       "    .dataframe tbody tr th:only-of-type {\n",
       "        vertical-align: middle;\n",
       "    }\n",
       "\n",
       "    .dataframe tbody tr th {\n",
       "        vertical-align: top;\n",
       "    }\n",
       "\n",
       "    .dataframe thead th {\n",
       "        text-align: right;\n",
       "    }\n",
       "</style>\n",
       "<table border=\"1\" class=\"dataframe\">\n",
       "  <thead>\n",
       "    <tr style=\"text-align: right;\">\n",
       "      <th></th>\n",
       "      <th>Species</th>\n",
       "      <th>Weight</th>\n",
       "      <th>Length</th>\n",
       "      <th>Diagonal</th>\n",
       "      <th>Height</th>\n",
       "      <th>Width</th>\n",
       "    </tr>\n",
       "  </thead>\n",
       "  <tbody>\n",
       "    <tr>\n",
       "      <th>0</th>\n",
       "      <td>Bream</td>\n",
       "      <td>242.0</td>\n",
       "      <td>25.4</td>\n",
       "      <td>30.0</td>\n",
       "      <td>11.5200</td>\n",
       "      <td>4.0200</td>\n",
       "    </tr>\n",
       "    <tr>\n",
       "      <th>1</th>\n",
       "      <td>Bream</td>\n",
       "      <td>290.0</td>\n",
       "      <td>26.3</td>\n",
       "      <td>31.2</td>\n",
       "      <td>12.4800</td>\n",
       "      <td>4.3056</td>\n",
       "    </tr>\n",
       "    <tr>\n",
       "      <th>2</th>\n",
       "      <td>Bream</td>\n",
       "      <td>340.0</td>\n",
       "      <td>26.5</td>\n",
       "      <td>31.1</td>\n",
       "      <td>12.3778</td>\n",
       "      <td>4.6961</td>\n",
       "    </tr>\n",
       "    <tr>\n",
       "      <th>3</th>\n",
       "      <td>Bream</td>\n",
       "      <td>363.0</td>\n",
       "      <td>29.0</td>\n",
       "      <td>33.5</td>\n",
       "      <td>12.7300</td>\n",
       "      <td>4.4555</td>\n",
       "    </tr>\n",
       "    <tr>\n",
       "      <th>4</th>\n",
       "      <td>Bream</td>\n",
       "      <td>430.0</td>\n",
       "      <td>29.0</td>\n",
       "      <td>34.0</td>\n",
       "      <td>12.4440</td>\n",
       "      <td>5.1340</td>\n",
       "    </tr>\n",
       "  </tbody>\n",
       "</table>\n",
       "</div>"
      ],
      "text/plain": [
       "  Species  Weight  Length  Diagonal   Height   Width\n",
       "0   Bream   242.0    25.4      30.0  11.5200  4.0200\n",
       "1   Bream   290.0    26.3      31.2  12.4800  4.3056\n",
       "2   Bream   340.0    26.5      31.1  12.3778  4.6961\n",
       "3   Bream   363.0    29.0      33.5  12.7300  4.4555\n",
       "4   Bream   430.0    29.0      34.0  12.4440  5.1340"
      ]
     },
     "execution_count": 1,
     "metadata": {},
     "output_type": "execute_result"
    }
   ],
   "source": [
    "import pandas as pd \n",
    "fish = pd.read_csv('https://bit.ly/fish_csv_data')\n",
    "fish.head()"
   ]
  },
  {
   "cell_type": "markdown",
   "metadata": {},
   "source": [
    "### 종속변수 확인"
   ]
  },
  {
   "cell_type": "code",
   "execution_count": 2,
   "metadata": {},
   "outputs": [
    {
     "data": {
      "text/plain": [
       "array(['Bream', 'Roach', 'Whitefish', 'Parkki', 'Perch', 'Pike', 'Smelt'],\n",
       "      dtype=object)"
      ]
     },
     "execution_count": 2,
     "metadata": {},
     "output_type": "execute_result"
    }
   ],
   "source": [
    "fish['Species'].unique()"
   ]
  },
  {
   "cell_type": "code",
   "execution_count": 3,
   "metadata": {},
   "outputs": [
    {
     "data": {
      "text/plain": [
       "Index(['Species', 'Weight', 'Length', 'Diagonal', 'Height', 'Width'], dtype='object')"
      ]
     },
     "execution_count": 3,
     "metadata": {},
     "output_type": "execute_result"
    }
   ],
   "source": [
    "fish.columns"
   ]
  },
  {
   "cell_type": "markdown",
   "metadata": {},
   "source": [
    "### 독립변수의 형변환"
   ]
  },
  {
   "cell_type": "code",
   "execution_count": 4,
   "metadata": {},
   "outputs": [
    {
     "name": "stdout",
     "output_type": "stream",
     "text": [
      "[[242.      25.4     30.      11.52     4.02  ]\n",
      " [290.      26.3     31.2     12.48     4.3056]\n",
      " [340.      26.5     31.1     12.3778   4.6961]\n",
      " [363.      29.      33.5     12.73     4.4555]\n",
      " [430.      29.      34.      12.444    5.134 ]]\n"
     ]
    }
   ],
   "source": [
    "fish_input = fish.iloc[:,1:].to_numpy()\n",
    "print(fish_input[:5])"
   ]
  },
  {
   "cell_type": "code",
   "execution_count": 5,
   "metadata": {},
   "outputs": [],
   "source": [
    "\n",
    "fish_target = fish['Species'].to_numpy()\n"
   ]
  },
  {
   "cell_type": "markdown",
   "metadata": {},
   "source": [
    "### 훈련 - 검증 데이터 분할"
   ]
  },
  {
   "cell_type": "code",
   "execution_count": 6,
   "metadata": {},
   "outputs": [],
   "source": [
    "from sklearn.model_selection import train_test_split\n",
    "x_train,x_test,y_train,y_test = train_test_split(fish_input,fish_target,test_size=0.3,random_state=314)"
   ]
  },
  {
   "cell_type": "markdown",
   "metadata": {},
   "source": [
    "### 표준화"
   ]
  },
  {
   "cell_type": "code",
   "execution_count": 7,
   "metadata": {},
   "outputs": [],
   "source": [
    "from sklearn.preprocessing import StandardScaler\n",
    "scaler = StandardScaler()\n",
    "\n",
    "x_train_scaled = scaler.fit_transform(x_train)\n",
    "x_test_scaled = scaler.fit_transform(x_test)\n"
   ]
  },
  {
   "cell_type": "markdown",
   "metadata": {},
   "source": [
    "### k-최근접 이웃 분류기"
   ]
  },
  {
   "cell_type": "code",
   "execution_count": 8,
   "metadata": {},
   "outputs": [
    {
     "name": "stdout",
     "output_type": "stream",
     "text": [
      "0.8558558558558559\n",
      "0.8125\n"
     ]
    }
   ],
   "source": [
    "# k-최근접 이웃 분류기 : 클래스 확률을 계산하여 제공\n",
    "\n",
    "from sklearn.neighbors import KNeighborsClassifier\n",
    "knc= KNeighborsClassifier(n_neighbors=3)\n",
    "knc.fit(x_train_scaled,y_train)\n",
    "\n",
    "print(knc.score(x_train_scaled,y_train))\n",
    "print(knc.score(x_test_scaled,y_test))\n"
   ]
  },
  {
   "cell_type": "code",
   "execution_count": 9,
   "metadata": {},
   "outputs": [
    {
     "name": "stdout",
     "output_type": "stream",
     "text": [
      "['Bream' 'Parkki' 'Perch' 'Pike' 'Roach' 'Smelt' 'Whitefish']\n"
     ]
    }
   ],
   "source": [
    "print(knc.classes_)"
   ]
  },
  {
   "cell_type": "code",
   "execution_count": 10,
   "metadata": {},
   "outputs": [
    {
     "name": "stdout",
     "output_type": "stream",
     "text": [
      "['Pike' 'Perch' 'Roach' 'Perch' 'Parkki']\n"
     ]
    }
   ],
   "source": [
    "print(knc.predict(x_test_scaled[:5]))"
   ]
  },
  {
   "cell_type": "markdown",
   "metadata": {},
   "source": [
    "### 클래스에 속할 확률"
   ]
  },
  {
   "cell_type": "code",
   "execution_count": 11,
   "metadata": {},
   "outputs": [
    {
     "name": "stdout",
     "output_type": "stream",
     "text": [
      "[[0.      0.      0.      1.      0.      0.      0.     ]\n",
      " [0.      0.      1.      0.      0.      0.      0.     ]\n",
      " [0.      0.      0.      0.      1.      0.      0.     ]\n",
      " [0.      0.      0.66667 0.      0.33333 0.      0.     ]\n",
      " [0.33333 0.66667 0.      0.      0.      0.      0.     ]]\n"
     ]
    }
   ],
   "source": [
    "import numpy as np\n",
    "proba = knc.predict_proba(x_test_scaled[:5])\n",
    "print(np.round(proba,decimals=5))"
   ]
  },
  {
   "cell_type": "markdown",
   "metadata": {},
   "source": [
    "## 로지스틱 회귀"
   ]
  },
  {
   "cell_type": "markdown",
   "metadata": {},
   "source": [
    "### 시그묑드 함수"
   ]
  },
  {
   "cell_type": "code",
   "execution_count": 12,
   "metadata": {},
   "outputs": [
    {
     "data": {
      "image/png": "[encoded data removed]",
      "text/plain": [
       "<Figure size 640x480 with 1 Axes>"
      ]
     },
     "metadata": {},
     "output_type": "display_data"
    }
   ],
   "source": [
    "import numpy as np \n",
    "import matplotlib.pyplot as plt\n",
    "z = np.arange(-5,5,0.1)\n",
    "phi = 1/(1+np.exp(-z))\n",
    "plt.plot(z,phi)\n",
    "plt.xlabel('z')\n",
    "plt.ylabel('phi')\n",
    "plt.show()"
   ]
  },
  {
   "cell_type": "code",
   "execution_count": 13,
   "metadata": {},
   "outputs": [
    {
     "data": {
      "text/plain": [
       "array(['Pike', 'Perch', 'Bream', 'Perch', 'Perch', 'Bream', 'Bream',\n",
       "       'Roach', 'Perch', 'Bream', 'Bream', 'Bream', 'Roach', 'Pike',\n",
       "       'Roach', 'Parkki', 'Perch', 'Perch', 'Parkki', 'Roach', 'Roach',\n",
       "       'Bream', 'Bream', 'Bream', 'Perch', 'Roach', 'Perch', 'Bream',\n",
       "       'Perch', 'Roach', 'Bream', 'Perch', 'Smelt', 'Parkki', 'Perch',\n",
       "       'Whitefish', 'Perch', 'Smelt', 'Perch', 'Perch', 'Pike', 'Perch',\n",
       "       'Bream', 'Bream', 'Smelt', 'Roach', 'Perch', 'Roach', 'Perch',\n",
       "       'Whitefish', 'Pike', 'Perch', 'Parkki', 'Perch', 'Bream', 'Bream',\n",
       "       'Perch', 'Whitefish', 'Smelt', 'Pike', 'Perch', 'Perch', 'Bream',\n",
       "       'Bream', 'Bream', 'Pike', 'Perch', 'Perch', 'Pike', 'Smelt',\n",
       "       'Perch', 'Pike', 'Perch', 'Smelt', 'Parkki', 'Perch', 'Perch',\n",
       "       'Pike', 'Perch', 'Roach', 'Pike', 'Whitefish', 'Perch', 'Bream',\n",
       "       'Roach', 'Perch', 'Smelt', 'Smelt', 'Parkki', 'Roach', 'Roach',\n",
       "       'Parkki', 'Bream', 'Perch', 'Smelt', 'Perch', 'Parkki', 'Perch',\n",
       "       'Bream', 'Perch', 'Smelt', 'Perch', 'Perch', 'Parkki', 'Smelt',\n",
       "       'Perch', 'Bream', 'Roach', 'Perch', 'Perch', 'Bream'], dtype=object)"
      ]
     },
     "execution_count": 13,
     "metadata": {},
     "output_type": "execute_result"
    }
   ],
   "source": [
    "y_train"
   ]
  },
  {
   "cell_type": "code",
   "execution_count": 14,
   "metadata": {},
   "outputs": [],
   "source": [
    "bream_smelt_index = (y_train == 'Bream')| (y_train == 'Smelt')\n",
    "\n",
    "x_train_scaled = x_train_scaled[bream_smelt_index]\n",
    "y_train = y_train[bream_smelt_index]\n"
   ]
  },
  {
   "cell_type": "code",
   "execution_count": null,
   "metadata": {},
   "outputs": [],
   "source": [
    "\n"
   ]
  },
  {
   "cell_type": "code",
   "execution_count": 15,
   "metadata": {},
   "outputs": [
    {
     "data": {
      "text/html": [
       "<style>#sk-container-id-1 {color: black;}#sk-container-id-1 pre{padding: 0;}#sk-container-id-1 div.sk-toggleable {background-color: white;}#sk-container-id-1 label.sk-toggleable__label {cursor: pointer;display: block;width: 100%;margin-bottom: 0;padding: 0.3em;box-sizing: border-box;text-align: center;}#sk-container-id-1 label.sk-toggleable__label-arrow:before {content: \"▸\";float: left;margin-right: 0.25em;color: #696969;}#sk-container-id-1 label.sk-toggleable__label-arrow:hover:before {color: black;}#sk-container-id-1 div.sk-estimator:hover label.sk-toggleable__label-arrow:before {color: black;}#sk-container-id-1 div.sk-toggleable__content {max-height: 0;max-width: 0;overflow: hidden;text-align: left;background-color: #f0f8ff;}#sk-container-id-1 div.sk-toggleable__content pre {margin: 0.2em;color: black;border-radius: 0.25em;background-color: #f0f8ff;}#sk-container-id-1 input.sk-toggleable__control:checked~div.sk-toggleable__content {max-height: 200px;max-width: 100%;overflow: auto;}#sk-container-id-1 input.sk-toggleable__control:checked~label.sk-toggleable__label-arrow:before {content: \"▾\";}#sk-container-id-1 div.sk-estimator input.sk-toggleable__control:checked~label.sk-toggleable__label {background-color: #d4ebff;}#sk-container-id-1 div.sk-label input.sk-toggleable__control:checked~label.sk-toggleable__label {background-color: #d4ebff;}#sk-container-id-1 input.sk-hidden--visually {border: 0;clip: rect(1px 1px 1px 1px);clip: rect(1px, 1px, 1px, 1px);height: 1px;margin: -1px;overflow: hidden;padding: 0;position: absolute;width: 1px;}#sk-container-id-1 div.sk-estimator {font-family: monospace;background-color: #f0f8ff;border: 1px dotted black;border-radius: 0.25em;box-sizing: border-box;margin-bottom: 0.5em;}#sk-container-id-1 div.sk-estimator:hover {background-color: #d4ebff;}#sk-container-id-1 div.sk-parallel-item::after {content: \"\";width: 100%;border-bottom: 1px solid gray;flex-grow: 1;}#sk-container-id-1 div.sk-label:hover label.sk-toggleable__label {background-color: #d4ebff;}#sk-container-id-1 div.sk-serial::before {content: \"\";position: absolute;border-left: 1px solid gray;box-sizing: border-box;top: 0;bottom: 0;left: 50%;z-index: 0;}#sk-container-id-1 div.sk-serial {display: flex;flex-direction: column;align-items: center;background-color: white;padding-right: 0.2em;padding-left: 0.2em;position: relative;}#sk-container-id-1 div.sk-item {position: relative;z-index: 1;}#sk-container-id-1 div.sk-parallel {display: flex;align-items: stretch;justify-content: center;background-color: white;position: relative;}#sk-container-id-1 div.sk-item::before, #sk-container-id-1 div.sk-parallel-item::before {content: \"\";position: absolute;border-left: 1px solid gray;box-sizing: border-box;top: 0;bottom: 0;left: 50%;z-index: -1;}#sk-container-id-1 div.sk-parallel-item {display: flex;flex-direction: column;z-index: 1;position: relative;background-color: white;}#sk-container-id-1 div.sk-parallel-item:first-child::after {align-self: flex-end;width: 50%;}#sk-container-id-1 div.sk-parallel-item:last-child::after {align-self: flex-start;width: 50%;}#sk-container-id-1 div.sk-parallel-item:only-child::after {width: 0;}#sk-container-id-1 div.sk-dashed-wrapped {border: 1px dashed gray;margin: 0 0.4em 0.5em 0.4em;box-sizing: border-box;padding-bottom: 0.4em;background-color: white;}#sk-container-id-1 div.sk-label label {font-family: monospace;font-weight: bold;display: inline-block;line-height: 1.2em;}#sk-container-id-1 div.sk-label-container {text-align: center;}#sk-container-id-1 div.sk-container {/* jupyter's `normalize.less` sets `[hidden] { display: none; }` but bootstrap.min.css set `[hidden] { display: none !important; }` so we also need the `!important` here to be able to override the default hidden behavior on the sphinx rendered scikit-learn.org. See: https://github.com/scikit-learn/scikit-learn/issues/21755 */display: inline-block !important;position: relative;}#sk-container-id-1 div.sk-text-repr-fallback {display: none;}</style><div id=\"sk-container-id-1\" class=\"sk-top-container\"><div class=\"sk-text-repr-fallback\"><pre>LogisticRegression()</pre><b>In a Jupyter environment, please rerun this cell to show the HTML representation or trust the notebook. <br />On GitHub, the HTML representation is unable to render, please try loading this page with nbviewer.org.</b></div><div class=\"sk-container\" hidden><div class=\"sk-item\"><div class=\"sk-estimator sk-toggleable\"><input class=\"sk-toggleable__control sk-hidden--visually\" id=\"sk-estimator-id-1\" type=\"checkbox\" checked><label for=\"sk-estimator-id-1\" class=\"sk-toggleable__label sk-toggleable__label-arrow\">LogisticRegression</label><div class=\"sk-toggleable__content\"><pre>LogisticRegression()</pre></div></div></div></div></div>"
      ],
      "text/plain": [
       "LogisticRegression()"
      ]
     },
     "execution_count": 15,
     "metadata": {},
     "output_type": "execute_result"
    }
   ],
   "source": [
    "from sklearn.linear_model import LogisticRegression\n",
    "\n",
    "lr = LogisticRegression()\n",
    "lr.fit(x_train_scaled,y_train)\n"
   ]
  },
  {
   "cell_type": "code",
   "execution_count": 16,
   "metadata": {},
   "outputs": [
    {
     "name": "stdout",
     "output_type": "stream",
     "text": [
      "['Bream' 'Bream' 'Bream' 'Bream' 'Bream' 'Bream' 'Bream' 'Bream' 'Bream'\n",
      " 'Bream' 'Bream' 'Smelt' 'Smelt' 'Bream' 'Bream' 'Smelt' 'Bream' 'Bream'\n",
      " 'Smelt' 'Bream' 'Bream' 'Bream' 'Smelt' 'Smelt' 'Bream' 'Smelt' 'Smelt'\n",
      " 'Bream' 'Smelt' 'Bream' 'Smelt' 'Smelt' 'Bream' 'Bream']\n"
     ]
    }
   ],
   "source": [
    "print(lr.predict(x_train_scaled))\n"
   ]
  },
  {
   "cell_type": "code",
   "execution_count": 17,
   "metadata": {},
   "outputs": [
    {
     "name": "stdout",
     "output_type": "stream",
     "text": [
      "[[9.83441036e-01 1.65589636e-02]\n",
      " [9.90606889e-01 9.39311146e-03]\n",
      " [9.96393524e-01 3.60647625e-03]\n",
      " [9.99315134e-01 6.84866436e-04]\n",
      " [9.93398330e-01 6.60166970e-03]\n",
      " [9.99528504e-01 4.71495769e-04]\n",
      " [9.93901870e-01 6.09812975e-03]\n",
      " [9.97282785e-01 2.71721497e-03]\n",
      " [9.35453072e-01 6.45469278e-02]\n",
      " [9.97356177e-01 2.64382313e-03]\n",
      " [9.99136909e-01 8.63090933e-04]\n",
      " [7.43120362e-02 9.25687964e-01]\n",
      " [3.94675995e-02 9.60532400e-01]\n",
      " [9.59475179e-01 4.05248211e-02]\n",
      " [9.92664863e-01 7.33513653e-03]\n",
      " [3.32822640e-02 9.66717736e-01]\n",
      " [9.97265426e-01 2.73457360e-03]\n",
      " [9.94234629e-01 5.76537061e-03]\n",
      " [3.19091303e-02 9.68090870e-01]\n",
      " [9.92725413e-01 7.27458717e-03]\n",
      " [9.93182617e-01 6.81738327e-03]\n",
      " [9.84282972e-01 1.57170283e-02]\n",
      " [2.72996146e-02 9.72700385e-01]\n",
      " [2.26366232e-02 9.77363377e-01]\n",
      " [8.95103252e-01 1.04896748e-01]\n",
      " [3.38969114e-02 9.66103089e-01]\n",
      " [3.56423614e-02 9.64357639e-01]\n",
      " [9.84471210e-01 1.55287904e-02]\n",
      " [2.57828362e-02 9.74217164e-01]\n",
      " [9.70612090e-01 2.93879102e-02]\n",
      " [3.77916931e-02 9.62208307e-01]\n",
      " [3.97300317e-02 9.60269968e-01]\n",
      " [9.68511746e-01 3.14882544e-02]\n",
      " [9.79905178e-01 2.00948222e-02]]\n"
     ]
    }
   ],
   "source": [
    "print(lr.predict_proba(x_train_scaled))"
   ]
  },
  {
   "cell_type": "code",
   "execution_count": 18,
   "metadata": {},
   "outputs": [
    {
     "name": "stdout",
     "output_type": "stream",
     "text": [
      "[[-0.40771257 -0.61015572 -0.69401554 -1.01925495 -0.75465084]] [-1.94394103]\n"
     ]
    }
   ],
   "source": [
    "print(lr.coef_,lr.intercept_)"
   ]
  },
  {
   "cell_type": "code",
   "execution_count": 19,
   "metadata": {},
   "outputs": [
    {
     "name": "stdout",
     "output_type": "stream",
     "text": [
      "[-4.08413012 -4.65834118 -5.6214111  -7.28560162 -5.01380912 -7.65912882\n",
      " -5.09365635 -5.90542692 -2.67363846 -5.93288193 -7.05412704  2.52226427\n",
      "  3.19200764 -3.16447179 -4.90771708  3.36888191 -5.89904144 -5.15010379\n",
      "  3.41243377 -4.91606704 -4.98143884 -4.1371687   3.57320352  3.76528942\n",
      " -2.14396256  3.34994664  3.29792736 -4.14940891  3.63192523 -3.49734352\n",
      "  3.23714164  3.18510709 -3.42614601 -3.88699363]\n"
     ]
    }
   ],
   "source": [
    "decisions = lr.decision_function(x_train_scaled)\n",
    "print(decisions)"
   ]
  },
  {
   "cell_type": "code",
   "execution_count": 20,
   "metadata": {},
   "outputs": [
    {
     "name": "stdout",
     "output_type": "stream",
     "text": [
      "[1.65589636e-02 9.39311146e-03 3.60647625e-03 6.84866436e-04\n",
      " 6.60166970e-03 4.71495769e-04 6.09812975e-03 2.71721497e-03\n",
      " 6.45469278e-02 2.64382313e-03 8.63090933e-04 9.25687964e-01\n",
      " 9.60532400e-01 4.05248211e-02 7.33513653e-03 9.66717736e-01\n",
      " 2.73457360e-03 5.76537061e-03 9.68090870e-01 7.27458717e-03\n",
      " 6.81738327e-03 1.57170283e-02 9.72700385e-01 9.77363377e-01\n",
      " 1.04896748e-01 9.66103089e-01 9.64357639e-01 1.55287904e-02\n",
      " 9.74217164e-01 2.93879102e-02 9.62208307e-01 9.60269968e-01\n",
      " 3.14882544e-02 2.00948222e-02]\n"
     ]
    }
   ],
   "source": [
    "from scipy.special import expit\n",
    "print(expit(decisions))"
   ]
  },
  {
   "cell_type": "markdown",
   "metadata": {},
   "source": [
    "### 로지스틱 회귀로 다중 분류 "
   ]
  },
  {
   "cell_type": "code",
   "execution_count": 21,
   "metadata": {},
   "outputs": [
    {
     "name": "stdout",
     "output_type": "stream",
     "text": [
      "(111, 5) (48, 5) (111, 1) (48, 1)\n"
     ]
    }
   ],
   "source": [
    "import pandas as pd \n",
    "fish = pd.read_csv('https://bit.ly/fish_csv_data')\n",
    "fish.head()\n",
    "## xy 분리 \n",
    "x = fish.iloc[:,1:]\n",
    "y = fish[['Species']]\n",
    "## 표준화\n",
    "scaler = StandardScaler()\n",
    "x_scaled = scaler.fit_transform(x)\n",
    "\n",
    "## 훈련 + 테스트 분할\n",
    "x_train, x_test, y_train, y_test = train_test_split(x_scaled,y,test_size=0.3,random_state=324)\n",
    "print(x_train.shape,x_test.shape,y_train.shape,y_test.shape)"
   ]
  },
  {
   "cell_type": "code",
   "execution_count": 22,
   "metadata": {},
   "outputs": [
    {
     "name": "stdout",
     "output_type": "stream",
     "text": [
      "0.9369369369369369\n",
      "0.8541666666666666\n"
     ]
    },
    {
     "name": "stderr",
     "output_type": "stream",
     "text": [
      "c:\\Users\\Hamin\\AppData\\Local\\Programs\\Python\\Python39\\lib\\site-packages\\sklearn\\utils\\validation.py:1184: DataConversionWarning: A column-vector y was passed when a 1d array was expected. Please change the shape of y to (n_samples, ), for example using ravel().\n",
      "  y = column_or_1d(y, warn=True)\n"
     ]
    }
   ],
   "source": [
    "lr = LogisticRegression(C=20,max_iter=1000)\n",
    "lr.fit(x_train,y_train)\n",
    "print(lr.score(x_train,y_train))\n",
    "print(lr.score(x_test,y_test))\n"
   ]
  },
  {
   "cell_type": "code",
   "execution_count": 23,
   "metadata": {},
   "outputs": [
    {
     "name": "stdout",
     "output_type": "stream",
     "text": [
      "['Parkki' 'Perch' 'Smelt' 'Perch' 'Bream']\n"
     ]
    }
   ],
   "source": [
    "print(lr.predict(x_test[:5]))"
   ]
  },
  {
   "cell_type": "code",
   "execution_count": 24,
   "metadata": {},
   "outputs": [
    {
     "name": "stdout",
     "output_type": "stream",
     "text": [
      "[[0.015 0.854 0.003 0.    0.099 0.    0.029]\n",
      " [0.038 0.    0.922 0.006 0.001 0.    0.033]\n",
      " [0.    0.003 0.124 0.    0.006 0.867 0.   ]\n",
      " [0.    0.002 0.67  0.002 0.305 0.    0.021]\n",
      " [1.    0.    0.    0.    0.    0.    0.   ]]\n"
     ]
    }
   ],
   "source": [
    "proba = lr.predict_proba(x_test[:5])\n",
    "print(np.round(proba,decimals=3))"
   ]
  },
  {
   "cell_type": "code",
   "execution_count": 25,
   "metadata": {},
   "outputs": [
    {
     "data": {
      "text/html": [
       "<div>\n",
       "<style scoped>\n",
       "    .dataframe tbody tr th:only-of-type {\n",
       "        vertical-align: middle;\n",
       "    }\n",
       "\n",
       "    .dataframe tbody tr th {\n",
       "        vertical-align: top;\n",
       "    }\n",
       "\n",
       "    .dataframe thead th {\n",
       "        text-align: right;\n",
       "    }\n",
       "</style>\n",
       "<table border=\"1\" class=\"dataframe\">\n",
       "  <thead>\n",
       "    <tr style=\"text-align: right;\">\n",
       "      <th></th>\n",
       "      <th>Weight</th>\n",
       "      <th>Length</th>\n",
       "      <th>Diagonal</th>\n",
       "      <th>Height</th>\n",
       "      <th>Width</th>\n",
       "    </tr>\n",
       "  </thead>\n",
       "  <tbody>\n",
       "    <tr>\n",
       "      <th>0</th>\n",
       "      <td>242.0</td>\n",
       "      <td>25.4</td>\n",
       "      <td>30.0</td>\n",
       "      <td>11.5200</td>\n",
       "      <td>4.0200</td>\n",
       "    </tr>\n",
       "    <tr>\n",
       "      <th>1</th>\n",
       "      <td>290.0</td>\n",
       "      <td>26.3</td>\n",
       "      <td>31.2</td>\n",
       "      <td>12.4800</td>\n",
       "      <td>4.3056</td>\n",
       "    </tr>\n",
       "    <tr>\n",
       "      <th>2</th>\n",
       "      <td>340.0</td>\n",
       "      <td>26.5</td>\n",
       "      <td>31.1</td>\n",
       "      <td>12.3778</td>\n",
       "      <td>4.6961</td>\n",
       "    </tr>\n",
       "    <tr>\n",
       "      <th>3</th>\n",
       "      <td>363.0</td>\n",
       "      <td>29.0</td>\n",
       "      <td>33.5</td>\n",
       "      <td>12.7300</td>\n",
       "      <td>4.4555</td>\n",
       "    </tr>\n",
       "    <tr>\n",
       "      <th>4</th>\n",
       "      <td>430.0</td>\n",
       "      <td>29.0</td>\n",
       "      <td>34.0</td>\n",
       "      <td>12.4440</td>\n",
       "      <td>5.1340</td>\n",
       "    </tr>\n",
       "  </tbody>\n",
       "</table>\n",
       "</div>"
      ],
      "text/plain": [
       "   Weight  Length  Diagonal   Height   Width\n",
       "0   242.0    25.4      30.0  11.5200  4.0200\n",
       "1   290.0    26.3      31.2  12.4800  4.3056\n",
       "2   340.0    26.5      31.1  12.3778  4.6961\n",
       "3   363.0    29.0      33.5  12.7300  4.4555\n",
       "4   430.0    29.0      34.0  12.4440  5.1340"
      ]
     },
     "execution_count": 25,
     "metadata": {},
     "output_type": "execute_result"
    }
   ],
   "source": [
    "x.head()"
   ]
  },
  {
   "cell_type": "code",
   "execution_count": 26,
   "metadata": {},
   "outputs": [
    {
     "name": "stdout",
     "output_type": "stream",
     "text": [
      "[[  0.861   4.919  -0.581  -4.738   2.759  -4.744   1.523]\n",
      " [  4.996  -3.644   8.19    3.232   1.216 -18.853   4.863]\n",
      " [-10.239   1.35    5.228  -2.524   2.226   7.168  -3.21 ]\n",
      " [ -4.482  -1.098   4.836  -1.013   4.049  -3.651   1.359]\n",
      " [ 15.427   5.173  -3.058  -1.801   0.809 -22.684   6.133]]\n"
     ]
    }
   ],
   "source": [
    "decision = lr.decision_function(x_test[:5])\n",
    "print(np.round(decision,decimals=3))"
   ]
  },
  {
   "cell_type": "code",
   "execution_count": 27,
   "metadata": {},
   "outputs": [
    {
     "name": "stdout",
     "output_type": "stream",
     "text": [
      "[[0.015 0.854 0.003 0.    0.099 0.    0.029]\n",
      " [0.038 0.    0.922 0.006 0.001 0.    0.033]\n",
      " [0.    0.003 0.124 0.    0.006 0.867 0.   ]\n",
      " [0.    0.002 0.67  0.002 0.305 0.    0.021]\n",
      " [1.    0.    0.    0.    0.    0.    0.   ]]\n"
     ]
    }
   ],
   "source": [
    "from scipy.special import softmax\n",
    "proba = softmax(decision,axis=1)\n",
    "print(np.round(proba,decimals=3))"
   ]
  },
  {
   "cell_type": "markdown",
   "metadata": {},
   "source": [
    "### 로지스틱 회귀로 확률 예측"
   ]
  },
  {
   "cell_type": "code",
   "execution_count": 28,
   "metadata": {},
   "outputs": [
    {
     "name": "stdout",
     "output_type": "stream",
     "text": [
      "['Bream' 'Roach' 'Whitefish' 'Parkki' 'Perch' 'Pike' 'Smelt']\n"
     ]
    }
   ],
   "source": [
    "import pandas as pd \n",
    "fish = pd.read_csv('https://bit.ly/fish_csv_data')\n",
    "\n",
    "\n",
    "print(fish['Species'].unique())"
   ]
  },
  {
   "cell_type": "code",
   "execution_count": 29,
   "metadata": {},
   "outputs": [
    {
     "data": {
      "text/html": [
       "<div>\n",
       "<style scoped>\n",
       "    .dataframe tbody tr th:only-of-type {\n",
       "        vertical-align: middle;\n",
       "    }\n",
       "\n",
       "    .dataframe tbody tr th {\n",
       "        vertical-align: top;\n",
       "    }\n",
       "\n",
       "    .dataframe thead th {\n",
       "        text-align: right;\n",
       "    }\n",
       "</style>\n",
       "<table border=\"1\" class=\"dataframe\">\n",
       "  <thead>\n",
       "    <tr style=\"text-align: right;\">\n",
       "      <th></th>\n",
       "      <th>Species</th>\n",
       "      <th>Weight</th>\n",
       "      <th>Length</th>\n",
       "      <th>Diagonal</th>\n",
       "      <th>Height</th>\n",
       "      <th>Width</th>\n",
       "    </tr>\n",
       "  </thead>\n",
       "  <tbody>\n",
       "    <tr>\n",
       "      <th>0</th>\n",
       "      <td>Bream</td>\n",
       "      <td>242.0</td>\n",
       "      <td>25.4</td>\n",
       "      <td>30.0</td>\n",
       "      <td>11.5200</td>\n",
       "      <td>4.0200</td>\n",
       "    </tr>\n",
       "    <tr>\n",
       "      <th>1</th>\n",
       "      <td>Bream</td>\n",
       "      <td>290.0</td>\n",
       "      <td>26.3</td>\n",
       "      <td>31.2</td>\n",
       "      <td>12.4800</td>\n",
       "      <td>4.3056</td>\n",
       "    </tr>\n",
       "    <tr>\n",
       "      <th>2</th>\n",
       "      <td>Bream</td>\n",
       "      <td>340.0</td>\n",
       "      <td>26.5</td>\n",
       "      <td>31.1</td>\n",
       "      <td>12.3778</td>\n",
       "      <td>4.6961</td>\n",
       "    </tr>\n",
       "    <tr>\n",
       "      <th>3</th>\n",
       "      <td>Bream</td>\n",
       "      <td>363.0</td>\n",
       "      <td>29.0</td>\n",
       "      <td>33.5</td>\n",
       "      <td>12.7300</td>\n",
       "      <td>4.4555</td>\n",
       "    </tr>\n",
       "    <tr>\n",
       "      <th>4</th>\n",
       "      <td>Bream</td>\n",
       "      <td>430.0</td>\n",
       "      <td>29.0</td>\n",
       "      <td>34.0</td>\n",
       "      <td>12.4440</td>\n",
       "      <td>5.1340</td>\n",
       "    </tr>\n",
       "  </tbody>\n",
       "</table>\n",
       "</div>"
      ],
      "text/plain": [
       "  Species  Weight  Length  Diagonal   Height   Width\n",
       "0   Bream   242.0    25.4      30.0  11.5200  4.0200\n",
       "1   Bream   290.0    26.3      31.2  12.4800  4.3056\n",
       "2   Bream   340.0    26.5      31.1  12.3778  4.6961\n",
       "3   Bream   363.0    29.0      33.5  12.7300  4.4555\n",
       "4   Bream   430.0    29.0      34.0  12.4440  5.1340"
      ]
     },
     "execution_count": 29,
     "metadata": {},
     "output_type": "execute_result"
    }
   ],
   "source": [
    "fish.head()"
   ]
  },
  {
   "cell_type": "code",
   "execution_count": 30,
   "metadata": {},
   "outputs": [
    {
     "name": "stdout",
     "output_type": "stream",
     "text": [
      "   Weight  Length  Diagonal   Height   Width\n",
      "0   242.0    25.4      30.0  11.5200  4.0200\n",
      "1   290.0    26.3      31.2  12.4800  4.3056\n",
      "2   340.0    26.5      31.1  12.3778  4.6961\n",
      "3   363.0    29.0      33.5  12.7300  4.4555\n",
      "4   430.0    29.0      34.0  12.4440  5.1340\n",
      "0    Bream\n",
      "1    Bream\n",
      "2    Bream\n",
      "3    Bream\n",
      "4    Bream\n",
      "Name: Species, dtype: object\n"
     ]
    }
   ],
   "source": [
    "## 독립변수 - 종속변수 분리\n",
    "x = fish.iloc[:,1:]\n",
    "print(x[:5])\n",
    "y = fish['Species']\n",
    "print(y[:5])"
   ]
  },
  {
   "cell_type": "code",
   "execution_count": 31,
   "metadata": {},
   "outputs": [],
   "source": [
    "## 훈련 - 테스트 분리\n",
    "from sklearn.linear_model import LogisticRegression\n",
    "\n",
    "x_train,x_test,y_train,y_test = train_test_split(x,y,test_size=0.3,random_state=314)\n",
    "\n"
   ]
  },
  {
   "cell_type": "code",
   "execution_count": 32,
   "metadata": {},
   "outputs": [],
   "source": [
    "## 표준화\n",
    "from sklearn.preprocessing import StandardScaler\n",
    "\n",
    "scaler = StandardScaler()\n",
    "\n",
    "x_train = scaler.fit_transform(x_train)\n",
    "x_test = scaler.fit_transform(x_test)\n",
    "\n"
   ]
  },
  {
   "cell_type": "code",
   "execution_count": 33,
   "metadata": {},
   "outputs": [
    {
     "name": "stdout",
     "output_type": "stream",
     "text": [
      "0.8558558558558559\n",
      "0.8125\n"
     ]
    }
   ],
   "source": [
    "### knn으로 분류 예측\n",
    "\n",
    "from sklearn.neighbors import KNeighborsClassifier\n",
    "knn = KNeighborsClassifier(n_neighbors=3)\n",
    "knn.fit(x_train,y_train)\n",
    "\n",
    "print(knn.score(x_train,y_train))\n",
    "print(knn.score(x_test,y_test))\n"
   ]
  },
  {
   "cell_type": "code",
   "execution_count": 34,
   "metadata": {},
   "outputs": [
    {
     "name": "stdout",
     "output_type": "stream",
     "text": [
      "['Bream' 'Parkki' 'Perch' 'Pike' 'Roach' 'Smelt' 'Whitefish']\n",
      "['Pike' 'Perch' 'Roach' 'Perch' 'Parkki']\n"
     ]
    }
   ],
   "source": [
    "print(knn.classes_)\n",
    "print(knn.predict(x_test[:5]))\n"
   ]
  },
  {
   "cell_type": "code",
   "execution_count": null,
   "metadata": {},
   "outputs": [],
   "source": []
  },
  {
   "cell_type": "code",
   "execution_count": 35,
   "metadata": {},
   "outputs": [
    {
     "data": {
      "image/png": "[encoded data removed]",
      "text/plain": [
       "<Figure size 640x480 with 1 Axes>"
      ]
     },
     "metadata": {},
     "output_type": "display_data"
    }
   ],
   "source": [
    "import numpy as np \n",
    "import matplotlib.pyplot as plt \n",
    "z= np.arange(-5,5,0.1)\n",
    "phi = 1/(1+np.exp(-z))\n",
    "plt.plot(z,phi)\n",
    "plt.xlabel('z')\n",
    "plt.ylabel('phi')\n",
    "plt.show()"
   ]
  },
  {
   "cell_type": "code",
   "execution_count": 36,
   "metadata": {},
   "outputs": [
    {
     "data": {
      "text/plain": [
       "128     Pike\n",
       "76     Perch\n",
       "13     Bream\n",
       "79     Perch\n",
       "116    Perch\n",
       "       ...  \n",
       "7      Bream\n",
       "42     Roach\n",
       "86     Perch\n",
       "109    Perch\n",
       "8      Bream\n",
       "Name: Species, Length: 111, dtype: object"
      ]
     },
     "execution_count": 36,
     "metadata": {},
     "output_type": "execute_result"
    }
   ],
   "source": [
    "y_train"
   ]
  },
  {
   "cell_type": "code",
   "execution_count": 37,
   "metadata": {},
   "outputs": [
    {
     "data": {
      "text/plain": [
       "array([False, False,  True, False, False,  True,  True, False, False,\n",
       "        True,  True,  True, False, False, False, False, False, False,\n",
       "       False, False, False,  True,  True,  True, False, False, False,\n",
       "        True, False, False,  True, False,  True, False, False, False,\n",
       "       False,  True, False, False, False, False,  True,  True,  True,\n",
       "       False, False, False, False, False, False, False, False, False,\n",
       "        True,  True, False, False,  True, False, False, False,  True,\n",
       "        True,  True, False, False, False, False,  True, False, False,\n",
       "       False,  True, False, False, False, False, False, False, False,\n",
       "       False, False,  True, False, False,  True,  True, False, False,\n",
       "       False, False,  True, False,  True, False, False, False,  True,\n",
       "       False,  True, False, False, False,  True, False,  True, False,\n",
       "       False, False,  True])"
      ]
     },
     "execution_count": 37,
     "metadata": {},
     "output_type": "execute_result"
    }
   ],
   "source": [
    "bream_smelt_index"
   ]
  },
  {
   "cell_type": "code",
   "execution_count": 38,
   "metadata": {},
   "outputs": [
    {
     "data": {
      "text/plain": [
       "array([[-5.09421650e-01,  4.14929397e-01,  3.62808195e-01,\n",
       "        -7.60379993e-01, -5.57693897e-01],\n",
       "       [-8.60496918e-01, -9.41835588e-01, -1.00846581e+00,\n",
       "        -9.91752023e-01, -8.10958231e-01],\n",
       "       [-1.31340591e-01,  3.87611981e-01,  5.73126295e-01,\n",
       "         1.20980006e+00,  4.32493221e-01],\n",
       "       [-8.33491128e-01, -7.96142704e-01, -8.65449505e-01,\n",
       "        -7.44372826e-01, -7.47540049e-01],\n",
       "       [ 1.38098364e+00,  1.02501835e+00,  9.18047978e-01,\n",
       "         5.54332544e-01,  1.84472922e+00],\n",
       "       [ 5.70809946e-01,  3.87611981e-01,  5.64713571e-01,\n",
       "         1.45569187e+00,  4.89668768e-01],\n",
       "       [ 8.40867845e-01,  6.60786139e-01,  8.42333462e-01,\n",
       "         1.75933224e+00,  7.33656661e-01],\n",
       "       [-6.44450599e-01, -5.22968546e-01, -4.86876926e-01,\n",
       "        -7.04543784e-01, -3.36692907e-01],\n",
       "       [-6.44450599e-01, -4.77439519e-01, -5.45765994e-01,\n",
       "        -4.71401049e-01, -4.12771389e-01],\n",
       "       [ 1.65104154e+00,  8.42902244e-01,  1.01900067e+00,\n",
       "         2.40068134e+00,  1.32524854e+00],\n",
       "       [ 7.05838895e-01,  5.24199060e-01,  6.90904430e-01,\n",
       "         1.34222513e+00,  8.14519220e-01],\n",
       "       [ 1.58352707e+00,  1.20713445e+00,  1.29662056e+00,\n",
       "         2.32475354e+00,  1.40943662e+00],\n",
       "       [-3.14979962e-01, -6.76782824e-02,  9.47378826e-03,\n",
       "        -5.20982684e-02,  2.57932777e-01],\n",
       "       [ 3.40641788e+00,  3.24683483e+00,  3.15583256e+00,\n",
       "         4.77696462e-01,  1.83691134e+00],\n",
       "       [-9.41514288e-01, -1.24232716e+00, -1.20195846e+00,\n",
       "        -1.09582222e+00, -1.20389426e+00],\n",
       "       [-3.12279383e-01, -2.49794388e-01, -2.09257035e-01,\n",
       "         5.42858380e-01, -1.09390938e-01],\n",
       "       [-5.63433229e-01, -2.49794388e-01, -3.35447895e-01,\n",
       "        -5.54624152e-01, -3.78057665e-01],\n",
       "       [-7.38970864e-01, -6.14026598e-01, -6.71956854e-01,\n",
       "        -6.77865172e-01, -5.97425068e-01],\n",
       "       [-8.87502708e-01, -1.11484589e+00, -1.10100578e+00,\n",
       "        -5.22114021e-01, -1.17694007e+00],\n",
       "       [-7.25467969e-01, -7.05084651e-01, -6.97195026e-01,\n",
       "        -6.07391141e-01, -4.41825902e-01],\n",
       "       [-2.66369541e-01, -1.58736335e-01, -1.08304347e-01,\n",
       "         2.08075304e-02,  9.64410292e-02],\n",
       "       [ 5.03295471e-01,  5.69728086e-01,  7.58206222e-01,\n",
       "         1.49679582e+00,  7.22279894e-01],\n",
       "       [ 9.08382320e-01,  6.60786139e-01,  8.75984358e-01,\n",
       "         1.78754546e+00,  1.00448206e+00],\n",
       "       [-2.66369541e-01, -1.31418919e-01,  5.99501321e-02,\n",
       "         8.71501100e-01, -1.51096289e-02],\n",
       "       [-9.63118920e-01, -1.27875038e+00, -1.32814932e+00,\n",
       "        -1.24201157e+00, -1.36071861e+00],\n",
       "       [-5.93139598e-01, -3.40852440e-01, -2.76558827e-01,\n",
       "        -2.96124932e-01, -2.89552252e-01],\n",
       "       [-1.03360403e+00, -1.76135806e+00, -1.82450004e+00,\n",
       "        -1.57632054e+00, -1.70563885e+00],\n",
       "       [ 8.78675951e-01,  7.51844192e-01,  9.26460702e-01,\n",
       "         1.82461221e+00,  8.86805446e-01],\n",
       "       [-9.10457629e-01, -1.05110525e+00, -1.11783122e+00,\n",
       "        -9.90713210e-01, -9.91761312e-01],\n",
       "       [-8.14587075e-01, -7.23296262e-01, -6.97195026e-01,\n",
       "        -7.48905829e-01, -6.74962110e-01],\n",
       "       [ 1.52951549e+00,  9.79489323e-01,  1.13677880e+00,\n",
       "         2.19457136e+00,  1.14380369e+00],\n",
       "       [ 8.40867845e-01,  8.42902244e-01,  7.49793498e-01,\n",
       "         4.83126621e-01,  1.12781788e+00],\n",
       "       [-9.96336041e-01, -1.22411555e+00, -1.28608570e+00,\n",
       "        -1.39670029e+00, -1.32104579e+00],\n",
       "       [-5.90439019e-01, -6.41344014e-01, -6.13067786e-01,\n",
       "         1.43387488e-01, -5.37390744e-01],\n",
       "       [-6.84959284e-01, -5.22968546e-01, -5.87829614e-01,\n",
       "        -6.87899163e-01, -4.70530360e-01],\n",
       "       [ 1.65104154e+00,  1.11607640e+00,  1.09471518e+00,\n",
       "         8.41753268e-01,  1.27974147e+00],\n",
       "       [-7.25467969e-01, -5.22968546e-01, -5.87829614e-01,\n",
       "        -7.43381232e-01, -4.70530360e-01],\n",
       "       [-1.01334969e+00, -1.39712585e+00, -1.42910201e+00,\n",
       "        -1.50124268e+00, -1.78673478e+00],\n",
       "       [-7.52473758e-01, -5.22968546e-01, -5.87829614e-01,\n",
       "        -7.71122266e-01, -1.96321106e-01],\n",
       "       [ 1.65104154e+00,  1.48030861e+00,  1.35550962e+00,\n",
       "         8.73578727e-01,  1.90447183e+00],\n",
       "       [ 3.13635999e+00,  2.93723746e+00,  2.81932360e+00,\n",
       "         1.91550645e-01,  1.05745695e+00],\n",
       "       [-3.74392700e-01,  2.33797703e-02, -9.14788995e-02,\n",
       "        -2.28602074e-01, -7.42688169e-02],\n",
       "       [-6.92272744e-02,  1.14437823e-01,  2.53442784e-01,\n",
       "         9.30524578e-01,  7.23456203e-02],\n",
       "       [ 8.40867845e-01,  4.78670034e-01,  6.74078983e-01,\n",
       "         1.45181993e+00,  5.05246187e-01],\n",
       "       [-1.02334183e+00, -1.52460712e+00, -1.55529287e+00,\n",
       "        -1.55648865e+00, -1.72197472e+00],\n",
       "       [-6.14744230e-01, -3.95487272e-01, -3.18622447e-01,\n",
       "        -4.42290671e-01, -4.08570737e-01],\n",
       "       [-5.41828597e-01, -2.86217609e-01, -3.60686067e-01,\n",
       "        -4.85236152e-01, -9.66722963e-02],\n",
       "       [-6.57953494e-01, -5.22968546e-01, -5.20527822e-01,\n",
       "        -5.08727496e-01, -4.57228294e-01],\n",
       "       [ 1.92109944e+00,  1.38925056e+00,  1.26296966e+00,\n",
       "         8.79174153e-01,  1.79986392e+00],\n",
       "       [ 1.11092574e+00,  7.88267413e-01,  7.66618946e-01,\n",
       "         7.01796799e-01,  1.30809588e+00],\n",
       "       [ 4.08775207e-01,  1.38925056e+00,  1.28820783e+00,\n",
       "        -2.36723705e-01,  4.65631701e-01],\n",
       "       [-4.60811228e-01, -1.13207309e-01, -2.09257035e-01,\n",
       "        -3.82629740e-01, -1.09390938e-01],\n",
       "       [-6.44450599e-01, -7.05084651e-01, -6.80369578e-01,\n",
       "         2.45850329e-02, -6.06001400e-01],\n",
       "       [-6.44450599e-01, -4.31910493e-01, -5.03702374e-01,\n",
       "        -8.42894814e-01, -4.11604541e-01],\n",
       "       [ 8.94879425e-01,  6.60786139e-01,  8.50746186e-01,\n",
       "         1.78797043e+00,  1.02595206e+00],\n",
       "       [ 6.24821526e-01,  6.15257113e-01,  7.75031670e-01,\n",
       "         1.58986404e+00,  5.53437005e-01],\n",
       "       [-6.57953494e-01, -3.40852440e-01, -4.19575135e-01,\n",
       "        -5.69852209e-01, -2.95503177e-01],\n",
       "       [ 4.08775207e-01,  2.96553928e-01,  2.95506404e-01,\n",
       "         4.61642076e-01,  1.30132816e+00],\n",
       "       [-1.02604241e+00, -1.49728971e+00, -1.50481653e+00,\n",
       "        -1.60790990e+00, -1.77728331e+00],\n",
       "       [-2.39363751e-01,  8.70219660e-01,  7.83444394e-01,\n",
       "        -5.90297942e-01, -1.81852192e-01],\n",
       "       [-2.39363751e-01, -4.03608666e-02, -1.50367967e-01,\n",
       "        -1.09941276e-01,  4.70124065e-01],\n",
       "       [ 1.65104154e+00,  1.38925056e+00,  1.23773149e+00,\n",
       "         7.42310514e-01,  1.71859296e+00],\n",
       "       [ 8.40867845e-01,  4.78670034e-01,  6.57253535e-01,\n",
       "         1.43349904e+00,  5.56529152e-01],\n",
       "       [ 5.97815736e-01,  5.24199060e-01,  6.82491706e-01,\n",
       "         1.61590519e+00,  4.68082082e-01],\n",
       "       [ 3.00752047e-01,  2.96553928e-01,  4.80586331e-01,\n",
       "         1.31804912e+00,  2.81853159e-01],\n",
       "       [ 1.81926572e-01,  1.34372153e+00,  1.26296966e+00,\n",
       "        -3.56187222e-01, -5.24976428e-03],\n",
       "       [ 4.51984470e-01,  6.15257113e-01,  5.05824503e-01,\n",
       "         3.46546296e-01,  1.19952068e+00],\n",
       "       [ 1.24595469e+00,  1.11607640e+00,  9.93762494e-01,\n",
       "         7.41318919e-01,  1.61894415e+00],\n",
       "       [ 1.11711518e-01,  9.33960297e-01,  8.42333462e-01,\n",
       "        -3.53826283e-01,  1.42939918e-01],\n",
       "       [-1.02928310e+00, -1.57013615e+00, -1.58894377e+00,\n",
       "        -1.60937369e+00, -1.85032799e+00],\n",
       "       [-6.98462179e-01, -5.86709183e-01, -6.46718682e-01,\n",
       "        -5.67727364e-01, -4.65279544e-01],\n",
       "       [ 1.51601259e+00,  2.18145562e+00,  2.07059116e+00,\n",
       "         3.24705695e-02,  1.07332608e+00],\n",
       "       [-2.39363751e-01,  8.71204071e-02, -3.25898316e-02,\n",
       "        -2.84131361e-01,  1.77303588e-01],\n",
       "       [-1.03144357e+00, -1.63387679e+00, -1.65624556e+00,\n",
       "        -1.66443079e+00, -1.91590484e+00],\n",
       "       [-8.06485338e-01, -9.14518172e-01, -8.99100401e-01,\n",
       "        -3.26628265e-01, -9.67607560e-01],\n",
       "       [-6.57953494e-01, -4.59227909e-01, -5.28940546e-01,\n",
       "        -6.69436620e-01, -4.09270846e-01],\n",
       "       [ 1.16493732e+00,  1.02501835e+00,  9.09635254e-01,\n",
       "         8.60003327e-01,  1.76188302e+00],\n",
       "       [ 1.02990837e+00,  1.84454082e+00,  1.74249493e+00,\n",
       "        -2.61749659e-01,  6.09387361e-01],\n",
       "       [-7.79479548e-01, -8.87200756e-01, -9.49576745e-01,\n",
       "        -8.41974048e-01, -5.89198790e-01],\n",
       "       [-8.38892286e-01, -8.14354314e-01, -7.81322266e-01,\n",
       "        -7.58585679e-01, -8.32603260e-01],\n",
       "       [ 3.27138893e+00,  2.93723746e+00,  2.81932360e+00,\n",
       "         1.91550645e-01,  1.05745695e+00],\n",
       "       [-2.23160277e-01,  2.33797703e-02,  2.62992362e-02,\n",
       "        -2.51854772e-03,  2.04257774e-01],\n",
       "       [-7.52473758e-01, -6.14026598e-01, -6.71956854e-01,\n",
       "        -7.30986302e-01, -4.53027641e-01],\n",
       "       [-3.95997332e-01, -2.13371167e-01, -4.10025556e-02,\n",
       "         6.44850949e-01, -1.81735507e-01],\n",
       "       [-5.09421650e-01, -3.86381467e-01, -3.10209723e-01,\n",
       "        -3.28611454e-01, -1.19192461e-01],\n",
       "       [ 1.92109944e+00,  1.29819251e+00,  1.18725515e+00,\n",
       "         9.47098370e-01,  1.48008926e+00],\n",
       "       [-1.02280172e+00, -1.45176068e+00, -1.46275291e+00,\n",
       "        -1.55226257e+00, -1.84688579e+00],\n",
       "       [-1.02253166e+00, -1.45176068e+00, -1.46275291e+00,\n",
       "        -1.55226257e+00, -1.77810010e+00],\n",
       "       [-6.71456389e-01, -6.41344014e-01, -6.13067786e-01,\n",
       "        -5.92755233e-02, -6.05067921e-01],\n",
       "       [-6.17444809e-01, -4.77439519e-01, -4.36400583e-01,\n",
       "        -4.14407980e-01, -2.98245269e-01],\n",
       "       [ 3.68835833e-03,  3.60294565e-01,  3.79633643e-01,\n",
       "         1.64399845e-01,  5.97135458e-01],\n",
       "       [-9.01005603e-01, -1.18769233e+00, -1.17672029e+00,\n",
       "        -4.58297838e-01, -1.16976396e+00],\n",
       "       [ 3.00752047e-01,  2.69236512e-01,  4.80586331e-01,\n",
       "         1.28386272e+00,  3.66332946e-01],\n",
       "       [ 1.21894890e+00,  6.60786139e-01,  5.73126295e-01,\n",
       "         6.37390381e-01,  2.02109828e+00],\n",
       "       [-1.03063339e+00, -1.56103035e+00, -1.58894377e+00,\n",
       "        -1.66688616e+00, -1.85709571e+00],\n",
       "       [-3.33884015e-01, -2.21492561e-02, -1.33542519e-01,\n",
       "        -4.10111071e-01,  2.04303502e-03],\n",
       "       [-6.57953494e-01, -5.68497572e-01, -5.37353270e-01,\n",
       "         2.23753854e-01, -6.85172029e-01],\n",
       "       [-6.98462179e-01, -4.77439519e-01, -5.45765994e-01,\n",
       "        -6.92384948e-01, -4.12771389e-01],\n",
       "       [ 1.11711518e-01,  1.14437823e-01,  2.95506404e-01,\n",
       "         8.63001720e-01,  4.68198766e-01],\n",
       "       [-6.98462179e-01, -5.22968546e-01, -5.87829614e-01,\n",
       "        -6.32417095e-01, -4.70530360e-01],\n",
       "       [-1.01659038e+00, -1.41533746e+00, -1.43751474e+00,\n",
       "        -1.58142017e+00, -1.71404015e+00],\n",
       "       [-1.85352171e-01,  2.05495876e-01,  9.36010280e-02,\n",
       "        -2.76954107e-01,  2.56765929e-01],\n",
       "       [-8.19988233e-01, -7.41507872e-01, -8.14973162e-01,\n",
       "        -8.61994811e-01, -7.55357929e-01],\n",
       "       [-2.39363751e-01, -1.58736335e-01, -1.25129795e-01,\n",
       "         6.08964675e-01, -5.68827833e-02],\n",
       "       [-1.01659038e+00, -1.34249102e+00, -1.40386384e+00,\n",
       "        -1.53736505e+00, -1.79443597e+00],\n",
       "       [ 1.38098364e+00,  1.11607640e+00,  1.01058794e+00,\n",
       "         6.94430669e-01,  1.68813823e+00],\n",
       "       [ 3.68835833e-03,  2.05495876e-01,  3.79633643e-01,\n",
       "         9.16358943e-01,  2.09158535e-01],\n",
       "       [-7.25467969e-01, -6.14026598e-01, -5.71004166e-01,\n",
       "        -6.31331063e-01, -6.05126264e-01],\n",
       "       [-7.25467969e-01, -5.22968546e-01, -5.87829614e-01,\n",
       "        -6.32417095e-01, -5.39082673e-01],\n",
       "       [ 3.38560153e-01,  4.60458423e-01,  2.95506404e-01,\n",
       "         2.93071025e-01,  9.83945533e-01],\n",
       "       [ 1.65723098e-01,  2.05495876e-01,  3.88046367e-01,\n",
       "         1.23152070e+00,  2.98889138e-01]])"
      ]
     },
     "execution_count": 38,
     "metadata": {},
     "output_type": "execute_result"
    }
   ],
   "source": [
    "len(y_train)\n",
    "x_train"
   ]
  },
  {
   "cell_type": "code",
   "execution_count": 39,
   "metadata": {},
   "outputs": [
    {
     "data": {
      "text/plain": [
       "array([[-5.09421650e-01,  4.14929397e-01,  3.62808195e-01,\n",
       "        -7.60379993e-01, -5.57693897e-01],\n",
       "       [-8.60496918e-01, -9.41835588e-01, -1.00846581e+00,\n",
       "        -9.91752023e-01, -8.10958231e-01],\n",
       "       [-1.31340591e-01,  3.87611981e-01,  5.73126295e-01,\n",
       "         1.20980006e+00,  4.32493221e-01],\n",
       "       [-8.33491128e-01, -7.96142704e-01, -8.65449505e-01,\n",
       "        -7.44372826e-01, -7.47540049e-01],\n",
       "       [ 1.38098364e+00,  1.02501835e+00,  9.18047978e-01,\n",
       "         5.54332544e-01,  1.84472922e+00],\n",
       "       [ 5.70809946e-01,  3.87611981e-01,  5.64713571e-01,\n",
       "         1.45569187e+00,  4.89668768e-01],\n",
       "       [ 8.40867845e-01,  6.60786139e-01,  8.42333462e-01,\n",
       "         1.75933224e+00,  7.33656661e-01],\n",
       "       [-6.44450599e-01, -5.22968546e-01, -4.86876926e-01,\n",
       "        -7.04543784e-01, -3.36692907e-01],\n",
       "       [-6.44450599e-01, -4.77439519e-01, -5.45765994e-01,\n",
       "        -4.71401049e-01, -4.12771389e-01],\n",
       "       [ 1.65104154e+00,  8.42902244e-01,  1.01900067e+00,\n",
       "         2.40068134e+00,  1.32524854e+00],\n",
       "       [ 7.05838895e-01,  5.24199060e-01,  6.90904430e-01,\n",
       "         1.34222513e+00,  8.14519220e-01],\n",
       "       [ 1.58352707e+00,  1.20713445e+00,  1.29662056e+00,\n",
       "         2.32475354e+00,  1.40943662e+00],\n",
       "       [-3.14979962e-01, -6.76782824e-02,  9.47378826e-03,\n",
       "        -5.20982684e-02,  2.57932777e-01],\n",
       "       [ 3.40641788e+00,  3.24683483e+00,  3.15583256e+00,\n",
       "         4.77696462e-01,  1.83691134e+00],\n",
       "       [-9.41514288e-01, -1.24232716e+00, -1.20195846e+00,\n",
       "        -1.09582222e+00, -1.20389426e+00],\n",
       "       [-3.12279383e-01, -2.49794388e-01, -2.09257035e-01,\n",
       "         5.42858380e-01, -1.09390938e-01],\n",
       "       [-5.63433229e-01, -2.49794388e-01, -3.35447895e-01,\n",
       "        -5.54624152e-01, -3.78057665e-01],\n",
       "       [-7.38970864e-01, -6.14026598e-01, -6.71956854e-01,\n",
       "        -6.77865172e-01, -5.97425068e-01],\n",
       "       [-8.87502708e-01, -1.11484589e+00, -1.10100578e+00,\n",
       "        -5.22114021e-01, -1.17694007e+00],\n",
       "       [-7.25467969e-01, -7.05084651e-01, -6.97195026e-01,\n",
       "        -6.07391141e-01, -4.41825902e-01],\n",
       "       [-2.66369541e-01, -1.58736335e-01, -1.08304347e-01,\n",
       "         2.08075304e-02,  9.64410292e-02],\n",
       "       [ 5.03295471e-01,  5.69728086e-01,  7.58206222e-01,\n",
       "         1.49679582e+00,  7.22279894e-01],\n",
       "       [ 9.08382320e-01,  6.60786139e-01,  8.75984358e-01,\n",
       "         1.78754546e+00,  1.00448206e+00],\n",
       "       [-2.66369541e-01, -1.31418919e-01,  5.99501321e-02,\n",
       "         8.71501100e-01, -1.51096289e-02],\n",
       "       [-9.63118920e-01, -1.27875038e+00, -1.32814932e+00,\n",
       "        -1.24201157e+00, -1.36071861e+00],\n",
       "       [-5.93139598e-01, -3.40852440e-01, -2.76558827e-01,\n",
       "        -2.96124932e-01, -2.89552252e-01],\n",
       "       [-1.03360403e+00, -1.76135806e+00, -1.82450004e+00,\n",
       "        -1.57632054e+00, -1.70563885e+00],\n",
       "       [ 8.78675951e-01,  7.51844192e-01,  9.26460702e-01,\n",
       "         1.82461221e+00,  8.86805446e-01],\n",
       "       [-9.10457629e-01, -1.05110525e+00, -1.11783122e+00,\n",
       "        -9.90713210e-01, -9.91761312e-01],\n",
       "       [-8.14587075e-01, -7.23296262e-01, -6.97195026e-01,\n",
       "        -7.48905829e-01, -6.74962110e-01],\n",
       "       [ 1.52951549e+00,  9.79489323e-01,  1.13677880e+00,\n",
       "         2.19457136e+00,  1.14380369e+00],\n",
       "       [ 8.40867845e-01,  8.42902244e-01,  7.49793498e-01,\n",
       "         4.83126621e-01,  1.12781788e+00],\n",
       "       [-9.96336041e-01, -1.22411555e+00, -1.28608570e+00,\n",
       "        -1.39670029e+00, -1.32104579e+00],\n",
       "       [-5.90439019e-01, -6.41344014e-01, -6.13067786e-01,\n",
       "         1.43387488e-01, -5.37390744e-01],\n",
       "       [-6.84959284e-01, -5.22968546e-01, -5.87829614e-01,\n",
       "        -6.87899163e-01, -4.70530360e-01],\n",
       "       [ 1.65104154e+00,  1.11607640e+00,  1.09471518e+00,\n",
       "         8.41753268e-01,  1.27974147e+00],\n",
       "       [-7.25467969e-01, -5.22968546e-01, -5.87829614e-01,\n",
       "        -7.43381232e-01, -4.70530360e-01],\n",
       "       [-1.01334969e+00, -1.39712585e+00, -1.42910201e+00,\n",
       "        -1.50124268e+00, -1.78673478e+00],\n",
       "       [-7.52473758e-01, -5.22968546e-01, -5.87829614e-01,\n",
       "        -7.71122266e-01, -1.96321106e-01],\n",
       "       [ 1.65104154e+00,  1.48030861e+00,  1.35550962e+00,\n",
       "         8.73578727e-01,  1.90447183e+00],\n",
       "       [ 3.13635999e+00,  2.93723746e+00,  2.81932360e+00,\n",
       "         1.91550645e-01,  1.05745695e+00],\n",
       "       [-3.74392700e-01,  2.33797703e-02, -9.14788995e-02,\n",
       "        -2.28602074e-01, -7.42688169e-02],\n",
       "       [-6.92272744e-02,  1.14437823e-01,  2.53442784e-01,\n",
       "         9.30524578e-01,  7.23456203e-02],\n",
       "       [ 8.40867845e-01,  4.78670034e-01,  6.74078983e-01,\n",
       "         1.45181993e+00,  5.05246187e-01],\n",
       "       [-1.02334183e+00, -1.52460712e+00, -1.55529287e+00,\n",
       "        -1.55648865e+00, -1.72197472e+00],\n",
       "       [-6.14744230e-01, -3.95487272e-01, -3.18622447e-01,\n",
       "        -4.42290671e-01, -4.08570737e-01],\n",
       "       [-5.41828597e-01, -2.86217609e-01, -3.60686067e-01,\n",
       "        -4.85236152e-01, -9.66722963e-02],\n",
       "       [-6.57953494e-01, -5.22968546e-01, -5.20527822e-01,\n",
       "        -5.08727496e-01, -4.57228294e-01],\n",
       "       [ 1.92109944e+00,  1.38925056e+00,  1.26296966e+00,\n",
       "         8.79174153e-01,  1.79986392e+00],\n",
       "       [ 1.11092574e+00,  7.88267413e-01,  7.66618946e-01,\n",
       "         7.01796799e-01,  1.30809588e+00],\n",
       "       [ 4.08775207e-01,  1.38925056e+00,  1.28820783e+00,\n",
       "        -2.36723705e-01,  4.65631701e-01],\n",
       "       [-4.60811228e-01, -1.13207309e-01, -2.09257035e-01,\n",
       "        -3.82629740e-01, -1.09390938e-01],\n",
       "       [-6.44450599e-01, -7.05084651e-01, -6.80369578e-01,\n",
       "         2.45850329e-02, -6.06001400e-01],\n",
       "       [-6.44450599e-01, -4.31910493e-01, -5.03702374e-01,\n",
       "        -8.42894814e-01, -4.11604541e-01],\n",
       "       [ 8.94879425e-01,  6.60786139e-01,  8.50746186e-01,\n",
       "         1.78797043e+00,  1.02595206e+00],\n",
       "       [ 6.24821526e-01,  6.15257113e-01,  7.75031670e-01,\n",
       "         1.58986404e+00,  5.53437005e-01],\n",
       "       [-6.57953494e-01, -3.40852440e-01, -4.19575135e-01,\n",
       "        -5.69852209e-01, -2.95503177e-01],\n",
       "       [ 4.08775207e-01,  2.96553928e-01,  2.95506404e-01,\n",
       "         4.61642076e-01,  1.30132816e+00],\n",
       "       [-1.02604241e+00, -1.49728971e+00, -1.50481653e+00,\n",
       "        -1.60790990e+00, -1.77728331e+00],\n",
       "       [-2.39363751e-01,  8.70219660e-01,  7.83444394e-01,\n",
       "        -5.90297942e-01, -1.81852192e-01],\n",
       "       [-2.39363751e-01, -4.03608666e-02, -1.50367967e-01,\n",
       "        -1.09941276e-01,  4.70124065e-01],\n",
       "       [ 1.65104154e+00,  1.38925056e+00,  1.23773149e+00,\n",
       "         7.42310514e-01,  1.71859296e+00],\n",
       "       [ 8.40867845e-01,  4.78670034e-01,  6.57253535e-01,\n",
       "         1.43349904e+00,  5.56529152e-01],\n",
       "       [ 5.97815736e-01,  5.24199060e-01,  6.82491706e-01,\n",
       "         1.61590519e+00,  4.68082082e-01],\n",
       "       [ 3.00752047e-01,  2.96553928e-01,  4.80586331e-01,\n",
       "         1.31804912e+00,  2.81853159e-01],\n",
       "       [ 1.81926572e-01,  1.34372153e+00,  1.26296966e+00,\n",
       "        -3.56187222e-01, -5.24976428e-03],\n",
       "       [ 4.51984470e-01,  6.15257113e-01,  5.05824503e-01,\n",
       "         3.46546296e-01,  1.19952068e+00],\n",
       "       [ 1.24595469e+00,  1.11607640e+00,  9.93762494e-01,\n",
       "         7.41318919e-01,  1.61894415e+00],\n",
       "       [ 1.11711518e-01,  9.33960297e-01,  8.42333462e-01,\n",
       "        -3.53826283e-01,  1.42939918e-01],\n",
       "       [-1.02928310e+00, -1.57013615e+00, -1.58894377e+00,\n",
       "        -1.60937369e+00, -1.85032799e+00],\n",
       "       [-6.98462179e-01, -5.86709183e-01, -6.46718682e-01,\n",
       "        -5.67727364e-01, -4.65279544e-01],\n",
       "       [ 1.51601259e+00,  2.18145562e+00,  2.07059116e+00,\n",
       "         3.24705695e-02,  1.07332608e+00],\n",
       "       [-2.39363751e-01,  8.71204071e-02, -3.25898316e-02,\n",
       "        -2.84131361e-01,  1.77303588e-01],\n",
       "       [-1.03144357e+00, -1.63387679e+00, -1.65624556e+00,\n",
       "        -1.66443079e+00, -1.91590484e+00],\n",
       "       [-8.06485338e-01, -9.14518172e-01, -8.99100401e-01,\n",
       "        -3.26628265e-01, -9.67607560e-01],\n",
       "       [-6.57953494e-01, -4.59227909e-01, -5.28940546e-01,\n",
       "        -6.69436620e-01, -4.09270846e-01],\n",
       "       [ 1.16493732e+00,  1.02501835e+00,  9.09635254e-01,\n",
       "         8.60003327e-01,  1.76188302e+00],\n",
       "       [ 1.02990837e+00,  1.84454082e+00,  1.74249493e+00,\n",
       "        -2.61749659e-01,  6.09387361e-01],\n",
       "       [-7.79479548e-01, -8.87200756e-01, -9.49576745e-01,\n",
       "        -8.41974048e-01, -5.89198790e-01],\n",
       "       [-8.38892286e-01, -8.14354314e-01, -7.81322266e-01,\n",
       "        -7.58585679e-01, -8.32603260e-01],\n",
       "       [ 3.27138893e+00,  2.93723746e+00,  2.81932360e+00,\n",
       "         1.91550645e-01,  1.05745695e+00],\n",
       "       [-2.23160277e-01,  2.33797703e-02,  2.62992362e-02,\n",
       "        -2.51854772e-03,  2.04257774e-01],\n",
       "       [-7.52473758e-01, -6.14026598e-01, -6.71956854e-01,\n",
       "        -7.30986302e-01, -4.53027641e-01],\n",
       "       [-3.95997332e-01, -2.13371167e-01, -4.10025556e-02,\n",
       "         6.44850949e-01, -1.81735507e-01],\n",
       "       [-5.09421650e-01, -3.86381467e-01, -3.10209723e-01,\n",
       "        -3.28611454e-01, -1.19192461e-01],\n",
       "       [ 1.92109944e+00,  1.29819251e+00,  1.18725515e+00,\n",
       "         9.47098370e-01,  1.48008926e+00],\n",
       "       [-1.02280172e+00, -1.45176068e+00, -1.46275291e+00,\n",
       "        -1.55226257e+00, -1.84688579e+00],\n",
       "       [-1.02253166e+00, -1.45176068e+00, -1.46275291e+00,\n",
       "        -1.55226257e+00, -1.77810010e+00],\n",
       "       [-6.71456389e-01, -6.41344014e-01, -6.13067786e-01,\n",
       "        -5.92755233e-02, -6.05067921e-01],\n",
       "       [-6.17444809e-01, -4.77439519e-01, -4.36400583e-01,\n",
       "        -4.14407980e-01, -2.98245269e-01],\n",
       "       [ 3.68835833e-03,  3.60294565e-01,  3.79633643e-01,\n",
       "         1.64399845e-01,  5.97135458e-01],\n",
       "       [-9.01005603e-01, -1.18769233e+00, -1.17672029e+00,\n",
       "        -4.58297838e-01, -1.16976396e+00],\n",
       "       [ 3.00752047e-01,  2.69236512e-01,  4.80586331e-01,\n",
       "         1.28386272e+00,  3.66332946e-01],\n",
       "       [ 1.21894890e+00,  6.60786139e-01,  5.73126295e-01,\n",
       "         6.37390381e-01,  2.02109828e+00],\n",
       "       [-1.03063339e+00, -1.56103035e+00, -1.58894377e+00,\n",
       "        -1.66688616e+00, -1.85709571e+00],\n",
       "       [-3.33884015e-01, -2.21492561e-02, -1.33542519e-01,\n",
       "        -4.10111071e-01,  2.04303502e-03],\n",
       "       [-6.57953494e-01, -5.68497572e-01, -5.37353270e-01,\n",
       "         2.23753854e-01, -6.85172029e-01],\n",
       "       [-6.98462179e-01, -4.77439519e-01, -5.45765994e-01,\n",
       "        -6.92384948e-01, -4.12771389e-01],\n",
       "       [ 1.11711518e-01,  1.14437823e-01,  2.95506404e-01,\n",
       "         8.63001720e-01,  4.68198766e-01],\n",
       "       [-6.98462179e-01, -5.22968546e-01, -5.87829614e-01,\n",
       "        -6.32417095e-01, -4.70530360e-01],\n",
       "       [-1.01659038e+00, -1.41533746e+00, -1.43751474e+00,\n",
       "        -1.58142017e+00, -1.71404015e+00],\n",
       "       [-1.85352171e-01,  2.05495876e-01,  9.36010280e-02,\n",
       "        -2.76954107e-01,  2.56765929e-01],\n",
       "       [-8.19988233e-01, -7.41507872e-01, -8.14973162e-01,\n",
       "        -8.61994811e-01, -7.55357929e-01],\n",
       "       [-2.39363751e-01, -1.58736335e-01, -1.25129795e-01,\n",
       "         6.08964675e-01, -5.68827833e-02],\n",
       "       [-1.01659038e+00, -1.34249102e+00, -1.40386384e+00,\n",
       "        -1.53736505e+00, -1.79443597e+00],\n",
       "       [ 1.38098364e+00,  1.11607640e+00,  1.01058794e+00,\n",
       "         6.94430669e-01,  1.68813823e+00],\n",
       "       [ 3.68835833e-03,  2.05495876e-01,  3.79633643e-01,\n",
       "         9.16358943e-01,  2.09158535e-01],\n",
       "       [-7.25467969e-01, -6.14026598e-01, -5.71004166e-01,\n",
       "        -6.31331063e-01, -6.05126264e-01],\n",
       "       [-7.25467969e-01, -5.22968546e-01, -5.87829614e-01,\n",
       "        -6.32417095e-01, -5.39082673e-01],\n",
       "       [ 3.38560153e-01,  4.60458423e-01,  2.95506404e-01,\n",
       "         2.93071025e-01,  9.83945533e-01],\n",
       "       [ 1.65723098e-01,  2.05495876e-01,  3.88046367e-01,\n",
       "         1.23152070e+00,  2.98889138e-01]])"
      ]
     },
     "execution_count": 39,
     "metadata": {},
     "output_type": "execute_result"
    }
   ],
   "source": [
    "x_train"
   ]
  },
  {
   "cell_type": "code",
   "execution_count": 40,
   "metadata": {},
   "outputs": [],
   "source": [
    "### 로지스틱 회귀로 이진 분류 수행하기 \n",
    "\n",
    "bream_smelt_index = (y_train == 'Bream') | (y_train == 'Smelt')\n",
    "\n",
    "y_train_bin = y_train[bream_smelt_index]\n",
    "x_train_bin = x_train[bream_smelt_index]\n",
    "\n",
    "\n"
   ]
  },
  {
   "cell_type": "code",
   "execution_count": 48,
   "metadata": {},
   "outputs": [
    {
     "data": {
      "text/plain": [
       "34"
      ]
     },
     "execution_count": 48,
     "metadata": {},
     "output_type": "execute_result"
    }
   ],
   "source": [
    "180\n",
    "len(y_train_bin)"
   ]
  },
  {
   "cell_type": "code",
   "execution_count": 49,
   "metadata": {},
   "outputs": [
    {
     "name": "stdout",
     "output_type": "stream",
     "text": [
      "['Bream' 'Bream' 'Bream' 'Bream' 'Bream' 'Bream' 'Bream' 'Bream' 'Bream'\n",
      " 'Bream' 'Bream' 'Smelt' 'Smelt' 'Bream' 'Bream' 'Smelt' 'Bream' 'Bream'\n",
      " 'Smelt' 'Bream' 'Bream' 'Bream' 'Smelt' 'Smelt' 'Bream' 'Smelt' 'Smelt'\n",
      " 'Bream' 'Smelt' 'Bream' 'Smelt' 'Smelt' 'Bream' 'Bream']\n",
      "[[9.83441036e-01 1.65589636e-02]\n",
      " [9.90606889e-01 9.39311146e-03]\n",
      " [9.96393524e-01 3.60647625e-03]\n",
      " [9.99315134e-01 6.84866436e-04]\n",
      " [9.93398330e-01 6.60166970e-03]\n",
      " [9.99528504e-01 4.71495769e-04]\n",
      " [9.93901870e-01 6.09812975e-03]\n",
      " [9.97282785e-01 2.71721497e-03]\n",
      " [9.35453072e-01 6.45469278e-02]\n",
      " [9.97356177e-01 2.64382313e-03]\n",
      " [9.99136909e-01 8.63090933e-04]\n",
      " [7.43120362e-02 9.25687964e-01]\n",
      " [3.94675995e-02 9.60532400e-01]\n",
      " [9.59475179e-01 4.05248211e-02]\n",
      " [9.92664863e-01 7.33513653e-03]\n",
      " [3.32822640e-02 9.66717736e-01]\n",
      " [9.97265426e-01 2.73457360e-03]\n",
      " [9.94234629e-01 5.76537061e-03]\n",
      " [3.19091303e-02 9.68090870e-01]\n",
      " [9.92725413e-01 7.27458717e-03]\n",
      " [9.93182617e-01 6.81738327e-03]\n",
      " [9.84282972e-01 1.57170283e-02]\n",
      " [2.72996146e-02 9.72700385e-01]\n",
      " [2.26366232e-02 9.77363377e-01]\n",
      " [8.95103252e-01 1.04896748e-01]\n",
      " [3.38969114e-02 9.66103089e-01]\n",
      " [3.56423614e-02 9.64357639e-01]\n",
      " [9.84471210e-01 1.55287904e-02]\n",
      " [2.57828362e-02 9.74217164e-01]\n",
      " [9.70612090e-01 2.93879102e-02]\n",
      " [3.77916931e-02 9.62208307e-01]\n",
      " [3.97300317e-02 9.60269968e-01]\n",
      " [9.68511746e-01 3.14882544e-02]\n",
      " [9.79905178e-01 2.00948222e-02]]\n"
     ]
    }
   ],
   "source": [
    "from sklearn.linear_model import LogisticRegression\n",
    "lr = LogisticRegression()\n",
    "lr.fit(x_train_bin,y_train_bin)\n",
    "\n",
    "print(lr.predict(x_train_bin))\n",
    "\n",
    "print(lr.predict_proba(x_train_bin))\n"
   ]
  },
  {
   "cell_type": "code",
   "execution_count": 50,
   "metadata": {},
   "outputs": [
    {
     "name": "stdout",
     "output_type": "stream",
     "text": [
      "['Bream' 'Smelt']\n"
     ]
    }
   ],
   "source": [
    "print(lr.classes_)"
   ]
  },
  {
   "cell_type": "code",
   "execution_count": 51,
   "metadata": {},
   "outputs": [
    {
     "name": "stdout",
     "output_type": "stream",
     "text": [
      "[[-0.40771257 -0.61015572 -0.69401554 -1.01925495 -0.75465084]] [-1.94394103]\n"
     ]
    }
   ],
   "source": [
    "print(lr.coef_,lr.intercept_)"
   ]
  },
  {
   "cell_type": "code",
   "execution_count": 53,
   "metadata": {},
   "outputs": [
    {
     "name": "stdout",
     "output_type": "stream",
     "text": [
      "[0.01655896 0.00939311 0.00360648 0.00068487 0.00660167]\n"
     ]
    }
   ],
   "source": [
    "decisions = lr.decision_function(x_train_bin[:5])\n",
    "from scipy.special import expit\n",
    "print(expit(decisions))"
   ]
  },
  {
   "cell_type": "code",
   "execution_count": 54,
   "metadata": {},
   "outputs": [
    {
     "name": "stdout",
     "output_type": "stream",
     "text": [
      "0.9099099099099099\n"
     ]
    }
   ],
   "source": [
    "### 로지스틱 회귀로 다중 분류 수행하기\n",
    "\n",
    "lr = LogisticRegression(C=20,max_iter=1000)\n",
    "lr.fit(x_train,y_train)\n",
    "print(lr.score(x_train,y_train))\n"
   ]
  },
  {
   "cell_type": "code",
   "execution_count": 55,
   "metadata": {},
   "outputs": [
    {
     "name": "stdout",
     "output_type": "stream",
     "text": [
      "0.9166666666666666\n"
     ]
    }
   ],
   "source": [
    "print(lr.score(x_test,y_test))"
   ]
  },
  {
   "cell_type": "code",
   "execution_count": 57,
   "metadata": {},
   "outputs": [
    {
     "name": "stdout",
     "output_type": "stream",
     "text": [
      "['Pike' 'Perch' 'Roach' 'Roach' 'Parkki']\n",
      "[[0.    0.    0.004 0.996 0.    0.    0.   ]\n",
      " [0.    0.012 0.817 0.    0.164 0.003 0.004]\n",
      " [0.004 0.078 0.305 0.003 0.545 0.    0.065]\n",
      " [0.    0.104 0.316 0.    0.555 0.015 0.01 ]\n",
      " [0.306 0.588 0.    0.    0.058 0.    0.048]]\n",
      "['Bream' 'Parkki' 'Perch' 'Pike' 'Roach' 'Smelt' 'Whitefish']\n",
      "[[-2.02910617 -0.40450445  2.94420383  7.41348157 -1.38707319]\n",
      " [-0.08289982 -1.97208885 -3.59052302  6.38765843 -1.86914094]\n",
      " [ 3.10107125  6.09677848 -8.55269536 -6.23783299  4.54813171]\n",
      " [-0.27083852  3.66875692  3.48555259 -2.43395451 -1.89918303]\n",
      " [-0.87967688 -6.04091206  4.97313688 -1.14075488  2.14632058]\n",
      " [-1.21297044  1.06527888  0.96226058 -5.27320747 -4.40083249]\n",
      " [ 1.37442058 -2.41330892 -0.2219355   1.28460984  2.86177737]] [-0.13385994  0.05334338  2.73927835 -0.26501866  2.56091441 -6.57305727\n",
      "  1.61839973]\n",
      "[[0.006 0.    0.    0.    0.    0.    0.   ]\n",
      " [0.008 0.    0.    0.    0.    0.    0.   ]\n",
      " [0.06  0.    0.    0.    0.    0.    0.   ]\n",
      " [0.923 0.    0.    0.    0.    0.    0.001]\n",
      " [0.002 0.    0.    0.    0.    0.    0.   ]]\n"
     ]
    }
   ],
   "source": [
    "print(lr.predict(x_test[:5]))\n",
    "proba = lr.predict_proba(x_test[:5])\n",
    "print(np.round(proba,decimals=3))\n",
    "print(lr.classes_)\n",
    "print(lr.coef_,lr.intercept_)\n",
    "\n",
    "decision = lr.decision_function(x_train_bin[:5])\n",
    "from scipy.special import softmax\n",
    "proba = softmax(decision)\n",
    "print(np.round(proba,decimals=3))"
   ]
  },
  {
   "cell_type": "code",
   "execution_count": null,
   "metadata": {},
   "outputs": [],
   "source": []
  }
 ],
 "metadata": {
  "kernelspec": {
   "display_name": "Python 3",
   "language": "python",
   "name": "python3"
  },
  "language_info": {
   "codemirror_mode": {
    "name": "ipython",
    "version": 3
   },
   "file_extension": ".py",
   "mimetype": "text/x-python",
   "name": "python",
   "nbconvert_exporter": "python",
   "pygments_lexer": "ipython3",
   "version": "3.9.13"
  },
  "orig_nbformat": 4
 },
 "nbformat": 4,
 "nbformat_minor": 2
}
