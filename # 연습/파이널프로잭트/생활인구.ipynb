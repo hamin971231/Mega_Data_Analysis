{
 "cells": [
  {
   "cell_type": "code",
   "execution_count": 1,
   "metadata": {},
   "outputs": [],
   "source": [
    "import pandas as pd"
   ]
  },
  {
   "cell_type": "code",
   "execution_count": 2,
   "metadata": {},
   "outputs": [],
   "source": [
    "df = pd.read_csv('생활인구수정.csv',encoding='utf-8')"
   ]
  },
  {
   "cell_type": "code",
   "execution_count": 3,
   "metadata": {},
   "outputs": [
    {
     "data": {
      "text/html": [
       "<div>\n",
       "<style scoped>\n",
       "    .dataframe tbody tr th:only-of-type {\n",
       "        vertical-align: middle;\n",
       "    }\n",
       "\n",
       "    .dataframe tbody tr th {\n",
       "        vertical-align: top;\n",
       "    }\n",
       "\n",
       "    .dataframe thead th {\n",
       "        text-align: right;\n",
       "    }\n",
       "</style>\n",
       "<table border=\"1\" class=\"dataframe\">\n",
       "  <thead>\n",
       "    <tr style=\"text-align: right;\">\n",
       "      <th></th>\n",
       "      <th>Unnamed: 0</th>\n",
       "      <th>기준일ID</th>\n",
       "      <th>자치구코드</th>\n",
       "      <th>총생활인구수</th>\n",
       "      <th>여자20세부터24세생활인구수</th>\n",
       "      <th>여자25세부터29세생활인구수</th>\n",
       "      <th>여자30세부터34세생활인구수</th>\n",
       "      <th>여자35세부터39세생활인구수</th>\n",
       "      <th>자치구</th>\n",
       "    </tr>\n",
       "  </thead>\n",
       "  <tbody>\n",
       "    <tr>\n",
       "      <th>0</th>\n",
       "      <td>0</td>\n",
       "      <td>20230909</td>\n",
       "      <td>11110</td>\n",
       "      <td>208163.5582</td>\n",
       "      <td>12763.1522</td>\n",
       "      <td>9562.6298</td>\n",
       "      <td>7326.6062</td>\n",
       "      <td>8159.0514</td>\n",
       "      <td>종로구</td>\n",
       "    </tr>\n",
       "    <tr>\n",
       "      <th>1</th>\n",
       "      <td>1</td>\n",
       "      <td>20230909</td>\n",
       "      <td>11140</td>\n",
       "      <td>160973.4366</td>\n",
       "      <td>7670.8711</td>\n",
       "      <td>7879.6879</td>\n",
       "      <td>7275.3970</td>\n",
       "      <td>8522.7921</td>\n",
       "      <td>중구</td>\n",
       "    </tr>\n",
       "    <tr>\n",
       "      <th>2</th>\n",
       "      <td>2</td>\n",
       "      <td>20230909</td>\n",
       "      <td>11170</td>\n",
       "      <td>263537.9504</td>\n",
       "      <td>10684.7616</td>\n",
       "      <td>13316.2876</td>\n",
       "      <td>13422.2409</td>\n",
       "      <td>14422.6628</td>\n",
       "      <td>용산구</td>\n",
       "    </tr>\n",
       "    <tr>\n",
       "      <th>3</th>\n",
       "      <td>3</td>\n",
       "      <td>20230909</td>\n",
       "      <td>11200</td>\n",
       "      <td>318883.9082</td>\n",
       "      <td>14375.0557</td>\n",
       "      <td>14408.5021</td>\n",
       "      <td>13586.3255</td>\n",
       "      <td>17031.2336</td>\n",
       "      <td>성동구</td>\n",
       "    </tr>\n",
       "    <tr>\n",
       "      <th>4</th>\n",
       "      <td>4</td>\n",
       "      <td>20230909</td>\n",
       "      <td>11215</td>\n",
       "      <td>368723.2191</td>\n",
       "      <td>21399.8255</td>\n",
       "      <td>20789.4824</td>\n",
       "      <td>15937.0314</td>\n",
       "      <td>16358.5533</td>\n",
       "      <td>광진구</td>\n",
       "    </tr>\n",
       "  </tbody>\n",
       "</table>\n",
       "</div>"
      ],
      "text/plain": [
       "   Unnamed: 0     기준일ID  자치구코드       총생활인구수  여자20세부터24세생활인구수  여자25세부터29세생활인구수  \\\n",
       "0           0  20230909  11110  208163.5582       12763.1522        9562.6298   \n",
       "1           1  20230909  11140  160973.4366        7670.8711        7879.6879   \n",
       "2           2  20230909  11170  263537.9504       10684.7616       13316.2876   \n",
       "3           3  20230909  11200  318883.9082       14375.0557       14408.5021   \n",
       "4           4  20230909  11215  368723.2191       21399.8255       20789.4824   \n",
       "\n",
       "   여자30세부터34세생활인구수  여자35세부터39세생활인구수  자치구  \n",
       "0        7326.6062        8159.0514  종로구  \n",
       "1        7275.3970        8522.7921   중구  \n",
       "2       13422.2409       14422.6628  용산구  \n",
       "3       13586.3255       17031.2336  성동구  \n",
       "4       15937.0314       16358.5533  광진구  "
      ]
     },
     "execution_count": 3,
     "metadata": {},
     "output_type": "execute_result"
    }
   ],
   "source": [
    "df.head()"
   ]
  },
  {
   "cell_type": "code",
   "execution_count": 4,
   "metadata": {},
   "outputs": [
    {
     "name": "stdout",
     "output_type": "stream",
     "text": [
      "<class 'pandas.core.frame.DataFrame'>\n",
      "RangeIndex: 1212600 entries, 0 to 1212599\n",
      "Data columns (total 9 columns):\n",
      " #   Column           Non-Null Count    Dtype  \n",
      "---  ------           --------------    -----  \n",
      " 0   Unnamed: 0       1212600 non-null  int64  \n",
      " 1   기준일ID            1212600 non-null  int64  \n",
      " 2   자치구코드            1212600 non-null  int64  \n",
      " 3   총생활인구수           1212600 non-null  float64\n",
      " 4   여자20세부터24세생활인구수  1212600 non-null  float64\n",
      " 5   여자25세부터29세생활인구수  1212600 non-null  float64\n",
      " 6   여자30세부터34세생활인구수  1212600 non-null  float64\n",
      " 7   여자35세부터39세생활인구수  1212600 non-null  float64\n",
      " 8   자치구              1212600 non-null  object \n",
      "dtypes: float64(5), int64(3), object(1)\n",
      "memory usage: 83.3+ MB\n"
     ]
    }
   ],
   "source": [
    "df.info()"
   ]
  },
  {
   "cell_type": "code",
   "execution_count": null,
   "metadata": {},
   "outputs": [],
   "source": []
  }
 ],
 "metadata": {
  "kernelspec": {
   "display_name": "Python 3",
   "language": "python",
   "name": "python3"
  },
  "language_info": {
   "codemirror_mode": {
    "name": "ipython",
    "version": 3
   },
   "file_extension": ".py",
   "mimetype": "text/x-python",
   "name": "python",
   "nbconvert_exporter": "python",
   "pygments_lexer": "ipython3",
   "version": "3.9.13"
  },
  "orig_nbformat": 4
 },
 "nbformat": 4,
 "nbformat_minor": 2
}
