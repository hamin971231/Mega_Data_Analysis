{
 "cells": [
  {
   "cell_type": "code",
   "execution_count": null,
   "metadata": {},
   "outputs": [],
   "source": [
    "Copy code\n",
    "import numpy as np\n",
    "import pandas as pd\n",
    "\n",
    "# 이 함수는 두 지점 간의 거리를 계산하는 데 사용됩니다.\n",
    "def calculate_distance(point1, point2):\n",
    "    return np.sqrt((point1[0] - point2[0])**2 + (point1[1] - point2[1])**2)\n",
    "\n",
    "# 이 함수는 커버된 면적을 계산합니다.\n",
    "def calculate_coverage_area(selected_sites, radius):\n",
    "    coverage_area = 0\n",
    "    for site in selected_sites:\n",
    "        site_coverage = np.pi * radius**2  # 선택된 위치 주변의 원의 면적을 계산\n",
    "        coverage_area += site_coverage\n",
    "    return coverage_area\n",
    "\n",
    "# 데이터 프레임을 생성하고 범죄 지점 데이터를 포함시킵니다.\n",
    "data = {\n",
    "    'x': [1.0, 2.0, 3.0, 4.0, 5.0],\n",
    "    'y': [1.0, 2.0, 3.0, 4.0, 5.0],\n",
    "    '범죄종합점수': [5, 3, 4, 2, 1]\n",
    "}\n",
    "df = pd.DataFrame(data)\n",
    "\n",
    "radius = 0.000135  # 30m 반경\n",
    "K = 3  # 최적 위치 개수\n",
    "\n",
    "selected_sites = mclp_with_crime_score(df, K, radius)\n",
    "coverage_area = calculate_coverage_area(selected_sites, radius)\n",
    "\n",
    "print('Optimal coverage area: %g' % coverage_area)"
   ]
  }
 ],
 "metadata": {
  "language_info": {
   "name": "python"
  }
 },
 "nbformat": 4,
 "nbformat_minor": 2
}
