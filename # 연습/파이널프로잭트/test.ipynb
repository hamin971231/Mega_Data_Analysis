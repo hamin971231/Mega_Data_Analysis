{
 "cells": [
  {
   "cell_type": "code",
   "execution_count": 1,
   "metadata": {},
   "outputs": [],
   "source": [
    "import pandas as pd \n"
   ]
  },
  {
   "cell_type": "code",
   "execution_count": 3,
   "metadata": {},
   "outputs": [
    {
     "data": {
      "text/plain": [
       "array(['영업/정상'], dtype=object)"
      ]
     },
     "execution_count": 3,
     "metadata": {},
     "output_type": "execute_result"
    }
   ],
   "source": [
    "data = pd.read_excel('관악구_단란주점.xlsx')\n",
    "data['영업상태명'].unique()"
   ]
  },
  {
   "cell_type": "code",
   "execution_count": 8,
   "metadata": {},
   "outputs": [
    {
     "data": {
      "text/plain": [
       "array(['영업/정상'], dtype=object)"
      ]
     },
     "execution_count": 8,
     "metadata": {},
     "output_type": "execute_result"
    }
   ],
   "source": [
    "data = pd.read_excel('관악구_게임제공업.xlsx')\n",
    "data['영업상태명'].unique()"
   ]
  },
  {
   "cell_type": "code",
   "execution_count": 9,
   "metadata": {},
   "outputs": [
    {
     "data": {
      "text/html": [
       "<div>\n",
       "<style scoped>\n",
       "    .dataframe tbody tr th:only-of-type {\n",
       "        vertical-align: middle;\n",
       "    }\n",
       "\n",
       "    .dataframe tbody tr th {\n",
       "        vertical-align: top;\n",
       "    }\n",
       "\n",
       "    .dataframe thead th {\n",
       "        text-align: right;\n",
       "    }\n",
       "</style>\n",
       "<table border=\"1\" class=\"dataframe\">\n",
       "  <thead>\n",
       "    <tr style=\"text-align: right;\">\n",
       "      <th></th>\n",
       "      <th>개방자치단체코드</th>\n",
       "      <th>인허가일자</th>\n",
       "      <th>영업상태명</th>\n",
       "      <th>상세영업상태코드</th>\n",
       "      <th>상세영업상태명</th>\n",
       "      <th>폐업일자</th>\n",
       "      <th>소재지우편번호</th>\n",
       "      <th>지번주소</th>\n",
       "      <th>도로명주소</th>\n",
       "      <th>도로명우편번호</th>\n",
       "      <th>사업장명</th>\n",
       "      <th>좌표정보(X)</th>\n",
       "      <th>좌표정보(Y)</th>\n",
       "    </tr>\n",
       "  </thead>\n",
       "  <tbody>\n",
       "    <tr>\n",
       "      <th>0</th>\n",
       "      <td>3200000</td>\n",
       "      <td>19991104</td>\n",
       "      <td>영업/정상</td>\n",
       "      <td>13</td>\n",
       "      <td>영업중</td>\n",
       "      <td>NaN</td>\n",
       "      <td>151899.0</td>\n",
       "      <td>서울특별시 관악구 신림동 1568-1번지</td>\n",
       "      <td>서울특별시 관악구 난곡로 302  (신림동)</td>\n",
       "      <td>NaN</td>\n",
       "      <td>워너스PC방</td>\n",
       "      <td>192403.860741</td>\n",
       "      <td>442095.332266</td>\n",
       "    </tr>\n",
       "    <tr>\n",
       "      <th>1</th>\n",
       "      <td>3200000</td>\n",
       "      <td>19991117</td>\n",
       "      <td>영업/정상</td>\n",
       "      <td>13</td>\n",
       "      <td>영업중</td>\n",
       "      <td>NaN</td>\n",
       "      <td>151834.0</td>\n",
       "      <td>서울특별시 관악구 봉천동 851-6번지</td>\n",
       "      <td>서울특별시 관악구 관악로 200  (봉천동)</td>\n",
       "      <td>NaN</td>\n",
       "      <td>클릭게임방</td>\n",
       "      <td>195875.593214</td>\n",
       "      <td>442273.143696</td>\n",
       "    </tr>\n",
       "    <tr>\n",
       "      <th>2</th>\n",
       "      <td>3200000</td>\n",
       "      <td>20001011</td>\n",
       "      <td>영업/정상</td>\n",
       "      <td>13</td>\n",
       "      <td>영업중</td>\n",
       "      <td>NaN</td>\n",
       "      <td>151896.0</td>\n",
       "      <td>서울특별시 관악구 신림동 1551-13번지</td>\n",
       "      <td>서울특별시 관악구 신림로17길 86  (신림동)</td>\n",
       "      <td>NaN</td>\n",
       "      <td>파라다이스</td>\n",
       "      <td>194295.822199</td>\n",
       "      <td>440534.156486</td>\n",
       "    </tr>\n",
       "    <tr>\n",
       "      <th>3</th>\n",
       "      <td>3200000</td>\n",
       "      <td>20001013</td>\n",
       "      <td>영업/정상</td>\n",
       "      <td>13</td>\n",
       "      <td>영업중</td>\n",
       "      <td>NaN</td>\n",
       "      <td>151873.0</td>\n",
       "      <td>서울특별시 관악구 신림동 515-13번지</td>\n",
       "      <td>서울특별시 관악구 난곡로72길 15  (신림동)</td>\n",
       "      <td>NaN</td>\n",
       "      <td>제너시스21</td>\n",
       "      <td>192384.527327</td>\n",
       "      <td>442599.897704</td>\n",
       "    </tr>\n",
       "    <tr>\n",
       "      <th>4</th>\n",
       "      <td>3200000</td>\n",
       "      <td>20010104</td>\n",
       "      <td>영업/정상</td>\n",
       "      <td>13</td>\n",
       "      <td>영업중</td>\n",
       "      <td>NaN</td>\n",
       "      <td>151846.0</td>\n",
       "      <td>서울특별시 관악구 봉천동 1566-8번지</td>\n",
       "      <td>서울특별시 관악구 쑥고개로 103  (봉천동)</td>\n",
       "      <td>NaN</td>\n",
       "      <td>폭탄클릭PC방</td>\n",
       "      <td>195326.935558</td>\n",
       "      <td>441899.463461</td>\n",
       "    </tr>\n",
       "  </tbody>\n",
       "</table>\n",
       "</div>"
      ],
      "text/plain": [
       "   개방자치단체코드     인허가일자  영업상태명  상세영업상태코드 상세영업상태명  폐업일자   소재지우편번호  \\\n",
       "0   3200000  19991104  영업/정상        13     영업중   NaN  151899.0   \n",
       "1   3200000  19991117  영업/정상        13     영업중   NaN  151834.0   \n",
       "2   3200000  20001011  영업/정상        13     영업중   NaN  151896.0   \n",
       "3   3200000  20001013  영업/정상        13     영업중   NaN  151873.0   \n",
       "4   3200000  20010104  영업/정상        13     영업중   NaN  151846.0   \n",
       "\n",
       "                       지번주소                       도로명주소 도로명우편번호     사업장명  \\\n",
       "0   서울특별시 관악구 신림동 1568-1번지     서울특별시 관악구 난곡로 302  (신림동)     NaN   워너스PC방   \n",
       "1    서울특별시 관악구 봉천동 851-6번지     서울특별시 관악구 관악로 200  (봉천동)     NaN    클릭게임방   \n",
       "2  서울특별시 관악구 신림동 1551-13번지   서울특별시 관악구 신림로17길 86  (신림동)     NaN    파라다이스   \n",
       "3   서울특별시 관악구 신림동 515-13번지   서울특별시 관악구 난곡로72길 15  (신림동)     NaN   제너시스21   \n",
       "4   서울특별시 관악구 봉천동 1566-8번지    서울특별시 관악구 쑥고개로 103  (봉천동)     NaN  폭탄클릭PC방   \n",
       "\n",
       "         좌표정보(X)        좌표정보(Y)  \n",
       "0  192403.860741  442095.332266  \n",
       "1  195875.593214  442273.143696  \n",
       "2  194295.822199  440534.156486  \n",
       "3  192384.527327  442599.897704  \n",
       "4  195326.935558  441899.463461  "
      ]
     },
     "execution_count": 9,
     "metadata": {},
     "output_type": "execute_result"
    }
   ],
   "source": [
    "data.head()"
   ]
  },
  {
   "cell_type": "code",
   "execution_count": null,
   "metadata": {},
   "outputs": [],
   "source": []
  }
 ],
 "metadata": {
  "kernelspec": {
   "display_name": "Python 3",
   "language": "python",
   "name": "python3"
  },
  "language_info": {
   "codemirror_mode": {
    "name": "ipython",
    "version": 3
   },
   "file_extension": ".py",
   "mimetype": "text/x-python",
   "name": "python",
   "nbconvert_exporter": "python",
   "pygments_lexer": "ipython3",
   "version": "3.9.13"
  },
  "orig_nbformat": 4
 },
 "nbformat": 4,
 "nbformat_minor": 2
}
