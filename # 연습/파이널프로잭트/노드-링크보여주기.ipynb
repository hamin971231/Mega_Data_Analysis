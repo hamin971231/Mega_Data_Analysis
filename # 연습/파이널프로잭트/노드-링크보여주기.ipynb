{
 "cells": [
  {
   "cell_type": "code",
   "execution_count": null,
   "metadata": {},
   "outputs": [],
   "source": [
    "# 노드-링크 지도에 보여주기\n",
    "impport  \n",
    "df = pd.read_csv('./서울시 자치구별 도보 네트워크 공간정보.csv', encoding='cp949')"
   ]
  }
 ],
 "metadata": {
  "language_info": {
   "name": "python"
  }
 },
 "nbformat": 4,
 "nbformat_minor": 2
}
