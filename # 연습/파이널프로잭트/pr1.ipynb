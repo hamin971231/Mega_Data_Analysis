{
 "cells": [
  {
   "cell_type": "code",
   "execution_count": 2,
   "metadata": {},
   "outputs": [],
   "source": [
    "import pandas as pd\n",
    "import numpy as np\n",
    "import folium\n",
    "import matplotlib as plt\n",
    "import sys\n",
    "from pandas import DataFrame\n",
    "from pandas import read_csv, read_excel\n",
    "import seaborn as sns"
   ]
  },
  {
   "cell_type": "code",
   "execution_count": 3,
   "metadata": {},
   "outputs": [
    {
     "name": "stderr",
     "output_type": "stream",
     "text": [
      "c:\\Users\\user\\AppData\\Local\\Programs\\Python\\Python311\\Lib\\site-packages\\openpyxl\\styles\\stylesheet.py:226: UserWarning: Workbook contains no default style, apply openpyxl's default\n",
      "  warn(\"Workbook contains no default style, apply openpyxl's default\")\n"
     ]
    }
   ],
   "source": [
    "train = pd.read_excel('안전비상벨위치정보.xlsx')"
   ]
  },
  {
   "cell_type": "code",
   "execution_count": 4,
   "metadata": {},
   "outputs": [],
   "source": [
    "# 그래프 한글 설정\n",
    "plt.rcParams[\"font.family\"] = 'AppleGothic' if sys.platform == 'darwin' else 'Malgun Gothic'\n",
    "plt.rcParams[\"font.size\"] = 12\n",
    "plt.rcParams[\"figure.figsize\"] = (10, 5)\n",
    "plt.rcParams[\"axes.unicode_minus\"] = False"
   ]
  },
  {
   "cell_type": "code",
   "execution_count": 5,
   "metadata": {},
   "outputs": [
    {
     "data": {
      "text/plain": [
       "Index(['번호', '안전비상벨관리번호', '설치목적', '설치장소유형', '설치위치', '소재지도로명주소', '소재지지번주소',\n",
       "       'WGS84위도', 'WGS84경도', '연계방식', '경찰연계유무', '경비업체연계유무', '관리사무소연계유무', '부가기능',\n",
       "       '안전비상벨설치연도', '최종점검일자', '최종점검결과구분', '관리기관명', '관리기관전화번호', '데이터기준일자'],\n",
       "      dtype='object')"
      ]
     },
     "execution_count": 5,
     "metadata": {},
     "output_type": "execute_result"
    }
   ],
   "source": [
    "train.columns"
   ]
  },
  {
   "cell_type": "code",
   "execution_count": 6,
   "metadata": {},
   "outputs": [
    {
     "data": {
      "text/plain": [
       "array([[ 37.48472219, 126.9448623 ],\n",
       "       [ 37.49274898, 126.9350922 ],\n",
       "       [ 37.47331235, 126.9236363 ],\n",
       "       ...,\n",
       "       [ 37.60638162, 127.0091733 ],\n",
       "       [ 37.60749279, 127.0076468 ],\n",
       "       [ 37.60857871, 127.007949  ]])"
      ]
     },
     "execution_count": 6,
     "metadata": {},
     "output_type": "execute_result"
    }
   ],
   "source": [
    "df = train[['WGS84위도', 'WGS84경도']]\n",
    "df = df.iloc[0:1500, :]\n",
    "df = df.to_numpy()\n",
    "df"
   ]
  },
  {
   "cell_type": "code",
   "execution_count": 7,
   "metadata": {},
   "outputs": [
    {
     "name": "stdout",
     "output_type": "stream",
     "text": [
      "37.48472219 126.9448623\n",
      "37.49274898 126.9350922\n"
     ]
    }
   ],
   "source": [
    "print(df[0][0], df[0][1])\n",
    "print(df[1][0], df[1][1])"
   ]
  },
  {
   "cell_type": "code",
   "execution_count": 8,
   "metadata": {},
   "outputs": [],
   "source": [
    "# m = folium.Map(location=[37.53897093698831, 127.05461953077439], \n",
    "#                zoom_start=14, \n",
    "#                )\n",
    "# for i in range(0, 1500):\n",
    "#         folium.Marker([df[i][0], df[i][1]]).add_to(m)\n",
    "# m"
   ]
  },
  {
   "cell_type": "code",
   "execution_count": 9,
   "metadata": {},
   "outputs": [],
   "source": [
    "from haversine import haversine"
   ]
  },
  {
   "cell_type": "code",
   "execution_count": 10,
   "metadata": {},
   "outputs": [
    {
     "data": {
      "text/plain": [
       "0.7316469486750149"
      ]
     },
     "execution_count": 10,
     "metadata": {},
     "output_type": "execute_result"
    }
   ],
   "source": [
    "# 위경도 입력\n",
    "one = (df[0][0], df[0][1])  #Latitude, Longitude\n",
    "two = (df[1][0], df[1][1])\n",
    "three = (df[2][0], df[3][1])\n",
    "four = (df[3][0], df[3][1])\n",
    "# 거리 계산\n",
    "haversine(four, three, unit = 'km')"
   ]
  },
  {
   "cell_type": "code",
   "execution_count": 11,
   "metadata": {},
   "outputs": [],
   "source": [
    "import numpy as np\n",
    "from scipy.spatial import distance_matrix\n",
    "from gurobipy import *\n",
    "from scipy.spatial import ConvexHull\n",
    "from shapely.geometry import Polygon, Point\n",
    "from numpy import random\n",
    "\n",
    "def generate_candidate_sites(points,M=100):\n",
    "    '''\n",
    "    Generate M candidate sites with the convex hull of a point set\n",
    "    Input:\n",
    "        points: a Numpy array with shape of (N,2)\n",
    "        M: the number of candidate sites to generate\n",
    "    Return:\n",
    "        sites: a Numpy array with shape of (M,2)\n",
    "    '''\n",
    "    hull = ConvexHull(points)\n",
    "    polygon_points = points[hull.vertices]\n",
    "    poly = Polygon(polygon_points)\n",
    "    min_x, min_y, max_x, max_y = poly.bounds\n",
    "    sites = []\n",
    "    while len(sites) < M:\n",
    "        random_point = Point([random.uniform(min_x, max_x),\n",
    "                             random.uniform(min_y, max_y)])\n",
    "        if (random_point.within(poly)):\n",
    "            sites.append(random_point)\n",
    "    return np.array([(p.x,p.y) for p in sites])\n",
    "\n",
    "def mclp(points,K,radius,M):\n",
    "    \"\"\"\n",
    "    Solve maximum covering location problem\n",
    "    Input:\n",
    "        points: input points, Numpy array in shape of [N,2]\n",
    "        K: the number of sites to select\n",
    "        radius: the radius of circle\n",
    "        M: the number of candidate sites, which will randomly generated inside\n",
    "        the ConvexHull wrapped by the polygon\n",
    "    Return:\n",
    "        opt_sites: locations K optimal sites, Numpy array in shape of [K,2]\n",
    "        f: the optimal value of the objective function\n",
    "    \"\"\"\n",
    "    print('----- Configurations -----')\n",
    "    print('  Number of points %g' % points.shape[0])\n",
    "    print('  K %g' % K)\n",
    "    print('  Radius %g' % radius)\n",
    "    print('  M %g' % M)\n",
    "    import time\n",
    "    start = time.time()\n",
    "    sites = generate_candidate_sites(points,M)\n",
    "    J = sites.shape[0]\n",
    "    I = points.shape[0]\n",
    "    D = distance_matrix(points,sites)\n",
    "    mask1 = D<=radius\n",
    "    D[mask1]=1\n",
    "    D[~mask1]=0\n",
    "    # Build model\n",
    "    m = Model()\n",
    "    # Add variables\n",
    "    x = {}\n",
    "    y = {}\n",
    "    for i in range(I):\n",
    "      y[i] = m.addVar(vtype=GRB.BINARY, name=\"y%d\" % i)\n",
    "    for j in range(J):\n",
    "      x[j] = m.addVar(vtype=GRB.BINARY, name=\"x%d\" % j)\n",
    "\n",
    "    m.update()\n",
    "    # Add constraints\n",
    "    m.addConstr(quicksum(x[j] for j in range(J)) == K)\n",
    "\n",
    "    for i in range(I):\n",
    "        m.addConstr(quicksum(x[j] for j in np.where(D[i]==1)[0]) >= y[i])\n",
    "\n",
    "    m.setObjective(quicksum(y[i]for i in range(I)),GRB.MAXIMIZE)\n",
    "    m.setParam('OutputFlag', 0)\n",
    "    m.optimize()\n",
    "    end = time.time()\n",
    "    print('----- Output -----')\n",
    "    print('  Running time : %s seconds' % float(end-start))\n",
    "    print('  Optimal coverage points: %g' % m.objVal)\n",
    "    \n",
    "    solution = []\n",
    "    if m.status == GRB.Status.OPTIMAL:\n",
    "        for v in m.getVars():\n",
    "            # print v.varName,v.x\n",
    "            if v.x==1 and v.varName[0]==\"x\":\n",
    "               solution.append(int(v.varName[1:]))\n",
    "    opt_sites = sites[solution]\n",
    "    return opt_sites,m.objVal\n",
    "\n",
    "def plot_input(points):\n",
    "    '''\n",
    "    Plot the result\n",
    "    Input:\n",
    "        points: input points, Numpy array in shape of [N,2]\n",
    "        opt_sites: locations K optimal sites, Numpy array in shape of [K,2]\n",
    "        radius: the radius of circle\n",
    "    '''\n",
    "    from matplotlib import pyplot as plt\n",
    "    fig = plt.figure(figsize=(8,8))\n",
    "    plt.scatter(points[:,0],points[:,1],c='C0')\n",
    "    ax = plt.gca()\n",
    "    ax.axis('equal')\n",
    "    ax.tick_params(axis='both',left=False, top=False, right=False,\n",
    "                       bottom=False, labelleft=False, labeltop=False,\n",
    "                       labelright=False, labelbottom=False)\n",
    "\n",
    "def plot_result(points,opt_sites,radius):\n",
    "    '''\n",
    "    Plot the result\n",
    "    Input:\n",
    "        points: input points, Numpy array in shape of [N,2]\n",
    "        opt_sites: locations K optimal sites, Numpy array in shape of [K,2]\n",
    "        radius: the radius of circle\n",
    "    '''\n",
    "    from matplotlib import pyplot as plt\n",
    "    fig = plt.figure(figsize=(8,8))\n",
    "    plt.scatter(points[:,0],points[:,1],c='C0')\n",
    "    ax = plt.gca()\n",
    "    plt.scatter(opt_sites[:,0],opt_sites[:,1],c='C1',marker='+')\n",
    "    for site in opt_sites:\n",
    "        circle = plt.Circle(site, radius, color='C1',fill=False,lw=2)\n",
    "        ax.add_artist(circle)\n",
    "    ax.axis('equal')\n",
    "    ax.tick_params(axis='both',left=False, top=False, right=False,\n",
    "                       bottom=False, labelleft=False, labeltop=False,\n",
    "                       labelright=False, labelbottom=False)"
   ]
  },
  {
   "cell_type": "code",
   "execution_count": 12,
   "metadata": {},
   "outputs": [
    {
     "data": {
      "text/plain": [
       "array([[ 37.48212681, 126.94192341],\n",
       "       [ 37.63622517, 127.03469896],\n",
       "       [ 37.61013211, 127.00463855],\n",
       "       [ 37.54005969, 127.03072691],\n",
       "       [ 37.60153314, 127.05608801],\n",
       "       [ 37.49370338, 126.96314028],\n",
       "       [ 37.49611794, 127.0042468 ],\n",
       "       [ 37.56926328, 126.98852423],\n",
       "       [ 37.49959821, 126.98939575],\n",
       "       [ 37.58927517, 126.95996198],\n",
       "       [ 37.56162223, 126.98770582],\n",
       "       [ 37.53693065, 127.00885666],\n",
       "       [ 37.45639793, 126.93420692],\n",
       "       [ 37.49680411, 127.01189069],\n",
       "       [ 37.56545442, 127.04083425],\n",
       "       [ 37.49017392, 126.96488461],\n",
       "       [ 37.48361253, 126.93715828],\n",
       "       [ 37.47724795, 126.97627562],\n",
       "       [ 37.61168117, 127.06553012],\n",
       "       [ 37.60541961, 126.96184634],\n",
       "       [ 37.63866884, 127.01912076],\n",
       "       [ 37.58125329, 127.00344788],\n",
       "       [ 37.51713851, 127.04076768],\n",
       "       [ 37.53197099, 127.03729924],\n",
       "       [ 37.65308951, 127.00441491],\n",
       "       [ 37.4643874 , 126.96756843],\n",
       "       [ 37.47780073, 126.99414805],\n",
       "       [ 37.50466202, 127.0151126 ],\n",
       "       [ 37.49976701, 126.9871718 ],\n",
       "       [ 37.65953435, 127.01089234],\n",
       "       [ 37.51358419, 127.02734335],\n",
       "       [ 37.57793822, 127.01642372],\n",
       "       [ 37.65936619, 127.01083574],\n",
       "       [ 37.47221088, 126.94613425],\n",
       "       [ 37.58234369, 126.94569043],\n",
       "       [ 37.52355327, 126.92311002],\n",
       "       [ 37.54391049, 126.9577618 ],\n",
       "       [ 37.53554268, 126.95606359],\n",
       "       [ 37.51260081, 126.95150173],\n",
       "       [ 37.61847463, 126.97307329],\n",
       "       [ 37.60718609, 126.96207861],\n",
       "       [ 37.58335685, 126.98342986],\n",
       "       [ 37.49132313, 126.96551181],\n",
       "       [ 37.62467834, 127.02315202],\n",
       "       [ 37.47375369, 126.99553048],\n",
       "       [ 37.54844039, 126.93915645],\n",
       "       [ 37.62160434, 127.00365308],\n",
       "       [ 37.5090008 , 127.00071736],\n",
       "       [ 37.48301239, 126.96957404],\n",
       "       [ 37.58065997, 127.00990766],\n",
       "       [ 37.50097884, 126.98831438],\n",
       "       [ 37.54652995, 126.9839929 ],\n",
       "       [ 37.50664177, 126.94273188],\n",
       "       [ 37.62199443, 127.02211486],\n",
       "       [ 37.58892071, 127.00489894],\n",
       "       [ 37.45774819, 126.94722104],\n",
       "       [ 37.60375061, 127.02283074],\n",
       "       [ 37.48121735, 126.94387247],\n",
       "       [ 37.51000368, 127.03696176],\n",
       "       [ 37.56772796, 126.99084077],\n",
       "       [ 37.55997614, 126.96002439],\n",
       "       [ 37.46768981, 126.97406113],\n",
       "       [ 37.55546065, 126.96401523],\n",
       "       [ 37.6267734 , 127.03873688],\n",
       "       [ 37.64539088, 126.99297998],\n",
       "       [ 37.56770823, 126.95484892],\n",
       "       [ 37.64633551, 127.02143139],\n",
       "       [ 37.53526768, 126.93218811],\n",
       "       [ 37.49583693, 126.91670069],\n",
       "       [ 37.58578153, 127.01185634],\n",
       "       [ 37.60536236, 127.01119769],\n",
       "       [ 37.626611  , 126.97712706],\n",
       "       [ 37.48100312, 126.97776878],\n",
       "       [ 37.48238837, 126.93484108],\n",
       "       [ 37.58675007, 127.05146496],\n",
       "       [ 37.46860155, 126.98324767],\n",
       "       [ 37.53561176, 127.04911345],\n",
       "       [ 37.49461009, 126.93680463],\n",
       "       [ 37.47812899, 126.97113836],\n",
       "       [ 37.48907437, 126.99129012],\n",
       "       [ 37.54183534, 126.93259866],\n",
       "       [ 37.60558264, 126.99022163],\n",
       "       [ 37.50362605, 126.95644853],\n",
       "       [ 37.55009642, 126.97250718],\n",
       "       [ 37.49342331, 126.99513916],\n",
       "       [ 37.57451372, 127.016859  ],\n",
       "       [ 37.56272752, 126.99425834],\n",
       "       [ 37.48026271, 126.90329312],\n",
       "       [ 37.47934997, 126.95764578],\n",
       "       [ 37.52942602, 127.04378023],\n",
       "       [ 37.55655002, 126.98741245],\n",
       "       [ 37.50880862, 126.91824126],\n",
       "       [ 37.56608891, 126.98442977],\n",
       "       [ 37.59063539, 127.03810329],\n",
       "       [ 37.51627096, 126.96425842],\n",
       "       [ 37.58084887, 126.97034939],\n",
       "       [ 37.58268562, 127.01905534],\n",
       "       [ 37.58306755, 127.02479536],\n",
       "       [ 37.61190718, 127.01240925],\n",
       "       [ 37.45804803, 126.94817449]])"
      ]
     },
     "execution_count": 12,
     "metadata": {},
     "output_type": "execute_result"
    }
   ],
   "source": [
    "generate_candidate_sites(df)"
   ]
  },
  {
   "cell_type": "code",
   "execution_count": 14,
   "metadata": {},
   "outputs": [
    {
     "name": "stdout",
     "output_type": "stream",
     "text": [
      "----- Configurations -----\n",
      "  Number of points 1500\n",
      "  K 5\n",
      "  Radius 10\n",
      "  M 100\n",
      "----- Output -----\n",
      "  Running time : 0.1260232925415039 seconds\n",
      "  Optimal coverage points: 1500\n"
     ]
    },
    {
     "data": {
      "image/png": "[encoded data removed]",
      "text/plain": [
       "<Figure size 800x800 with 1 Axes>"
      ]
     },
     "metadata": {},
     "output_type": "display_data"
    }
   ],
   "source": [
    "mclp(df, 5, 10, 100)\n",
    "plot_input(df)"
   ]
  },
  {
   "cell_type": "code",
   "execution_count": 20,
   "metadata": {},
   "outputs": [
    {
     "data": {
      "image/png": "[encoded data removed]",
      "text/plain": [
       "<Figure size 800x800 with 1 Axes>"
      ]
     },
     "metadata": {},
     "output_type": "display_data"
    }
   ],
   "source": [
    "plot_result(df, df[500:], 10)"
   ]
  },
  {
   "cell_type": "code",
   "execution_count": null,
   "metadata": {},
   "outputs": [],
   "source": []
  }
 ],
 "metadata": {
  "kernelspec": {
   "display_name": "Python 3",
   "language": "python",
   "name": "python3"
  },
  "language_info": {
   "codemirror_mode": {
    "name": "ipython",
    "version": 3
   },
   "file_extension": ".py",
   "mimetype": "text/x-python",
   "name": "python",
   "nbconvert_exporter": "python",
   "pygments_lexer": "ipython3",
   "version": "3.11.3"
  },
  "orig_nbformat": 4
 },
 "nbformat": 4,
 "nbformat_minor": 2
}
