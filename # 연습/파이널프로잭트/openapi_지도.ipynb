{
 "cells": [
  {
   "cell_type": "code",
   "execution_count": 3,
   "metadata": {},
   "outputs": [],
   "source": [
    "# 필요한 모듈 \n",
    "\n",
    "import requests\n",
    "# -> 웹 상의 데이터를 요청하는 기능\n",
    "from owslib.wfs import WebFeatureService\n",
    "\n"
   ]
  },
  {
   "cell_type": "code",
   "execution_count": 12,
   "metadata": {},
   "outputs": [
    {
     "ename": "SyntaxError",
     "evalue": "invalid non-printable character U+2003 (1854776257.py, line 2)",
     "output_type": "error",
     "traceback": [
      "\u001b[1;36m  Cell \u001b[1;32mIn[12], line 2\u001b[1;36m\u001b[0m\n\u001b[1;33m    name:'범죄주의구간(전체)',\u001b[0m\n\u001b[1;37m    ^\u001b[0m\n\u001b[1;31mSyntaxError\u001b[0m\u001b[1;31m:\u001b[0m invalid non-printable character U+2003\n"
     ]
    }
   ],
   "source": [
    "\n",
    "\n",
    "param = {\n",
    " name:'범죄주의구간(전체)',\n",
    " serverUrl:'www.safemap.go.kr/openApiService/wms/getLayerData.do?apikey=[APIKEY]',\n",
    " layername:'A2SM_CRMNLHSPOT_TOT',\n",
    " styles:'A2SM_CrmnlHspot_Tot_Tot'\n",
    "}\n",
    "var wmsLayer = new OpenLayers.Layer.WMS (\n",
    " param.name,\n",
    " param.serverUrl,\n",
    " {\n",
    "  layers: ''+param.layername,\n",
    "  styles:param.styles,\n",
    "  format: 'image/png',\n",
    "  exceptions:'text/xml',\n",
    "  transparent: true\n",
    " },\n",
    " {\n",
    "  isBaseLayer: false\n",
    " }\n",
    ")\n"
   ]
  },
  {
   "cell_type": "code",
   "execution_count": 4,
   "metadata": {},
   "outputs": [],
   "source": [
    "# 온라인 상의 url \n",
    "url= \"safemap.go.kr/openApiService/wms/getLayerData.do\"\n",
    "\n",
    "\n"
   ]
  },
  {
   "cell_type": "code",
   "execution_count": 6,
   "metadata": {},
   "outputs": [],
   "source": [
    "# 접속 객체 생성\n",
    "\n",
    "session = requests.session()\n",
    "\n"
   ]
  },
  {
   "cell_type": "code",
   "execution_count": 9,
   "metadata": {},
   "outputs": [
    {
     "ename": "NameError",
     "evalue": "name 'name' is not defined",
     "output_type": "error",
     "traceback": [
      "\u001b[1;31m---------------------------------------------------------------------------\u001b[0m",
      "\u001b[1;31mNameError\u001b[0m                                 Traceback (most recent call last)",
      "\u001b[1;32mc:\\Users\\Hamin\\Mega_Data_Analysis\\# 연습\\파이널프로잭트\\openapi_지도.ipynb 셀 4\u001b[0m line \u001b[0;36m3\n\u001b[0;32m      <a href='vscode-notebook-cell:/c%3A/Users/Hamin/Mega_Data_Analysis/%23%20%EC%97%B0%EC%8A%B5/%ED%8C%8C%EC%9D%B4%EB%84%90%ED%94%84%EB%A1%9C%EC%9E%AD%ED%8A%B8/openapi_%EC%A7%80%EB%8F%84.ipynb#X12sZmlsZQ%3D%3D?line=0'>1</a>\u001b[0m \u001b[39m## 파라미터\u001b[39;00m\n\u001b[1;32m----> <a href='vscode-notebook-cell:/c%3A/Users/Hamin/Mega_Data_Analysis/%23%20%EC%97%B0%EC%8A%B5/%ED%8C%8C%EC%9D%B4%EB%84%90%ED%94%84%EB%A1%9C%EC%9E%AD%ED%8A%B8/openapi_%EC%A7%80%EB%8F%84.ipynb#X12sZmlsZQ%3D%3D?line=2'>3</a>\u001b[0m param \u001b[39m=\u001b[39m {name:\u001b[39m'\u001b[39m\u001b[39m범죄주의구간(전체)\u001b[39m\u001b[39m'\u001b[39m,serverUrl:\u001b[39m'\u001b[39m\u001b[39mwww.safemap.go.kr/openApiService/wms/getLayerData.do?apikey=O5YB635E-O5YB-O5YB-O5YB-O5YB635EIP\u001b[39m\u001b[39m'\u001b[39m,layername:\u001b[39m'\u001b[39m\u001b[39mA2SM_CRMNLHSPOT_TOT\u001b[39m\u001b[39m'\u001b[39m,styles:\u001b[39m'\u001b[39m\u001b[39mA2SM_CrmnlHspot_Tot_Tot\u001b[39m\u001b[39m'\u001b[39m\n\u001b[0;32m      <a href='vscode-notebook-cell:/c%3A/Users/Hamin/Mega_Data_Analysis/%23%20%EC%97%B0%EC%8A%B5/%ED%8C%8C%EC%9D%B4%EB%84%90%ED%94%84%EB%A1%9C%EC%9E%AD%ED%8A%B8/openapi_%EC%A7%80%EB%8F%84.ipynb#X12sZmlsZQ%3D%3D?line=3'>4</a>\u001b[0m }\n",
      "\u001b[1;31mNameError\u001b[0m: name 'name' is not defined"
     ]
    }
   ],
   "source": [
    "## 파라미터\n",
    "\n",
    "param = {'name':'범죄주의구간(전체)','serverUrl':'www.safemap.go.kr/openApiService/wms/getLayerData.do?apikey=O5YB635E-O5YB-O5YB-O5YB-O5YB635EIP',layername:'A2SM_CRMNLHSPOT_TOT',styles:'A2SM_CrmnlHspot_Tot_Tot'\n",
    "}"
   ]
  },
  {
   "cell_type": "code",
   "execution_count": 5,
   "metadata": {},
   "outputs": [],
   "source": [
    "# 접속 정보 설정 \n",
    "session.headers.update({\n",
    "    # referer : 이전에 내가 머물렀던 웹페이지 주소 \n",
    "    \"Referer\":\"\",\n",
    "    \"User-Agent\": \"Mozilla/5.0 (Windows NT 10.0; Win64; x64) AppleWebKit/537.36 (KHTML, like Gecko) Chrome/114.0.0.0 Safari/537.36\"\n",
    "})\n",
    "\n"
   ]
  },
  {
   "cell_type": "code",
   "execution_count": 6,
   "metadata": {},
   "outputs": [],
   "source": [
    "# 특정 웹페이지 접속 \n",
    "r= session.get(url)\n",
    "\n"
   ]
  },
  {
   "cell_type": "code",
   "execution_count": 7,
   "metadata": {},
   "outputs": [],
   "source": [
    "# 접속에 실패했을 때 \n",
    "\n",
    "if r.status_code!=200 :\n",
    "    # 200이 아니면 에러코드와 에러메세지 출력\n",
    "    msg = \"[%d Error] %s 에러가 발생함\" % {r.status_code,r.reason}\n",
    "    # 에러를 강제로 생성시킨다.\n",
    "    raise Exception(msg)\n"
   ]
  },
  {
   "cell_type": "code",
   "execution_count": 8,
   "metadata": {},
   "outputs": [
    {
     "name": "stdout",
     "output_type": "stream",
     "text": [
      "{\n",
      "    \"name\": \"갤럭시 S6\",\n",
      "    \"type\": \"삼성\",\n",
      "    \"img\": \"http://itpaper.co.kr/demo/app/img/GalaxyS6.png\"\n",
      "}\n"
     ]
    }
   ],
   "source": [
    "\n",
    "# 인코딩 형식 지정\n",
    "r.encoding = 'utf-8'\n",
    "\n",
    "# 텍스트 출력 \n",
    "## 온라인에서 가져온 건 무조건 문자열임. \n",
    "print(r.text)"
   ]
  },
  {
   "cell_type": "code",
   "execution_count": 9,
   "metadata": {},
   "outputs": [
    {
     "name": "stdout",
     "output_type": "stream",
     "text": [
      "<class 'dict'>\n",
      "{'name': '갤럭시 S6', 'type': '삼성', 'img': 'http://itpaper.co.kr/demo/app/img/GalaxyS6.png'}\n"
     ]
    }
   ],
   "source": [
    "## json으로 바꾸기\n",
    "## 딕셔너리 형태로 변환할수있다. \n",
    "data= json.loads(r.text)\n",
    "print(type(data))\n",
    "print(data)"
   ]
  },
  {
   "cell_type": "code",
   "execution_count": null,
   "metadata": {},
   "outputs": [],
   "source": []
  }
 ],
 "metadata": {
  "kernelspec": {
   "display_name": "Python 3",
   "language": "python",
   "name": "python3"
  },
  "language_info": {
   "codemirror_mode": {
    "name": "ipython",
    "version": 3
   },
   "file_extension": ".py",
   "mimetype": "text/x-python",
   "name": "python",
   "nbconvert_exporter": "python",
   "pygments_lexer": "ipython3",
   "version": "3.9.13"
  },
  "orig_nbformat": 4
 },
 "nbformat": 4,
 "nbformat_minor": 2
}
