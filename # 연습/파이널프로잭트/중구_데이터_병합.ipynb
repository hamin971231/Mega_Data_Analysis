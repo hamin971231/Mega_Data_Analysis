{
 "cells": [
  {
   "cell_type": "markdown",
   "metadata": {},
   "source": [
    "유흥업소 밀도 ->  중구_유흥업소.xlsx  >>>>>>>  서울시중구단란주점영업인허가정보.csv 서울시중구유흥주점영업인허가정보.csv (서울시 중구 데이터플랫폼)\n",
    "\n",
    "숙박업소 밀도 -> 중구_숙박업.xlsx >>>>>>>>>> 서울시중구숙박업인허가정보.csv (서울시 중구 데이터플랫폼)\n",
    "\n",
    "범죄취약계층 ( 여성 + 노인 ) ->  중구_인구데이터 -> 평균으로 묶어야함 (행정동별) (서울특별시_행정동별 서울생활인구(내국인).xlsx) 공공데이터포털\n",
    "\n",
    "CCTV 개수 -> 중구_CCTV.xlsx   >>>>>>>>> LOCAL DATA 12_04_08_E_CCTV정보.xlsx\n",
    "\n",
    "주택유형 단독주택 + 다세대 주택 -> 중구_건물.xlsx >>>>>>>>>>>>>>>서울시 도로명주소 기반 건물공간 데이터 서울시 빅데이터 플랫폼\n",
    "\n",
    "공적감시 밀도 (경철서 + 지구대 + 파출소 +a(보안등)) -> 중구_경찰서.xlsx  >>>>>>>>>>>>> 경찰청_경찰관서 위치 주소 현황_20230811.xlsx     공공데이터포털\n",
    "\n",
    "비상벨 데이터 : 안전비상벨위치정보.xlsx 서울시열린데이터광장\n",
    "\n",
    "----------- 구정할때\n",
    "\n",
    "5대범죄발생현황.xlsx  서울시 공공데이터 광장\n",
    "\n",
    "----------시각화\n",
    "\n",
    "중구_노드_링크_데이터 >>>>>>>>>> 서울시 자치구별 도보 네트워크 공간정보.csv   서울열린데이터광장\n",
    "\n",
    "\n",
    "\n",
    "\n",
    "\n",
    "\n"
   ]
  },
  {
   "cell_type": "code",
   "execution_count": null,
   "metadata": {},
   "outputs": [],
   "source": []
  },
  {
   "cell_type": "code",
   "execution_count": 8,
   "metadata": {},
   "outputs": [
    {
     "ename": "ImportError",
     "evalue": "cannot import name 'AnalyticHierarchyProcess' from 'pyahp' (c:\\Users\\Hamin\\AppData\\Local\\Programs\\Python\\Python39\\lib\\site-packages\\pyahp\\__init__.py)",
     "output_type": "error",
     "traceback": [
      "\u001b[1;31m---------------------------------------------------------------------------\u001b[0m",
      "\u001b[1;31mImportError\u001b[0m                               Traceback (most recent call last)",
      "\u001b[1;32mc:\\Users\\Hamin\\Mega_Data_Analysis\\# 연습\\파이널프로잭트\\중구_데이터_병합.ipynb 셀 3\u001b[0m line \u001b[0;36m1\n\u001b[1;32m----> <a href='vscode-notebook-cell:/c%3A/Users/Hamin/Mega_Data_Analysis/%23%20%EC%97%B0%EC%8A%B5/%ED%8C%8C%EC%9D%B4%EB%84%90%ED%94%84%EB%A1%9C%EC%9E%AD%ED%8A%B8/%EC%A4%91%EA%B5%AC_%EB%8D%B0%EC%9D%B4%ED%84%B0_%EB%B3%91%ED%95%A9.ipynb#W4sZmlsZQ%3D%3D?line=0'>1</a>\u001b[0m \u001b[39mfrom\u001b[39;00m \u001b[39mpyahp\u001b[39;00m \u001b[39mimport\u001b[39;00m AnalyticHierarchyProcess\n\u001b[0;32m      <a href='vscode-notebook-cell:/c%3A/Users/Hamin/Mega_Data_Analysis/%23%20%EC%97%B0%EC%8A%B5/%ED%8C%8C%EC%9D%B4%EB%84%90%ED%94%84%EB%A1%9C%EC%9E%AD%ED%8A%B8/%EC%A4%91%EA%B5%AC_%EB%8D%B0%EC%9D%B4%ED%84%B0_%EB%B3%91%ED%95%A9.ipynb#W4sZmlsZQ%3D%3D?line=2'>3</a>\u001b[0m \u001b[39m# 비교 매트릭스 작성\u001b[39;00m\n\u001b[0;32m      <a href='vscode-notebook-cell:/c%3A/Users/Hamin/Mega_Data_Analysis/%23%20%EC%97%B0%EC%8A%B5/%ED%8C%8C%EC%9D%B4%EB%84%90%ED%94%84%EB%A1%9C%EC%9E%AD%ED%8A%B8/%EC%A4%91%EA%B5%AC_%EB%8D%B0%EC%9D%B4%ED%84%B0_%EB%B3%91%ED%95%A9.ipynb#W4sZmlsZQ%3D%3D?line=3'>4</a>\u001b[0m comparison_matrix \u001b[39m=\u001b[39m [\n\u001b[0;32m      <a href='vscode-notebook-cell:/c%3A/Users/Hamin/Mega_Data_Analysis/%23%20%EC%97%B0%EC%8A%B5/%ED%8C%8C%EC%9D%B4%EB%84%90%ED%94%84%EB%A1%9C%EC%9E%AD%ED%8A%B8/%EC%A4%91%EA%B5%AC_%EB%8D%B0%EC%9D%B4%ED%84%B0_%EB%B3%91%ED%95%A9.ipynb#W4sZmlsZQ%3D%3D?line=4'>5</a>\u001b[0m     [\u001b[39m1\u001b[39m, \u001b[39m1\u001b[39m\u001b[39m/\u001b[39m\u001b[39m3\u001b[39m, \u001b[39m3\u001b[39m, \u001b[39m5\u001b[39m, \u001b[39m1\u001b[39m\u001b[39m/\u001b[39m\u001b[39m7\u001b[39m, \u001b[39m1\u001b[39m\u001b[39m/\u001b[39m\u001b[39m5\u001b[39m],    \u001b[39m# 유흥업소\u001b[39;00m\n\u001b[0;32m      <a href='vscode-notebook-cell:/c%3A/Users/Hamin/Mega_Data_Analysis/%23%20%EC%97%B0%EC%8A%B5/%ED%8C%8C%EC%9D%B4%EB%84%90%ED%94%84%EB%A1%9C%EC%9E%AD%ED%8A%B8/%EC%A4%91%EA%B5%AC_%EB%8D%B0%EC%9D%B4%ED%84%B0_%EB%B3%91%ED%95%A9.ipynb#W4sZmlsZQ%3D%3D?line=5'>6</a>\u001b[0m     [\u001b[39m3\u001b[39m, \u001b[39m1\u001b[39m, \u001b[39m7\u001b[39m, \u001b[39m9\u001b[39m, \u001b[39m1\u001b[39m\u001b[39m/\u001b[39m\u001b[39m5\u001b[39m, \u001b[39m1\u001b[39m\u001b[39m/\u001b[39m\u001b[39m3\u001b[39m],     \u001b[39m# 숙박업소\u001b[39;00m\n\u001b[1;32m   (...)\u001b[0m\n\u001b[0;32m     <a href='vscode-notebook-cell:/c%3A/Users/Hamin/Mega_Data_Analysis/%23%20%EC%97%B0%EC%8A%B5/%ED%8C%8C%EC%9D%B4%EB%84%90%ED%94%84%EB%A1%9C%EC%9E%AD%ED%8A%B8/%EC%A4%91%EA%B5%AC_%EB%8D%B0%EC%9D%B4%ED%84%B0_%EB%B3%91%ED%95%A9.ipynb#W4sZmlsZQ%3D%3D?line=9'>10</a>\u001b[0m     [\u001b[39m5\u001b[39m, \u001b[39m3\u001b[39m, \u001b[39m7\u001b[39m, \u001b[39m9\u001b[39m, \u001b[39m1\u001b[39m\u001b[39m/\u001b[39m\u001b[39m3\u001b[39m, \u001b[39m1\u001b[39m]        \u001b[39m# 공적감시\u001b[39;00m\n\u001b[0;32m     <a href='vscode-notebook-cell:/c%3A/Users/Hamin/Mega_Data_Analysis/%23%20%EC%97%B0%EC%8A%B5/%ED%8C%8C%EC%9D%B4%EB%84%90%ED%94%84%EB%A1%9C%EC%9E%AD%ED%8A%B8/%EC%A4%91%EA%B5%AC_%EB%8D%B0%EC%9D%B4%ED%84%B0_%EB%B3%91%ED%95%A9.ipynb#W4sZmlsZQ%3D%3D?line=10'>11</a>\u001b[0m ]\n",
      "\u001b[1;31mImportError\u001b[0m: cannot import name 'AnalyticHierarchyProcess' from 'pyahp' (c:\\Users\\Hamin\\AppData\\Local\\Programs\\Python\\Python39\\lib\\site-packages\\pyahp\\__init__.py)"
     ]
    }
   ],
   "source": [
    "from pyahp import AnalyticHierarchyProcess\n",
    "\n",
    "# 비교 매트릭스 작성\n",
    "comparison_matrix = [\n",
    "    [1, 1/3, 3, 5, 1/7, 1/5],    # 유흥업소\n",
    "    [3, 1, 7, 9, 1/5, 1/3],     # 숙박업소\n",
    "    [1/3, 1/7, 1, 3, 1/9, 1/7], # 범죄취약계층\n",
    "    [1/5, 1/9, 1/3, 1, 1/11, 1/9],  # CCTV\n",
    "    [7, 5, 9, 11, 1, 3],        # 비아파트\n",
    "    [5, 3, 7, 9, 1/3, 1]        # 공적감시\n",
    "]\n",
    "\n",
    "# AHP 모델 구성\n",
    "model = AnalyticHierarchyProcess(comparison_matrix)\n",
    "\n",
    "# 가중치 및 일관성 지표 계산\n",
    "weights, consistency_ratio = model.run()\n",
    "\n",
    "# 결과 출력\n",
    "variables = [\"유흥업소\", \"숙박업소\", \"범죄취약계층\", \"CCTV\", \"비아파트\", \"공적감시\"]\n",
    "for variable, weight in zip(variables, weights):\n",
    "    print(f\"{variable}: {weight:.3f}\")\n",
    "\n",
    "print(f\"일관성 비율: {consistency_ratio:.3f}\")"
   ]
  },
  {
   "cell_type": "code",
   "execution_count": null,
   "metadata": {},
   "outputs": [],
   "source": [
    "# pyahp"
   ]
  },
  {
   "cell_type": "code",
   "execution_count": 14,
   "metadata": {},
   "outputs": [
    {
     "ename": "AttributeError",
     "evalue": "module 'pyahp' has no attribute 'ahp'",
     "output_type": "error",
     "traceback": [
      "\u001b[1;31m---------------------------------------------------------------------------\u001b[0m",
      "\u001b[1;31mAttributeError\u001b[0m                            Traceback (most recent call last)",
      "\u001b[1;32mc:\\Users\\Hamin\\Mega_Data_Analysis\\# 연습\\파이널프로잭트\\중구_데이터_병합.ipynb 셀 5\u001b[0m line \u001b[0;36m1\n\u001b[0;32m      <a href='vscode-notebook-cell:/c%3A/Users/Hamin/Mega_Data_Analysis/%23%20%EC%97%B0%EC%8A%B5/%ED%8C%8C%EC%9D%B4%EB%84%90%ED%94%84%EB%A1%9C%EC%9E%AD%ED%8A%B8/%EC%A4%91%EA%B5%AC_%EB%8D%B0%EC%9D%B4%ED%84%B0_%EB%B3%91%ED%95%A9.ipynb#W5sZmlsZQ%3D%3D?line=3'>4</a>\u001b[0m comparison_matrix \u001b[39m=\u001b[39m [\n\u001b[0;32m      <a href='vscode-notebook-cell:/c%3A/Users/Hamin/Mega_Data_Analysis/%23%20%EC%97%B0%EC%8A%B5/%ED%8C%8C%EC%9D%B4%EB%84%90%ED%94%84%EB%A1%9C%EC%9E%AD%ED%8A%B8/%EC%A4%91%EA%B5%AC_%EB%8D%B0%EC%9D%B4%ED%84%B0_%EB%B3%91%ED%95%A9.ipynb#W5sZmlsZQ%3D%3D?line=4'>5</a>\u001b[0m     [\u001b[39m1\u001b[39m, \u001b[39m1\u001b[39m\u001b[39m/\u001b[39m\u001b[39m3\u001b[39m, \u001b[39m3\u001b[39m, \u001b[39m5\u001b[39m, \u001b[39m1\u001b[39m\u001b[39m/\u001b[39m\u001b[39m7\u001b[39m, \u001b[39m1\u001b[39m\u001b[39m/\u001b[39m\u001b[39m5\u001b[39m],    \u001b[39m# 유흥업소\u001b[39;00m\n\u001b[0;32m      <a href='vscode-notebook-cell:/c%3A/Users/Hamin/Mega_Data_Analysis/%23%20%EC%97%B0%EC%8A%B5/%ED%8C%8C%EC%9D%B4%EB%84%90%ED%94%84%EB%A1%9C%EC%9E%AD%ED%8A%B8/%EC%A4%91%EA%B5%AC_%EB%8D%B0%EC%9D%B4%ED%84%B0_%EB%B3%91%ED%95%A9.ipynb#W5sZmlsZQ%3D%3D?line=5'>6</a>\u001b[0m     [\u001b[39m3\u001b[39m, \u001b[39m1\u001b[39m, \u001b[39m7\u001b[39m, \u001b[39m9\u001b[39m, \u001b[39m1\u001b[39m\u001b[39m/\u001b[39m\u001b[39m5\u001b[39m, \u001b[39m1\u001b[39m\u001b[39m/\u001b[39m\u001b[39m3\u001b[39m],     \u001b[39m# 숙박업소\u001b[39;00m\n\u001b[1;32m   (...)\u001b[0m\n\u001b[0;32m     <a href='vscode-notebook-cell:/c%3A/Users/Hamin/Mega_Data_Analysis/%23%20%EC%97%B0%EC%8A%B5/%ED%8C%8C%EC%9D%B4%EB%84%90%ED%94%84%EB%A1%9C%EC%9E%AD%ED%8A%B8/%EC%A4%91%EA%B5%AC_%EB%8D%B0%EC%9D%B4%ED%84%B0_%EB%B3%91%ED%95%A9.ipynb#W5sZmlsZQ%3D%3D?line=9'>10</a>\u001b[0m     [\u001b[39m5\u001b[39m, \u001b[39m3\u001b[39m, \u001b[39m7\u001b[39m, \u001b[39m9\u001b[39m, \u001b[39m1\u001b[39m\u001b[39m/\u001b[39m\u001b[39m3\u001b[39m, \u001b[39m1\u001b[39m]        \u001b[39m# 공적감시\u001b[39;00m\n\u001b[0;32m     <a href='vscode-notebook-cell:/c%3A/Users/Hamin/Mega_Data_Analysis/%23%20%EC%97%B0%EC%8A%B5/%ED%8C%8C%EC%9D%B4%EB%84%90%ED%94%84%EB%A1%9C%EC%9E%AD%ED%8A%B8/%EC%A4%91%EA%B5%AC_%EB%8D%B0%EC%9D%B4%ED%84%B0_%EB%B3%91%ED%95%A9.ipynb#W5sZmlsZQ%3D%3D?line=10'>11</a>\u001b[0m ]\n\u001b[0;32m     <a href='vscode-notebook-cell:/c%3A/Users/Hamin/Mega_Data_Analysis/%23%20%EC%97%B0%EC%8A%B5/%ED%8C%8C%EC%9D%B4%EB%84%90%ED%94%84%EB%A1%9C%EC%9E%AD%ED%8A%B8/%EC%A4%91%EA%B5%AC_%EB%8D%B0%EC%9D%B4%ED%84%B0_%EB%B3%91%ED%95%A9.ipynb#W5sZmlsZQ%3D%3D?line=12'>13</a>\u001b[0m \u001b[39m# AHP 모델 구성\u001b[39;00m\n\u001b[1;32m---> <a href='vscode-notebook-cell:/c%3A/Users/Hamin/Mega_Data_Analysis/%23%20%EC%97%B0%EC%8A%B5/%ED%8C%8C%EC%9D%B4%EB%84%90%ED%94%84%EB%A1%9C%EC%9E%AD%ED%8A%B8/%EC%A4%91%EA%B5%AC_%EB%8D%B0%EC%9D%B4%ED%84%B0_%EB%B3%91%ED%95%A9.ipynb#W5sZmlsZQ%3D%3D?line=13'>14</a>\u001b[0m model \u001b[39m=\u001b[39m pyahp\u001b[39m.\u001b[39;49mahp(comparison_matrix)\n\u001b[0;32m     <a href='vscode-notebook-cell:/c%3A/Users/Hamin/Mega_Data_Analysis/%23%20%EC%97%B0%EC%8A%B5/%ED%8C%8C%EC%9D%B4%EB%84%90%ED%94%84%EB%A1%9C%EC%9E%AD%ED%8A%B8/%EC%A4%91%EA%B5%AC_%EB%8D%B0%EC%9D%B4%ED%84%B0_%EB%B3%91%ED%95%A9.ipynb#W5sZmlsZQ%3D%3D?line=15'>16</a>\u001b[0m \u001b[39m# 가중치 및 일관성 지표 계산\u001b[39;00m\n\u001b[0;32m     <a href='vscode-notebook-cell:/c%3A/Users/Hamin/Mega_Data_Analysis/%23%20%EC%97%B0%EC%8A%B5/%ED%8C%8C%EC%9D%B4%EB%84%90%ED%94%84%EB%A1%9C%EC%9E%AD%ED%8A%B8/%EC%A4%91%EA%B5%AC_%EB%8D%B0%EC%9D%B4%ED%84%B0_%EB%B3%91%ED%95%A9.ipynb#W5sZmlsZQ%3D%3D?line=16'>17</a>\u001b[0m weights, consistency_ratio \u001b[39m=\u001b[39m model\u001b[39m.\u001b[39mcalculate()\n",
      "\u001b[1;31mAttributeError\u001b[0m: module 'pyahp' has no attribute 'ahp'"
     ]
    }
   ],
   "source": [
    "import pyahp\n",
    "\n",
    "# 비교 매트릭스 작성\n",
    "comparison_matrix = [\n",
    "    [1, 1/3, 3, 5, 1/7, 1/5],    # 유흥업소\n",
    "    [3, 1, 7, 9, 1/5, 1/3],     # 숙박업소\n",
    "    [1/3, 1/7, 1, 3, 1/9, 1/7], # 범죄취약계층\n",
    "    [1/5, 1/9, 1/3, 1, 1/11, 1/9],  # CCTV\n",
    "    [7, 5, 9, 11, 1, 3],        # 비아파트\n",
    "    [5, 3, 7, 9, 1/3, 1]        # 공적감시\n",
    "]\n",
    "\n",
    "# AHP 모델 구성\n",
    "model = pyahp.ahp(comparison_matrix)\n",
    "\n",
    "# 가중치 및 일관성 지표 계산\n",
    "weights, consistency_ratio = model.calculate()\n",
    "\n",
    "# 결과 출력\n",
    "variables = [\"유흥업소\", \"숙박업소\", \"범죄취약계층\", \"CCTV\", \"비아파트\", \"공적감시\"]\n",
    "for variable, weight in zip(variables, weights):\n",
    "    print(f\"{variable}: {weight:.3f}\")\n",
    "\n",
    "print(f\"일관성 비율: {consistency_ratio:.3f}\")\n",
    "# 이 코드는 pyahp 버전 0.1.2를 사용하여 AHP를 구현하는 방법을 보여줍니다. 해당 버전에서 AHP 클래스를 사용할 수 있습니다.\n",
    "\n",
    "\n",
    "\n",
    "\n",
    "\n"
   ]
  },
  {
   "cell_type": "code",
   "execution_count": null,
   "metadata": {},
   "outputs": [],
   "source": []
  }
 ],
 "metadata": {
  "kernelspec": {
   "display_name": "Python 3",
   "language": "python",
   "name": "python3"
  },
  "language_info": {
   "codemirror_mode": {
    "name": "ipython",
    "version": 3
   },
   "file_extension": ".py",
   "mimetype": "text/x-python",
   "name": "python",
   "nbconvert_exporter": "python",
   "pygments_lexer": "ipython3",
   "version": "3.9.13"
  }
 },
 "nbformat": 4,
 "nbformat_minor": 2
}
