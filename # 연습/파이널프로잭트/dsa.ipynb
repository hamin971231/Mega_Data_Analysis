{
 "cells": [
  {
   "cell_type": "code",
   "execution_count": 1,
   "metadata": {},
   "outputs": [
    {
     "name": "stdout",
     "output_type": "stream",
     "text": [
      "<class 'pandas.core.frame.DataFrame'>\n",
      "RangeIndex: 13622 entries, 0 to 13621\n",
      "Data columns (total 22 columns):\n",
      " #   Column    Non-Null Count  Dtype  \n",
      "---  ------    --------------  -----  \n",
      " 0   노드링크 유형   13622 non-null  object \n",
      " 1   노드 WKT    5825 non-null   object \n",
      " 2   노드 ID     13622 non-null  int64  \n",
      " 3   노드 유형 코드  5825 non-null   float64\n",
      " 4   링크 WKT    7797 non-null   object \n",
      " 5   링크 ID     13622 non-null  int64  \n",
      " 6   링크 유형 코드  7797 non-null   float64\n",
      " 7   시작노드 ID   7797 non-null   float64\n",
      " 8   종료노드 ID   7797 non-null   float64\n",
      " 9   링크 길이     7797 non-null   float64\n",
      " 10  시군구코드     13622 non-null  int64  \n",
      " 11  시군구명      13622 non-null  object \n",
      " 12  읍면동코드     13622 non-null  int64  \n",
      " 13  읍면동명      13622 non-null  object \n",
      " 14  고가도로      7797 non-null   float64\n",
      " 15  지하철네트워크   7797 non-null   float64\n",
      " 16  교량        7797 non-null   float64\n",
      " 17  터널        7797 non-null   float64\n",
      " 18  육교        13622 non-null  int64  \n",
      " 19  횡단보도      13622 non-null  int64  \n",
      " 20  공원,녹지     7797 non-null   float64\n",
      " 21  건물내       7797 non-null   float64\n",
      "dtypes: float64(11), int64(6), object(5)\n",
      "memory usage: 2.3+ MB\n"
     ]
    }
   ],
   "source": [
    "import pandas as pd\n",
    "df = df = pd.read_excel('중구_노드_링크_네트워크데이터.xlsx')\n",
    "df.info()"
   ]
  },
  {
   "cell_type": "code",
   "execution_count": 2,
   "metadata": {},
   "outputs": [
    {
     "name": "stdout",
     "output_type": "stream",
     "text": [
      "<class 'pandas.core.frame.DataFrame'>\n",
      "Index: 13586 entries, 0 to 13621\n",
      "Data columns (total 22 columns):\n",
      " #   Column    Non-Null Count  Dtype  \n",
      "---  ------    --------------  -----  \n",
      " 0   노드링크 유형   13586 non-null  object \n",
      " 1   노드 WKT    5823 non-null   object \n",
      " 2   노드 ID     13586 non-null  int64  \n",
      " 3   노드 유형 코드  5823 non-null   float64\n",
      " 4   링크 WKT    7763 non-null   object \n",
      " 5   링크 ID     13586 non-null  int64  \n",
      " 6   링크 유형 코드  7763 non-null   float64\n",
      " 7   시작노드 ID   7763 non-null   float64\n",
      " 8   종료노드 ID   7763 non-null   float64\n",
      " 9   링크 길이     7763 non-null   float64\n",
      " 10  시군구코드     13586 non-null  int64  \n",
      " 11  시군구명      13586 non-null  object \n",
      " 12  읍면동코드     13586 non-null  int64  \n",
      " 13  읍면동명      13586 non-null  object \n",
      " 14  고가도로      7763 non-null   float64\n",
      " 15  지하철네트워크   7763 non-null   float64\n",
      " 16  교량        7763 non-null   float64\n",
      " 17  터널        7763 non-null   float64\n",
      " 18  육교        13586 non-null  int64  \n",
      " 19  횡단보도      13586 non-null  int64  \n",
      " 20  공원,녹지     7763 non-null   float64\n",
      " 21  건물내       7763 non-null   float64\n",
      "dtypes: float64(11), int64(6), object(5)\n",
      "memory usage: 2.4+ MB\n"
     ]
    }
   ],
   "source": [
    "df = df.loc[df['읍면동코드']<1117000000,:]\n",
    "df.info()"
   ]
  },
  {
   "cell_type": "code",
   "execution_count": null,
   "metadata": {},
   "outputs": [],
   "source": []
  }
 ],
 "metadata": {
  "kernelspec": {
   "display_name": "Python 3",
   "language": "python",
   "name": "python3"
  },
  "language_info": {
   "codemirror_mode": {
    "name": "ipython",
    "version": 3
   },
   "file_extension": ".py",
   "mimetype": "text/x-python",
   "name": "python",
   "nbconvert_exporter": "python",
   "pygments_lexer": "ipython3",
   "version": "3.9.13"
  }
 },
 "nbformat": 4,
 "nbformat_minor": 2
}
