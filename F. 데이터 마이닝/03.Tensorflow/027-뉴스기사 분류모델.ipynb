{
 "cells": [
  {
   "cell_type": "markdown",
   "metadata": {},
   "source": [
    "# 뉴스기사 분류모델\n",
    "## #01. 형태소 분석엔진 설치 (colab)\n",
    "\n"
   ]
  },
  {
   "cell_type": "code",
   "execution_count": 1,
   "metadata": {},
   "outputs": [],
   "source": [
    "\n",
    "# !git clone https://github.com/SOMJANG/Mecab-ko-for-Google-Colab.git\n",
    "# !bash Mecab-ko-for-Google-Colab/install_mecab-ko_on_colab_light_220429.sh\n"
   ]
  },
  {
   "cell_type": "markdown",
   "metadata": {},
   "source": [
    "## #02. 패키지 참조\n"
   ]
  },
  {
   "cell_type": "code",
   "execution_count": 1,
   "metadata": {},
   "outputs": [
    {
     "ename": "AttributeError",
     "evalue": "module '_MeCab' has no attribute 'delete_Path'",
     "output_type": "error",
     "traceback": [
      "\u001b[1;31m---------------------------------------------------------------------------\u001b[0m",
      "\u001b[1;31mAttributeError\u001b[0m                            Traceback (most recent call last)",
      "\u001b[1;32mc:\\Users\\Hamin\\Data_Analysis\\F. 데이터 마이닝\\03.Tensorflow\\027-뉴스기사 분류모델.ipynb 셀 4\u001b[0m line \u001b[0;36m1\n\u001b[0;32m     <a href='vscode-notebook-cell:/c%3A/Users/Hamin/Data_Analysis/F.%20%EB%8D%B0%EC%9D%B4%ED%84%B0%20%EB%A7%88%EC%9D%B4%EB%8B%9D/03.Tensorflow/027-%EB%89%B4%EC%8A%A4%EA%B8%B0%EC%82%AC%20%EB%B6%84%EB%A5%98%EB%AA%A8%EB%8D%B8.ipynb#W3sZmlsZQ%3D%3D?line=13'>14</a>\u001b[0m  \u001b[39m# 문장 길이를 통일 시키는 용도\u001b[39;00m\n\u001b[0;32m     <a href='vscode-notebook-cell:/c%3A/Users/Hamin/Data_Analysis/F.%20%EB%8D%B0%EC%9D%B4%ED%84%B0%20%EB%A7%88%EC%9D%B4%EB%8B%9D/03.Tensorflow/027-%EB%89%B4%EC%8A%A4%EA%B8%B0%EC%82%AC%20%EB%B6%84%EB%A5%98%EB%AA%A8%EB%8D%B8.ipynb#W3sZmlsZQ%3D%3D?line=14'>15</a>\u001b[0m \u001b[39mfrom\u001b[39;00m \u001b[39mtensorflow\u001b[39;00m\u001b[39m.\u001b[39;00m\u001b[39mkeras\u001b[39;00m\u001b[39m.\u001b[39;00m\u001b[39mpreprocessing\u001b[39;00m\u001b[39m.\u001b[39;00m\u001b[39msequence\u001b[39;00m \u001b[39mimport\u001b[39;00m pad_sequences\n\u001b[1;32m---> <a href='vscode-notebook-cell:/c%3A/Users/Hamin/Data_Analysis/F.%20%EB%8D%B0%EC%9D%B4%ED%84%B0%20%EB%A7%88%EC%9D%B4%EB%8B%9D/03.Tensorflow/027-%EB%89%B4%EC%8A%A4%EA%B8%B0%EC%82%AC%20%EB%B6%84%EB%A5%98%EB%AA%A8%EB%8D%B8.ipynb#W3sZmlsZQ%3D%3D?line=16'>17</a>\u001b[0m \u001b[39mfrom\u001b[39;00m \u001b[39mkonlpy\u001b[39;00m\u001b[39m.\u001b[39;00m\u001b[39mtag\u001b[39;00m \u001b[39mimport\u001b[39;00m Mecab\n\u001b[0;32m     <a href='vscode-notebook-cell:/c%3A/Users/Hamin/Data_Analysis/F.%20%EB%8D%B0%EC%9D%B4%ED%84%B0%20%EB%A7%88%EC%9D%B4%EB%8B%9D/03.Tensorflow/027-%EB%89%B4%EC%8A%A4%EA%B8%B0%EC%82%AC%20%EB%B6%84%EB%A5%98%EB%AA%A8%EB%8D%B8.ipynb#W3sZmlsZQ%3D%3D?line=17'>18</a>\u001b[0m \u001b[39mfrom\u001b[39;00m \u001b[39mtensorflow\u001b[39;00m\u001b[39m.\u001b[39;00m\u001b[39mkeras\u001b[39;00m\u001b[39m.\u001b[39;00m\u001b[39mpreprocessing\u001b[39;00m\u001b[39m.\u001b[39;00m\u001b[39mtext\u001b[39;00m \u001b[39mimport\u001b[39;00m Tokenizer\n\u001b[0;32m     <a href='vscode-notebook-cell:/c%3A/Users/Hamin/Data_Analysis/F.%20%EB%8D%B0%EC%9D%B4%ED%84%B0%20%EB%A7%88%EC%9D%B4%EB%8B%9D/03.Tensorflow/027-%EB%89%B4%EC%8A%A4%EA%B8%B0%EC%82%AC%20%EB%B6%84%EB%A5%98%EB%AA%A8%EB%8D%B8.ipynb#W3sZmlsZQ%3D%3D?line=18'>19</a>\u001b[0m \u001b[39mfrom\u001b[39;00m \u001b[39msklearn\u001b[39;00m\u001b[39m.\u001b[39;00m\u001b[39mmodel_selection\u001b[39;00m \u001b[39mimport\u001b[39;00m train_test_split\n",
      "File \u001b[1;32mc:\\Users\\Hamin\\AppData\\Local\\Programs\\Python\\Python39\\lib\\site-packages\\konlpy\\__init__.py:12\u001b[0m\n\u001b[0;32m      9\u001b[0m     \u001b[39mpass\u001b[39;00m\n\u001b[0;32m     11\u001b[0m \u001b[39mfrom\u001b[39;00m \u001b[39mkonlpy\u001b[39;00m\u001b[39m.\u001b[39;00m\u001b[39mjvm\u001b[39;00m \u001b[39mimport\u001b[39;00m init_jvm\n\u001b[1;32m---> 12\u001b[0m \u001b[39mfrom\u001b[39;00m \u001b[39mkonlpy\u001b[39;00m \u001b[39mimport\u001b[39;00m (\n\u001b[0;32m     13\u001b[0m     corpus,\n\u001b[0;32m     14\u001b[0m     data,\n\u001b[0;32m     15\u001b[0m     internals,\n\u001b[0;32m     16\u001b[0m     tag\n\u001b[0;32m     17\u001b[0m )\n",
      "File \u001b[1;32mc:\\Users\\Hamin\\AppData\\Local\\Programs\\Python\\Python39\\lib\\site-packages\\konlpy\\tag\\__init__.py:11\u001b[0m\n\u001b[0;32m      8\u001b[0m \u001b[39mfrom\u001b[39;00m \u001b[39mkonlpy\u001b[39;00m\u001b[39m.\u001b[39;00m\u001b[39mtag\u001b[39;00m\u001b[39m.\u001b[39;00m\u001b[39m_komoran\u001b[39;00m \u001b[39mimport\u001b[39;00m Komoran\n\u001b[0;32m     10\u001b[0m \u001b[39mtry\u001b[39;00m:\n\u001b[1;32m---> 11\u001b[0m     \u001b[39mfrom\u001b[39;00m \u001b[39mkonlpy\u001b[39;00m\u001b[39m.\u001b[39;00m\u001b[39mtag\u001b[39;00m\u001b[39m.\u001b[39;00m\u001b[39m_mecab\u001b[39;00m \u001b[39mimport\u001b[39;00m Mecab\n\u001b[0;32m     12\u001b[0m \u001b[39mexcept\u001b[39;00m \u001b[39mImportError\u001b[39;00m:\n\u001b[0;32m     13\u001b[0m     \u001b[39mpass\u001b[39;00m\n",
      "File \u001b[1;32mc:\\Users\\Hamin\\AppData\\Local\\Programs\\Python\\Python39\\lib\\site-packages\\konlpy\\tag\\_mecab.py:7\u001b[0m\n\u001b[0;32m      4\u001b[0m \u001b[39mimport\u001b[39;00m \u001b[39msys\u001b[39;00m\n\u001b[0;32m      6\u001b[0m \u001b[39mtry\u001b[39;00m:\n\u001b[1;32m----> 7\u001b[0m     \u001b[39mfrom\u001b[39;00m \u001b[39mMeCab\u001b[39;00m \u001b[39mimport\u001b[39;00m Tagger\n\u001b[0;32m      8\u001b[0m \u001b[39mexcept\u001b[39;00m \u001b[39mImportError\u001b[39;00m:\n\u001b[0;32m      9\u001b[0m     \u001b[39mpass\u001b[39;00m\n",
      "File \u001b[1;32mc:\\Users\\Hamin\\AppData\\Local\\Programs\\Python\\Python39\\lib\\site-packages\\MeCab.py:83\u001b[0m\n\u001b[0;32m     80\u001b[0m \u001b[39m# Register DictionaryInfo in _MeCab:\u001b[39;00m\n\u001b[0;32m     81\u001b[0m _MeCab\u001b[39m.\u001b[39mDictionaryInfo_swigregister(DictionaryInfo)\n\u001b[1;32m---> 83\u001b[0m \u001b[39mclass\u001b[39;00m \u001b[39mPath\u001b[39;00m(\u001b[39mobject\u001b[39m):\n\u001b[0;32m     84\u001b[0m     thisown \u001b[39m=\u001b[39m \u001b[39mproperty\u001b[39m(\u001b[39mlambda\u001b[39;00m x: x\u001b[39m.\u001b[39mthis\u001b[39m.\u001b[39mown(), \u001b[39mlambda\u001b[39;00m x, v: x\u001b[39m.\u001b[39mthis\u001b[39m.\u001b[39mown(v), doc\u001b[39m=\u001b[39m\u001b[39m\"\u001b[39m\u001b[39mThe membership flag\u001b[39m\u001b[39m\"\u001b[39m)\n\u001b[0;32m     86\u001b[0m     \u001b[39mdef\u001b[39;00m \u001b[39m__init__\u001b[39m(\u001b[39mself\u001b[39m, \u001b[39m*\u001b[39margs, \u001b[39m*\u001b[39m\u001b[39m*\u001b[39mkwargs):\n",
      "File \u001b[1;32mc:\\Users\\Hamin\\AppData\\Local\\Programs\\Python\\Python39\\lib\\site-packages\\MeCab.py:95\u001b[0m, in \u001b[0;36mPath\u001b[1;34m()\u001b[0m\n\u001b[0;32m     93\u001b[0m cost \u001b[39m=\u001b[39m \u001b[39mproperty\u001b[39m(_MeCab\u001b[39m.\u001b[39mPath_cost_get)\n\u001b[0;32m     94\u001b[0m prob \u001b[39m=\u001b[39m \u001b[39mproperty\u001b[39m(_MeCab\u001b[39m.\u001b[39mPath_prob_get, _MeCab\u001b[39m.\u001b[39mPath_prob_set)\n\u001b[1;32m---> 95\u001b[0m __swig_destroy__ \u001b[39m=\u001b[39m _MeCab\u001b[39m.\u001b[39;49mdelete_Path\n",
      "\u001b[1;31mAttributeError\u001b[0m: module '_MeCab' has no attribute 'delete_Path'"
     ]
    }
   ],
   "source": [
    "from matplotlib import pyplot as plt\n",
    "import pandas as pd\n",
    "import seaborn as sns\n",
    "import numpy as np\n",
    "\n",
    "from tensorflow.keras.models import Sequential\n",
    "from tensorflow.keras.layers import Dense, Embedding, Flatten,GRU\n",
    "from tensorflow.keras.datasets import imdb\n",
    "from tensorflow.keras.callbacks import EarlyStopping, ReduceLROnPlateau,ModelCheckpoint\n",
    "import requests\n",
    "from tensorflow.keras.utils import to_categorical\n",
    "# 토큰화 패키지\n",
    "from tensorflow.keras.preprocessing.text import Tokenizer\n",
    " # 문장 길이를 통일 시키는 용도\n",
    "from tensorflow.keras.preprocessing.sequence import pad_sequences\n",
    "\n",
    "from konlpy.tag import Mecab\n",
    "from tensorflow.keras.preprocessing.text import Tokenizer\n",
    "from sklearn.model_selection import train_test_split\n",
    "from sklearn.metrics import confusion_matrix"
   ]
  },
  {
   "cell_type": "markdown",
   "metadata": {},
   "source": [
    "## #03. 데이터 셋 준비\n",
    "### 뉴스기사 데이터셋"
   ]
  },
  {
   "cell_type": "code",
   "execution_count": 3,
   "metadata": {},
   "outputs": [
    {
     "data": {
      "text/html": [
       "<div>\n",
       "<style scoped>\n",
       "    .dataframe tbody tr th:only-of-type {\n",
       "        vertical-align: middle;\n",
       "    }\n",
       "\n",
       "    .dataframe tbody tr th {\n",
       "        vertical-align: top;\n",
       "    }\n",
       "\n",
       "    .dataframe thead th {\n",
       "        text-align: right;\n",
       "    }\n",
       "</style>\n",
       "<table border=\"1\" class=\"dataframe\">\n",
       "  <thead>\n",
       "    <tr style=\"text-align: right;\">\n",
       "      <th></th>\n",
       "      <th>Unnamed: 0</th>\n",
       "      <th>category</th>\n",
       "      <th>content</th>\n",
       "      <th>중복</th>\n",
       "    </tr>\n",
       "  </thead>\n",
       "  <tbody>\n",
       "    <tr>\n",
       "      <th>0</th>\n",
       "      <td>0</td>\n",
       "      <td>IT,과학</td>\n",
       "      <td>SKT·SKB·넷플릭스, 망 사용료 소송 취하…분쟁 마침표</td>\n",
       "      <td>NaN</td>\n",
       "    </tr>\n",
       "    <tr>\n",
       "      <th>1</th>\n",
       "      <td>1</td>\n",
       "      <td>IT,과학</td>\n",
       "      <td>넷플릭스와 SK텔레콤·SK브로드밴드가 2020년 시작한 지난한 법정 다툼을 끝냈다....</td>\n",
       "      <td>NaN</td>\n",
       "    </tr>\n",
       "    <tr>\n",
       "      <th>2</th>\n",
       "      <td>2</td>\n",
       "      <td>IT,과학</td>\n",
       "      <td>앞서 SKB는 넷플릭스 트래픽이 매년 폭증하면서 전송 비용 부담이 막대하지만 넷플릭...</td>\n",
       "      <td>NaN</td>\n",
       "    </tr>\n",
       "    <tr>\n",
       "      <th>3</th>\n",
       "      <td>3</td>\n",
       "      <td>IT,과학</td>\n",
       "      <td>SKT·SKB와 넷플릭스가 화해 모드로 들어가면서 그간 인터넷TV(IPTV) 3사 ...</td>\n",
       "      <td>NaN</td>\n",
       "    </tr>\n",
       "    <tr>\n",
       "      <th>4</th>\n",
       "      <td>4</td>\n",
       "      <td>IT,과학</td>\n",
       "      <td>다만 양측은 망 사용료 지불 등 구체적인 계약 내용에 대해서는 함구했다. 최환석 S...</td>\n",
       "      <td>NaN</td>\n",
       "    </tr>\n",
       "  </tbody>\n",
       "</table>\n",
       "</div>"
      ],
      "text/plain": [
       "   Unnamed: 0 category                                            content  중복\n",
       "0           0    IT,과학                   SKT·SKB·넷플릭스, 망 사용료 소송 취하…분쟁 마침표 NaN\n",
       "1           1    IT,과학  넷플릭스와 SK텔레콤·SK브로드밴드가 2020년 시작한 지난한 법정 다툼을 끝냈다.... NaN\n",
       "2           2    IT,과학  앞서 SKB는 넷플릭스 트래픽이 매년 폭증하면서 전송 비용 부담이 막대하지만 넷플릭... NaN\n",
       "3           3    IT,과학  SKT·SKB와 넷플릭스가 화해 모드로 들어가면서 그간 인터넷TV(IPTV) 3사 ... NaN\n",
       "4           4    IT,과학  다만 양측은 망 사용료 지불 등 구체적인 계약 내용에 대해서는 함구했다. 최환석 S... NaN"
      ]
     },
     "execution_count": 3,
     "metadata": {},
     "output_type": "execute_result"
    }
   ],
   "source": [
    "origin = pd.read_excel('뉴스기사_병합.xlsx')\n",
    "origin.head()\n"
   ]
  },
  {
   "cell_type": "markdown",
   "metadata": {},
   "source": [
    "### 불용어 데이터 셋\n"
   ]
  },
  {
   "cell_type": "code",
   "execution_count": 4,
   "metadata": {},
   "outputs": [
    {
     "name": "stdout",
     "output_type": "stream",
     "text": [
      "['이', '있', '하', '것', '들', '그', '되', '수', '이', '보', '않', '없', '나', '사람', '주', '아니', '등', '같', '우리', '때', '년', '가', '한', '지', '대하', '오', '말', '일', '그렇', '위하', '때문', '그것', '두', '말하', '알', '그러나', '받', '못하', '일', '그런', '또', '문제', '더', '사회', '많', '그리고', '좋', '크', '따르', '중', '나오', '가지', '씨', '시키', '만들', '지금', '생각하', '그러', '속', '하나', '집', '살', '모르', '적', '월', '데', '자신', '안', '어떤', '내', '내', '경우', '명', '생각', '시간', '그녀', '다시', '이런', '앞', '보이', '번', '나', '다른', '어떻', '여자', '개', '전', '들', '사실', '이렇', '점', '싶', '말', '정도', '좀', '원', '잘', '통하', '소리', '놓', '!', '\"', '$', '%', '&', \"'\", '(', ')', '*', '+', ',', '-', '.', '...', '0', '1', '2', '3', '4', '5', '6', '7', '8', '9', ';', '<', '=', '>', '?', '@', '\\\\', '^', '_', '`', '|', '~', '·', '—', '——', '‘', '’', '“', '”', '…', '、', '。', '〈', '〉', '《', '》', '가', '가까스로', '가령', '각', '각각', '각자', '각종', '갖고말하자면', '같다', '같이', '개의치않고', '거니와', '거바', '거의', '것', '것과 같이', '것들', '게다가', '게우다', '겨우', '견지에서', '결과에 이르다', '결국', '결론을 낼 수 있다', '겸사겸사', '고려하면', '고로', '곧', '공동으로', '과', '과연', '관계가 있다', '관계없이', '관련이 있다', '관하여', '관한', '관해서는', '구', '구체적으로', '구토하다', '그', '그들', '그때', '그래', '그래도', '그래서', '그러나', '그러니', '그러니까', '그러면', '그러므로', '그러한즉', '그런 까닭에', '그런데', '그런즉', '그럼', '그럼에도 불구하고', '그렇게 함으로써', '그렇지', '그렇지 않다면', '그렇지 않으면', '그렇지만', '그렇지않으면', '그리고', '그리하여', '그만이다', '그에 따르는', '그위에', '그저', '그중에서', '그치지 않다', '근거로', '근거하여', '기대여', '기점으로', '기준으로', '기타', '까닭으로', '까악', '까지', '까지 미치다', '까지도', '꽈당', '끙끙', '끼익', '나', '나머지는', '남들', '남짓', '너', '너희', '너희들', '네', '넷', '년', '논하지 않다', '놀라다', '누가 알겠는가', '누구', '다른', '다른 방면으로', '다만', '다섯', '다소', '다수', '다시 말하자면', '다시말하면', '다음', '다음에', '다음으로', '단지', '답다', '당신', '당장', '대로 하다', '대하면', '대하여', '대해 말하자면', '대해서', '댕그', '더구나', '더군다나', '더라도', '더불어', '더욱더', '더욱이는', '도달하다', '도착하다', '동시에', '동안', '된바에야', '된이상', '두번째로', '둘', '둥둥', '뒤따라', '뒤이어', '든간에', '들', '등', '등등', '딩동', '따라', '따라서', '따위', '따지지 않다', '딱', '때', '때가 되어', '때문에', '또', '또한', '뚝뚝', '라 해도', '령', '로', '로 인하여', '로부터', '로써', '륙', '를', '마음대로', '마저', '마저도', '마치', '막론하고', '만 못하다', '만약', '만약에', '만은 아니다', '만이 아니다', '만일', '만큼', '말하자면', '말할것도 없고', '매', '매번', '메쓰겁다', '몇', '모', '모두', '무렵', '무릎쓰고', '무슨', '무엇', '무엇때문에', '물론', '및', '바꾸어말하면', '바꾸어말하자면', '바꾸어서 말하면', '바꾸어서 한다면', '바꿔 말하면', '바로', '바와같이', '밖에 안된다', '반대로', '반대로 말하자면', '반드시', '버금', '보는데서', '보다더', '보드득', '본대로', '봐', '봐라', '부류의 사람들', '부터', '불구하고', '불문하고', '붕붕', '비걱거리다', '비교적', '비길수 없다', '비로소', '비록', '비슷하다', '비추어 보아', '비하면', '뿐만 아니라', '뿐만아니라', '뿐이다', '삐걱', '삐걱거리다', '사', '삼', '상대적으로 말하자면', '생각한대로', '설령', '설마', '설사', '셋', '소생', '소인', '솨', '쉿', '습니까', '습니다', '시각', '시간', '시작하여', '시초에', '시키다', '실로', '심지어', '아', '아니', '아니나다를가', '아니라면', '아니면', '아니었다면', '아래윗', '아무거나', '아무도', '아야', '아울러', '아이', '아이고', '아이구', '아이야', '아이쿠', '아하', '아홉', '안 그러면', '않기 위하여', '않기 위해서', '알 수 있다', '알았어', '앗', '앞에서', '앞의것', '야', '약간', '양자', '어', '어기여차', '어느', '어느 년도', '어느것', '어느곳', '어느때', '어느쪽', '어느해', '어디', '어때', '어떠한', '어떤', '어떤것', '어떤것들', '어떻게', '어떻해', '어이', '어째서', '어쨋든', '어쩔수 없다', '어찌', '어찌됏든', '어찌됏어', '어찌하든지', '어찌하여', '언제', '언젠가', '얼마', '얼마 안 되는 것', '얼마간', '얼마나', '얼마든지', '얼마만큼', '얼마큼', '엉엉', '에', '에 가서', '에 달려 있다', '에 대해', '에 있다', '에 한하다', '에게', '에서', '여', '여기', '여덟', '여러분', '여보시오', '여부', '여섯', '여전히', '여차', '연관되다', '연이서', '영', '영차', '옆사람', '예', '예를 들면', '예를 들자면', '예컨대', '예하면', '오', '오로지', '오르다', '오자마자', '오직', '오호', '오히려', '와', '와 같은 사람들', '와르르', '와아', '왜', '왜냐하면', '외에도', '요만큼', '요만한 것', '요만한걸', '요컨대', '우르르', '우리', '우리들', '우선', '우에 종합한것과같이', '운운', '월', '위에서 서술한바와같이', '위하여', '위해서', '윙윙', '육', '으로', '으로 인하여', '으로서', '으로써', '을', '응', '응당', '의', '의거하여', '의지하여', '의해', '의해되다', '의해서', '이', '이 되다', '이 때문에', '이 밖에', '이 외에', '이 정도의', '이것', '이곳', '이때', '이라면', '이래', '이러이러하다', '이러한', '이런', '이럴정도로', '이렇게 많은 것', '이렇게되면', '이렇게말하자면', '이렇구나', '이로 인하여', '이르기까지', '이리하여', '이만큼', '이번', '이봐', '이상', '이어서', '이었다', '이와 같다', '이와 같은', '이와 반대로', '이와같다면', '이외에도', '이용하여', '이유만으로', '이젠', '이지만', '이쪽', '이천구', '이천육', '이천칠', '이천팔', '인 듯하다', '인젠', '일', '일것이다', '일곱', '일단', '일때', '일반적으로', '일지라도', '임에 틀림없다', '입각하여', '입장에서', '잇따라', '있다', '자', '자기', '자기집', '자마자', '자신', '잠깐', '잠시', '저', '저것', '저것만큼', '저기', '저쪽', '저희', '전부', '전자', '전후', '점에서 보아', '정도에 이르다', '제', '제각기', '제외하고', '조금', '조차', '조차도', '졸졸', '좀', '좋아', '좍좍', '주룩주룩', '주저하지 않고', '줄은 몰랏다', '줄은모른다', '중에서', '중의하나', '즈음하여', '즉', '즉시', '지든지', '지만', '지말고', '진짜로', '쪽으로', '차라리', '참', '참나', '첫번째로', '쳇', '총적으로', '총적으로 말하면', '총적으로 보면', '칠', '콸콸', '쾅쾅', '쿵', '타다', '타인', '탕탕', '토하다', '통하여', '툭', '퉤', '틈타', '팍', '팔', '퍽', '펄렁', '하', '하게될것이다', '하게하다', '하겠는가', '하고 있다', '하고있었다', '하곤하였다', '하구나', '하기 때문에', '하기 위하여', '하기는한데', '하기만 하면', '하기보다는', '하기에', '하나', '하느니', '하는 김에', '하는 편이 낫다', '하는것도', '하는것만 못하다', '하는것이 낫다', '하는바', '하더라도', '하도다', '하도록시키다', '하도록하다', '하든지', '하려고하다', '하마터면', '하면 할수록', '하면된다', '하면서', '하물며', '하여금', '하여야', '하자마자', '하지 않는다면', '하지 않도록', '하지마', '하지마라', '하지만', '하하', '한 까닭에', '한 이유는', '한 후', '한다면', '한다면 몰라도', '한데', '한마디', '한적이있다', '한켠으로는', '한항목', '할 따름이다', '할 생각이다', '할 줄 안다', '할 지경이다', '할 힘이 있다', '할때', '할만하다', '할망정', '할뿐', '할수있다', '할수있어', '할줄알다', '할지라도', '할지언정', '함께', '해도된다', '해도좋다', '해봐요', '해서는 안된다', '해야한다', '해요', '했어요', '향하다', '향하여', '향해서', '허', '허걱', '허허', '헉', '헉헉', '헐떡헐떡', '형식으로 쓰여', '혹시', '혹은', '혼자', '훨씬', '휘익', '휴', '흐흐', '흥', '힘입어', '︿', '！', '＃', '＄', '％', '＆', '（', '）', '＊', '＋', '，', '０', '１', '２', '３', '４', '５', '６', '７', '８', '９', '：', '；', '＜', '＞', '？', '＠', '［', '］', '｛', '｜', '｝', '～', '￥', '']\n"
     ]
    }
   ],
   "source": [
    "r = requests.get(\"https://data.hossam.kr/korean_stopwords.txt\")\n",
    "r.encoding = 'utf-8'\n",
    "stopwords = r.text.split(\"\\n\")\n",
    "print(stopwords)"
   ]
  },
  {
   "cell_type": "markdown",
   "metadata": {},
   "source": [
    "## #04. 데이터 전처리\n",
    "### 뉴스기사에서 영어 특수무자를 제거하고 한글맘ㄴ 남기기\n"
   ]
  },
  {
   "cell_type": "code",
   "execution_count": 5,
   "metadata": {},
   "outputs": [],
   "source": [
    "df = origin.copy()"
   ]
  },
  {
   "cell_type": "code",
   "execution_count": 6,
   "metadata": {},
   "outputs": [
    {
     "name": "stdout",
     "output_type": "stream",
     "text": [
      "데이터 크기:  (62326,)\n",
      "결측치 크기:  450\n"
     ]
    }
   ],
   "source": [
    "\n",
    "\n",
    "## 한글을 제외한 나머지글자들을 빈 문자열로 대체\n",
    "\n",
    "df['content'] = df['content'].str.replace(\"[^ㄱ-ㅎㅏ-ㅣ가-힣 ]\",\"\",regex=True)\n",
    "df['content'].replace('',np.nan,inplace=True)\n",
    "\n",
    "# 전체 데이터 셋 크기 확인\n",
    "print('데이터 크기: ', df['content'].shape)\n",
    "\n",
    "# 결측치 확인\n",
    "print('결측치 크기: ', df['content'].isna().sum())"
   ]
  },
  {
   "cell_type": "code",
   "execution_count": 7,
   "metadata": {},
   "outputs": [],
   "source": [
    "df.drop('중복',axis=1,inplace=True)"
   ]
  },
  {
   "cell_type": "code",
   "execution_count": 8,
   "metadata": {},
   "outputs": [
    {
     "data": {
      "text/html": [
       "<div>\n",
       "<style scoped>\n",
       "    .dataframe tbody tr th:only-of-type {\n",
       "        vertical-align: middle;\n",
       "    }\n",
       "\n",
       "    .dataframe tbody tr th {\n",
       "        vertical-align: top;\n",
       "    }\n",
       "\n",
       "    .dataframe thead th {\n",
       "        text-align: right;\n",
       "    }\n",
       "</style>\n",
       "<table border=\"1\" class=\"dataframe\">\n",
       "  <thead>\n",
       "    <tr style=\"text-align: right;\">\n",
       "      <th></th>\n",
       "      <th>Unnamed: 0</th>\n",
       "      <th>category</th>\n",
       "      <th>content</th>\n",
       "    </tr>\n",
       "  </thead>\n",
       "  <tbody>\n",
       "    <tr>\n",
       "      <th>0</th>\n",
       "      <td>0</td>\n",
       "      <td>IT,과학</td>\n",
       "      <td>넷플릭스 망 사용료 소송 취하분쟁 마침표</td>\n",
       "    </tr>\n",
       "    <tr>\n",
       "      <th>1</th>\n",
       "      <td>1</td>\n",
       "      <td>IT,과학</td>\n",
       "      <td>넷플릭스와 텔레콤브로드밴드가 년 시작한 지난한 법정 다툼을 끝냈다 일 오전 양측은 ...</td>\n",
       "    </tr>\n",
       "    <tr>\n",
       "      <th>2</th>\n",
       "      <td>2</td>\n",
       "      <td>IT,과학</td>\n",
       "      <td>앞서 는 넷플릭스 트래픽이 매년 폭증하면서 전송 비용 부담이 막대하지만 넷플릭스가 ...</td>\n",
       "    </tr>\n",
       "    <tr>\n",
       "      <th>3</th>\n",
       "      <td>3</td>\n",
       "      <td>IT,과학</td>\n",
       "      <td>와 넷플릭스가 화해 모드로 들어가면서 그간 인터넷 사 중 유일하게  플랫폼 내에서 ...</td>\n",
       "    </tr>\n",
       "    <tr>\n",
       "      <th>4</th>\n",
       "      <td>4</td>\n",
       "      <td>IT,과학</td>\n",
       "      <td>다만 양측은 망 사용료 지불 등 구체적인 계약 내용에 대해서는 함구했다 최환석  경...</td>\n",
       "    </tr>\n",
       "  </tbody>\n",
       "</table>\n",
       "</div>"
      ],
      "text/plain": [
       "   Unnamed: 0 category                                            content\n",
       "0           0    IT,과학                             넷플릭스 망 사용료 소송 취하분쟁 마침표\n",
       "1           1    IT,과학  넷플릭스와 텔레콤브로드밴드가 년 시작한 지난한 법정 다툼을 끝냈다 일 오전 양측은 ...\n",
       "2           2    IT,과학  앞서 는 넷플릭스 트래픽이 매년 폭증하면서 전송 비용 부담이 막대하지만 넷플릭스가 ...\n",
       "3           3    IT,과학  와 넷플릭스가 화해 모드로 들어가면서 그간 인터넷 사 중 유일하게  플랫폼 내에서 ...\n",
       "4           4    IT,과학  다만 양측은 망 사용료 지불 등 구체적인 계약 내용에 대해서는 함구했다 최환석  경..."
      ]
     },
     "execution_count": 8,
     "metadata": {},
     "output_type": "execute_result"
    }
   ],
   "source": [
    "df.head()"
   ]
  },
  {
   "cell_type": "code",
   "execution_count": 9,
   "metadata": {},
   "outputs": [
    {
     "name": "stdout",
     "output_type": "stream",
     "text": [
      "결측치 크기:  0\n"
     ]
    }
   ],
   "source": [
    "df.dropna(inplace=True)\n",
    "print('결측치 크기: ', df['content'].isna().sum())"
   ]
  },
  {
   "cell_type": "markdown",
   "metadata": {},
   "source": [
    "### 종속변수 라벨링"
   ]
  },
  {
   "cell_type": "code",
   "execution_count": 10,
   "metadata": {},
   "outputs": [
    {
     "data": {
      "text/plain": [
       "['IT,과학', '경제', '사회', '생활,문화', '세계', '정치']"
      ]
     },
     "execution_count": 10,
     "metadata": {},
     "output_type": "execute_result"
    }
   ],
   "source": [
    "category = list(df['category'].unique())\n",
    "category"
   ]
  },
  {
   "cell_type": "markdown",
   "metadata": {},
   "source": [
    "종속변수 값의 종류를 딕셔서니로 변환"
   ]
  },
  {
   "cell_type": "code",
   "execution_count": 11,
   "metadata": {},
   "outputs": [
    {
     "data": {
      "text/plain": [
       "{'IT,과학': 0, '경제': 1, '사회': 2, '생활,문화': 3, '세계': 4, '정치': 5}"
      ]
     },
     "execution_count": 11,
     "metadata": {},
     "output_type": "execute_result"
    }
   ],
   "source": [
    "cate_dict = {}\n",
    "for i, v in enumerate(category):\n",
    "    cate_dict[v] = i\n",
    "    \n",
    "cate_dict"
   ]
  },
  {
   "cell_type": "markdown",
   "metadata": {},
   "source": [
    "#### 종속변수 라벨링\n"
   ]
  },
  {
   "cell_type": "code",
   "execution_count": 12,
   "metadata": {},
   "outputs": [
    {
     "data": {
      "text/plain": [
       "array([0, 1, 2, 3, 4, 5], dtype=int64)"
      ]
     },
     "execution_count": 12,
     "metadata": {},
     "output_type": "execute_result"
    }
   ],
   "source": [
    "df['category'] = df['category'].map(cate_dict)\n",
    "df['category'].unique()"
   ]
  },
  {
   "cell_type": "markdown",
   "metadata": {},
   "source": [
    "### 뉴스기사 형태소 분석"
   ]
  },
  {
   "cell_type": "code",
   "execution_count": 13,
   "metadata": {},
   "outputs": [],
   "source": [
    "import sys"
   ]
  },
  {
   "cell_type": "code",
   "execution_count": 21,
   "metadata": {},
   "outputs": [
    {
     "data": {
      "text/plain": [
       "[['넷플릭스', '망', '사용료', '소송', '취하', '분쟁', '마침표'],\n",
       " ['넷플릭스',\n",
       "  '텔레콤',\n",
       "  '브로드밴드',\n",
       "  '시작',\n",
       "  '지난',\n",
       "  '법정',\n",
       "  '다툼',\n",
       "  '끝냈',\n",
       "  '다',\n",
       "  '오전',\n",
       "  '양측',\n",
       "  '은',\n",
       "  '망',\n",
       "  '사용료',\n",
       "  '관련',\n",
       "  '소송',\n",
       "  '취하',\n",
       "  '고',\n",
       "  '분쟁',\n",
       "  '종결',\n",
       "  '했',\n",
       "  '다',\n",
       "  '인공지능',\n",
       "  '기술',\n",
       "  '활용',\n",
       "  '해',\n",
       "  '고객',\n",
       "  '편익',\n",
       "  '강화',\n",
       "  '위한',\n",
       "  '전략',\n",
       "  '파트너',\n",
       "  '십',\n",
       "  '체결',\n",
       "  '며',\n",
       "  '협력',\n",
       "  '관계',\n",
       "  '구축',\n",
       "  '기',\n",
       "  '했',\n",
       "  '다'],\n",
       " ['앞서',\n",
       "  '는',\n",
       "  '넷플릭스',\n",
       "  '트래픽',\n",
       "  '매년',\n",
       "  '폭',\n",
       "  '증하',\n",
       "  '면서',\n",
       "  '전송',\n",
       "  '비용',\n",
       "  '부담',\n",
       "  '막대',\n",
       "  '넷플릭스',\n",
       "  '망',\n",
       "  '사용료',\n",
       "  '협상',\n",
       "  '응하',\n",
       "  '는다며',\n",
       "  '방송',\n",
       "  '통신',\n",
       "  '위원회',\n",
       "  '재정',\n",
       "  '신청',\n",
       "  '했',\n",
       "  '다',\n",
       "  '넷플릭스',\n",
       "  '는',\n",
       "  '망',\n",
       "  '사용료',\n",
       "  '지불',\n",
       "  '할',\n",
       "  '의무',\n",
       "  '다며',\n",
       "  '서울',\n",
       "  '지방',\n",
       "  '법원',\n",
       "  '채무',\n",
       "  '부존',\n",
       "  '재',\n",
       "  '확인',\n",
       "  '소송',\n",
       "  '제기',\n",
       "  '했',\n",
       "  '다',\n",
       "  '심',\n",
       "  '법원',\n",
       "  '은',\n",
       "  '손',\n",
       "  '줬',\n",
       "  '다',\n",
       "  '이후',\n",
       "  '넷플릭스',\n",
       "  '항소',\n",
       "  '고',\n",
       "  '반소',\n",
       "  '제기',\n",
       "  '했',\n",
       "  '파트너십',\n",
       "  '체결',\n",
       "  '싸움',\n",
       "  '끝났',\n",
       "  '다']]"
      ]
     },
     "execution_count": 21,
     "metadata": {},
     "output_type": "execute_result"
    }
   ],
   "source": [
    "# if sys.platform == 'win32':\n",
    "#     mecab = Mecab(dicpath=\"C:\\\\mecab\\\\mecab-ko-dic\")\n",
    "# else:\n",
    "#     mecab = Mecab()\n",
    "mecab = Mecab(dicpath=\"C:\\\\mecab\\\\mecab-ko-dic\")\n",
    "# 문장 내 형태소들을 저장할 리스트\n",
    "word_set = []\n",
    "\n",
    "# 기사내용에 대한 반복처리\n",
    "for i , v in enumerate(df['content']):\n",
    "    morphs = mecab.morphs(v)\n",
    "    # print(morphs)\n",
    "    # 형태소 분석 결과에서 불용어를 제외한 별도의 리스트로 생성\n",
    "\n",
    "    confirm_words =[]\n",
    "    for j in morphs:\n",
    "        if j not in stopwords:\n",
    "            confirm_words.append(j)\n",
    "\n",
    "    # 불용어를 제외한 형태소 리스트를 통째로 word_Set에 저장ㅇ함\n",
    "    # -> word_Set 은 2차원 리스트가 된다ㅏ. 1차원이 기사 하나 단위\n",
    "    word_set.append(confirm_words)\n",
    "\n",
    "word_set[:3]"
   ]
  },
  {
   "cell_type": "markdown",
   "metadata": {},
   "source": [
    "### 형태소 토큰화"
   ]
  },
  {
   "cell_type": "markdown",
   "metadata": {},
   "source": [
    "#### 전체 단어에 대한 토큰화"
   ]
  },
  {
   "cell_type": "code",
   "execution_count": 22,
   "metadata": {},
   "outputs": [
    {
     "name": "stdout",
     "output_type": "stream",
     "text": [
      "전체 단어의 수 18795\n"
     ]
    }
   ],
   "source": [
    "tokenizer = Tokenizer()\n",
    "tokenizer.fit_on_texts(word_set)\n",
    "\n",
    "print(f'전체 단어의 수 {len(tokenizer.word_index)}')"
   ]
  },
  {
   "cell_type": "markdown",
   "metadata": {},
   "source": [
    "### 3회 이상 자주 등장하는 단어의 수 구하기ㅏ"
   ]
  },
  {
   "cell_type": "code",
   "execution_count": 25,
   "metadata": {},
   "outputs": [
    {
     "name": "stdout",
     "output_type": "stream",
     "text": [
      "단어 집합(vocabulary)의 크기 : 18795\n",
      "등장 빈도가 3번 미만인 희귀 단어의 수: 4128\n",
      "단어 집합에서 희귀 단어의 비율: 21.963288108539505\n",
      "전체 등장 빈도에서 희귀 단어 등장 빈도 비율: 0.37056865242728004\n",
      "단어 집합의 크기 : 14669\n"
     ]
    }
   ],
   "source": [
    "# 사용 빈도가 높다고 판단할 등장회수\n",
    "threshold = 3\n",
    "\n",
    "# 전체 단어의 수 \n",
    "total_cnt = len(tokenizer.word_index)\n",
    "\n",
    "# 등장 빈도수가 threshold 보다 작은 단어의 갯수\n",
    "rare_cnt = 0 \n",
    "# 훈련 데이터의 전체 단어 빈도수 총합\n",
    "total_freq = 0\n",
    "\n",
    "# 등장 빈도수가 threshold보다 작은 단어의 등장 빈도수의 총 합\n",
    "rare_freq = 0\n",
    "\n",
    "# 단어와 빈도수의 쌍을 key, value로 받는다\n",
    "for key,value in tokenizer.word_counts.items():\n",
    "    total_freq = total_freq + value\n",
    "    # 단어의 등장 빈도수가 threshold 보다 작으면\n",
    "    if (value < threshold):\n",
    "        rare_cnt +=1\n",
    "        rare_freq = rare_freq + value\n",
    "\n",
    "print('단어 집합(vocabulary)의 크기 :',total_cnt)\n",
    "print('등장 빈도가 %s번 미만인 희귀 단어의 수: %s' % (threshold, rare_cnt))\n",
    "print(\"단어 집합에서 희귀 단어의 비율:\", (rare_cnt / total_cnt)*100)\n",
    "print(\"전체 등장 빈도에서 희귀 단어 등장 빈도 비율:\", (rare_freq / total_freq)*100)\n",
    "\n",
    "# 자주 등장하는 단어 집합의 크기 구하기 -> 이 값이 첫 번째 학습층의 input 수가 된다.\n",
    "vocab_size = total_cnt - rare_cnt + 2\n",
    "print('단어 집합의 크기 :', vocab_size)"
   ]
  },
  {
   "cell_type": "markdown",
   "metadata": {},
   "source": [
    "### 자주 등장하는 단어를 제외한 나머지 단어를 oov로 처리하여 최종 토큰화"
   ]
  },
  {
   "cell_type": "code",
   "execution_count": 26,
   "metadata": {},
   "outputs": [
    {
     "name": "stdout",
     "output_type": "stream",
     "text": [
      "토큰의 크기 61876\n"
     ]
    }
   ],
   "source": [
    "tokenizer = Tokenizer(vocab_size,oov_token=\"OOV\")\n",
    "tokenizer.fit_on_texts(word_set)\n",
    "token_set = tokenizer.texts_to_sequences(word_set)\n",
    "print('토큰의 크기', len(token_set))"
   ]
  },
  {
   "cell_type": "markdown",
   "metadata": {},
   "source": [
    "### 토큰화 결과의 길이 0인 항목 찾기"
   ]
  },
  {
   "cell_type": "code",
   "execution_count": 30,
   "metadata": {},
   "outputs": [
    {
     "name": "stdout",
     "output_type": "stream",
     "text": [
      "길이가 0인 항목의 수:  94\n",
      "길이가 0인 항목의 인덱스 모음:  [9317, 9757, 9759, 9762, 9768, 10204, 12973, 13126, 13128, 13131, 13137, 14613, 16798, 16800, 16803, 16809, 19102, 19104, 19107, 19113, 19268, 24799, 24802, 24807, 24811, 24818, 24823, 24826, 24831, 24832, 24834, 24835, 24837, 24839, 24840, 24842, 24843, 24845, 24846, 24848, 24849, 24851, 24853, 24854, 24856, 24858, 24860, 24861, 24863, 24864, 24866, 24868, 24869, 24871, 24873, 24874, 24876, 24878, 24880, 24882, 24884, 24885, 24887, 24889, 24891, 24893, 24895, 24896, 24898, 24900, 24902, 24904, 24906, 24907, 24909, 24910, 24912, 24913, 24915, 24917, 24919, 24920, 24922, 24924, 49555, 49564, 51986, 51995, 54686, 54700, 55425, 55439, 56225, 56239]\n"
     ]
    }
   ],
   "source": [
    "# 토큰화 결과 길이가 0 인 항목의 index 찾기\n",
    "drop_target_index = []\n",
    "\n",
    "for i,v in enumerate(token_set):\n",
    "    if len(v)<1:\n",
    "        drop_target_index.append(i)\n",
    "\n",
    "\n",
    "print(\"길이가 0인 항목의 수: \", len(drop_target_index))\n",
    "\n",
    "print(\"길이가 0인 항목의 인덱스 모음: \", drop_target_index)\n"
   ]
  },
  {
   "cell_type": "markdown",
   "metadata": {},
   "source": [
    "### 토큰화 결과의 길이가 0인 항목 삭제"
   ]
  },
  {
   "cell_type": "code",
   "execution_count": 31,
   "metadata": {},
   "outputs": [],
   "source": [
    "token_set2 = np.asarray(token_set,dtype='object')\n"
   ]
  },
  {
   "cell_type": "markdown",
   "metadata": {},
   "source": [
    "### 토큰화 결과에서 길이가 0인 항목을 삭제\n"
   ]
  },
  {
   "cell_type": "code",
   "execution_count": 33,
   "metadata": {},
   "outputs": [
    {
     "name": "stdout",
     "output_type": "stream",
     "text": [
      "독립변수(덧글) 데이터 수:  61782\n",
      "종속변수(레이블) 데이터 수:  61782\n"
     ]
    }
   ],
   "source": [
    "# 토큰 결과에서 해당 위치의 항목들을 삭제한다.\n",
    "fill_token_set = np.delete(token_set2,drop_target_index,axis=0)\n",
    "# 종속변수에서도 같은 위치의 항목들을 삭제해야 한다.\n",
    "label_set = np.delete(df['category'].values,drop_target_index,axis=0)\n",
    "\n",
    "print(\"독립변수(덧글) 데이터 수: \", len(fill_token_set))\n",
    "print(\"종속변수(레이블) 데이터 수: \", len(label_set))"
   ]
  },
  {
   "cell_type": "markdown",
   "metadata": {},
   "source": [
    "## #05. 탐색적 데이터 분석\n",
    "\n",
    "### 1) 각 문장별로 몇개의 단어를 포함하고 있는지 확인"
   ]
  },
  {
   "cell_type": "code",
   "execution_count": 35,
   "metadata": {},
   "outputs": [
    {
     "name": "stdout",
     "output_type": "stream",
     "text": [
      "기사의 최대 단어수 : 234\n",
      "기사의 최소 단어수 : 1\n"
     ]
    }
   ],
   "source": [
    "word_count = []\n",
    "for s in fill_token_set:\n",
    "    word_count.append(len(s))\n",
    "max_word_count = max(word_count)\n",
    "min_word_count = min(word_count)\n",
    "\n",
    "print('기사의 최대 단어수 :',max_word_count)\n",
    "print('기사의 최소 단어수 :',min_word_count)\n"
   ]
  },
  {
   "cell_type": "markdown",
   "metadata": {},
   "source": [
    "### 2) 히스토그램으로 단어 분포수 확인\n"
   ]
  },
  {
   "cell_type": "code",
   "execution_count": 39,
   "metadata": {},
   "outputs": [
    {
     "name": "stderr",
     "output_type": "stream",
     "text": [
      "c:\\Users\\Hamin\\AppData\\Local\\Programs\\Python\\Python39\\lib\\site-packages\\seaborn\\_oldcore.py:1498: FutureWarning: is_categorical_dtype is deprecated and will be removed in a future version. Use isinstance(dtype, CategoricalDtype) instead\n",
      "  if pd.api.types.is_categorical_dtype(vector):\n",
      "c:\\Users\\Hamin\\AppData\\Local\\Programs\\Python\\Python39\\lib\\site-packages\\seaborn\\_oldcore.py:1119: FutureWarning: use_inf_as_na option is deprecated and will be removed in a future version. Convert inf values to NaN before operating instead.\n",
      "  with pd.option_context('mode.use_inf_as_na', True):\n"
     ]
    },
    {
     "data": {
      "image/png": "[encoded data removed]",
      "text/plain": [
       "<Figure size 1000x500 with 1 Axes>"
      ]
     },
     "metadata": {},
     "output_type": "display_data"
    }
   ],
   "source": [
    "# 히스토그램의 범위 산정\n",
    "hist_values, hist_bins = np.histogram(word_count, range=(0, max_word_count), bins=10)\n",
    "hist_bins = hist_bins.astype(np.int64)\n",
    "\n",
    "plt.figure(figsize=(10, 5))\n",
    "sns.histplot(word_count, bins=10, binrange=(0, max_word_count))\n",
    "plt.xticks(hist_bins, hist_bins)\n",
    "\n",
    "for i, v in enumerate(hist_values):\n",
    "    x = hist_bins[i] + ((hist_bins[i+1] - hist_bins[i]) / 2)\n",
    "    plt.text(x=x, y=v, s=str(v), fontsize=12, verticalalignment='bottom', horizontalalignment='center')\n",
    "\n",
    "plt.show()\n",
    "plt.close()"
   ]
  },
  {
   "cell_type": "markdown",
   "metadata": {},
   "source": [
    "## #06. 데이터 셋 분할\n"
   ]
  },
  {
   "cell_type": "code",
   "execution_count": 40,
   "metadata": {},
   "outputs": [],
   "source": [
    "np.random.seed(156)\n"
   ]
  },
  {
   "cell_type": "markdown",
   "metadata": {},
   "source": [
    "### 패딩처리"
   ]
  },
  {
   "cell_type": "code",
   "execution_count": 41,
   "metadata": {},
   "outputs": [
    {
     "data": {
      "text/plain": [
       "array([[    0,     0,     0, ...,  1274,   878,  6300],\n",
       "       [    0,     0,     0, ...,    12,     5,     3],\n",
       "       [    0,     0,     0, ...,  6640, 10126,     3],\n",
       "       ...,\n",
       "       [    0,     0,     0, ...,     8,   447,   152],\n",
       "       [    0,     0,     0, ...,     0,     0,   462],\n",
       "       [    0,     0,     0, ...,     0,     0,  1496]])"
      ]
     },
     "execution_count": 41,
     "metadata": {},
     "output_type": "execute_result"
    }
   ],
   "source": [
    "max_word_count = max(word_count)\n",
    "pad_token_set = pad_sequences(fill_token_set,maxlen=max_word_count)\n",
    "\n",
    "pad_token_set\n"
   ]
  },
  {
   "cell_type": "code",
   "execution_count": 43,
   "metadata": {},
   "outputs": [
    {
     "data": {
      "text/plain": [
       "((43247, 234), (18535, 234), (43247,), (18535,))"
      ]
     },
     "execution_count": 43,
     "metadata": {},
     "output_type": "execute_result"
    }
   ],
   "source": [
    "x_train,x_test,y_train,y_test = train_test_split(pad_token_set,label_set,test_size=0.3)\n",
    "x_train.shape, x_test.shape,y_train.shape,y_test.shape"
   ]
  },
  {
   "cell_type": "markdown",
   "metadata": {},
   "source": [
    "#### 종속변수 one - hot -encoding \n"
   ]
  },
  {
   "cell_type": "code",
   "execution_count": 46,
   "metadata": {},
   "outputs": [
    {
     "name": "stdout",
     "output_type": "stream",
     "text": [
      "[[0. 0. 0. 1. 0. 0.]\n",
      " [0. 1. 0. 0. 0. 0.]\n",
      " [0. 1. 0. 0. 0. 0.]\n",
      " ...\n",
      " [1. 0. 0. 0. 0. 0.]\n",
      " [1. 0. 0. 0. 0. 0.]\n",
      " [0. 0. 0. 0. 0. 1.]]\n"
     ]
    }
   ],
   "source": [
    "y_train_onehot = to_categorical(y_train)\n",
    "y_test_onehot = to_categorical(y_test)\n",
    "print(y_test_onehot)"
   ]
  },
  {
   "cell_type": "markdown",
   "metadata": {},
   "source": [
    "## #07. 모델 개발\n"
   ]
  },
  {
   "cell_type": "code",
   "execution_count": 47,
   "metadata": {},
   "outputs": [
    {
     "name": "stdout",
     "output_type": "stream",
     "text": [
      "Model: \"sequential\"\n",
      "_________________________________________________________________\n",
      " Layer (type)                Output Shape              Param #   \n",
      "=================================================================\n",
      " embedding (Embedding)       (None, None, 64)          938816    \n",
      "                                                                 \n",
      " gru (GRU)                   (None, 128)               74496     \n",
      "                                                                 \n",
      " dense (Dense)               (None, 6)                 774       \n",
      "                                                                 \n",
      "=================================================================\n",
      "Total params: 1,014,086\n",
      "Trainable params: 1,014,086\n",
      "Non-trainable params: 0\n",
      "_________________________________________________________________\n",
      "None\n"
     ]
    }
   ],
   "source": [
    "model = Sequential()\n",
    "# input_dim의 크기는 토큰 생성시 지정한 최대 단어수(vocab_size)와 동일하게 설정\n",
    "# output_dim의 크기는 input_dim보다 작은 값 중에서 설정\n",
    "\n",
    "model.add(Embedding(input_dim = vocab_size,output_dim=(64)))\n",
    "model.add(GRU(128))\n",
    "model.add(Dense(6,activation = 'softmax'))\n",
    "model.compile(optimizer='adam', loss='categorical_crossentropy', metrics=['acc'])\n",
    "print(model.summary())\n",
    "\n"
   ]
  },
  {
   "cell_type": "markdown",
   "metadata": {},
   "source": [
    "### 학습하기"
   ]
  },
  {
   "cell_type": "code",
   "execution_count": 48,
   "metadata": {},
   "outputs": [],
   "source": [
    "# 파일이 저장될 경로(폴더) 지정 (한글,공백이 포함되어 있을 경우 에러 발생함)\n",
    "if sys.platform == 'win32':\n",
    "    checkpoint_path = \"D:\\\\tensorflow_checkpoint\\\\cp-{epoch:04d}-ckpt\"\n",
    "else:\n",
    "    checkpoint_path = \"./model07-cp-{epoch:04d}-ckpt\""
   ]
  },
  {
   "cell_type": "code",
   "execution_count": null,
   "metadata": {},
   "outputs": [],
   "source": [
    "result = model.fit(x_train, y_train_onehot, epochs=500, validation_data=(x_test, y_test_one_hot), callbacks = [\n",
    "    EarlyStopping(monitor = 'val_loss', patience=5, verbose = 1),\n",
    "    ReduceLROnPlateau(monitor= \"val_loss\", patience=3, factor = 0.5, min_lr=0.0001, verbose=1),\n",
    "    ModelCheckpoint(filepath=checkpoint_path, monitor='val_loss', verbose=1, save_best_only=True)\n",
    "])"
   ]
  },
  {
   "cell_type": "markdown",
   "metadata": {},
   "source": []
  }
 ],
 "metadata": {
  "kernelspec": {
   "display_name": "Python 3",
   "language": "python",
   "name": "python3"
  },
  "language_info": {
   "codemirror_mode": {
    "name": "ipython",
    "version": 3
   },
   "file_extension": ".py",
   "mimetype": "text/x-python",
   "name": "python",
   "nbconvert_exporter": "python",
   "pygments_lexer": "ipython3",
   "version": "3.9.13"
  },
  "orig_nbformat": 4
 },
 "nbformat": 4,
 "nbformat_minor": 2
}
